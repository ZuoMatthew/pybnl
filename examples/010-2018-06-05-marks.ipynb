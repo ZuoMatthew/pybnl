{
 "cells": [
  {
   "cell_type": "code",
   "execution_count": 1,
   "metadata": {},
   "outputs": [
    {
     "name": "stdout",
     "output_type": "stream",
     "text": [
      "Christian Schuhegger \n",
      "last updated: 2018-06-12 \n",
      "\n",
      "CPython 3.6.4\n",
      "IPython 6.2.1\n",
      "\n",
      "numpy 1.14.2\n",
      "xarray 0.10.3\n",
      "scipy 1.0.1\n",
      "pandas 0.22.0\n",
      "matplotlib 2.2.2\n",
      "seaborn 0.8.1\n",
      "qgrid 1.0.2\n",
      "rpy2 2.9.1\n",
      "libpgm n\u0007\n",
      "pgmpy n\u0007\n",
      "networkx 2.1\n",
      "graphviz 0.8.3\n",
      "pybnl n\u0007\n",
      "pytest 3.5.0\n"
     ]
    }
   ],
   "source": [
    "%load_ext watermark\n",
    "%watermark -a 'Christian Schuhegger' -u -d -v -p numpy,xarray,scipy,pandas,matplotlib,seaborn,qgrid,rpy2,libpgm,pgmpy,networkx,graphviz,pybnl,pytest"
   ]
  },
  {
   "cell_type": "code",
   "execution_count": 2,
   "metadata": {},
   "outputs": [],
   "source": [
    "%matplotlib inline\n",
    "import numpy as np, pandas as pd, xarray as xr, matplotlib.pyplot as plt, seaborn as sns\n",
    "import networkx as nx, graphviz, networkx.algorithms.dag\n",
    "\n",
    "pd.set_option('display.max_columns', 500)\n",
    "pd.set_option('display.width', 1000)\n",
    "# pd.set_option('display.float_format', lambda x: '%.2f' % x)\n",
    "np.set_printoptions(edgeitems=10)\n",
    "np.set_printoptions(suppress=True)\n",
    "np.core.arrayprint._line_width = 180\n",
    "\n",
    "sns.set()"
   ]
  },
  {
   "cell_type": "code",
   "execution_count": 3,
   "metadata": {},
   "outputs": [
    {
     "data": {
      "text/html": [
       "<style>.container { width:70% !important; }</style>"
      ],
      "text/plain": [
       "<IPython.core.display.HTML object>"
      ]
     },
     "metadata": {},
     "output_type": "display_data"
    }
   ],
   "source": [
    "from IPython.display import display, HTML\n",
    "\n",
    "from IPython.display import display_html\n",
    "def display_side_by_side(*args):\n",
    "    html_str=''\n",
    "    for df in args:\n",
    "        if type(df) == np.ndarray:\n",
    "            df = pd.DataFrame(df)\n",
    "        html_str+=df.to_html()\n",
    "    html_str = html_str.replace('table','table style=\"display:inline\"')\n",
    "    # print(html_str)\n",
    "    display_html(html_str,raw=True)\n",
    "\n",
    "CSS = \"\"\"\n",
    ".output {\n",
    "    flex-direction: row;\n",
    "}\n",
    "\"\"\"\n",
    "\n",
    "display(HTML(\"<style>.container { width:70% !important; }</style>\"))"
   ]
  },
  {
   "cell_type": "code",
   "execution_count": 4,
   "metadata": {},
   "outputs": [
    {
     "name": "stderr",
     "output_type": "stream",
     "text": [
      "/media/disk2/home/cs/local/install/Anaconda3-5.1.0-Linux-x86_64/lib/python3.6/site-packages/rpy2/rinterface/__init__.py:145: RRuntimeWarning: Warning messages:\n",
      "\n",
      "  warnings.warn(x, RRuntimeWarning)\n",
      "/media/disk2/home/cs/local/install/Anaconda3-5.1.0-Linux-x86_64/lib/python3.6/site-packages/rpy2/rinterface/__init__.py:145: RRuntimeWarning: 1: \n",
      "  warnings.warn(x, RRuntimeWarning)\n",
      "/media/disk2/home/cs/local/install/Anaconda3-5.1.0-Linux-x86_64/lib/python3.6/site-packages/rpy2/rinterface/__init__.py:145: RRuntimeWarning: In value[[3L]](cond) :\n",
      "  warnings.warn(x, RRuntimeWarning)\n",
      "/media/disk2/home/cs/local/install/Anaconda3-5.1.0-Linux-x86_64/lib/python3.6/site-packages/rpy2/rinterface/__init__.py:145: RRuntimeWarning: \n",
      " \n",
      "  warnings.warn(x, RRuntimeWarning)\n",
      "/media/disk2/home/cs/local/install/Anaconda3-5.1.0-Linux-x86_64/lib/python3.6/site-packages/rpy2/rinterface/__init__.py:145: RRuntimeWarning:  \"getThreads\" not available for .C() for package \"RevoUtilsMath\"\n",
      "\n",
      "  warnings.warn(x, RRuntimeWarning)\n",
      "/media/disk2/home/cs/local/install/Anaconda3-5.1.0-Linux-x86_64/lib/python3.6/site-packages/rpy2/rinterface/__init__.py:145: RRuntimeWarning: 2: \n",
      "  warnings.warn(x, RRuntimeWarning)\n",
      "/media/disk2/home/cs/local/install/Anaconda3-5.1.0-Linux-x86_64/lib/python3.6/site-packages/rpy2/rinterface/__init__.py:145: RRuntimeWarning: 3: \n",
      "  warnings.warn(x, RRuntimeWarning)\n"
     ]
    }
   ],
   "source": [
    "%load_ext rpy2.ipython"
   ]
  },
  {
   "cell_type": "markdown",
   "metadata": {},
   "source": [
    "* [Making packages in R using devtools](https://uoftcoders.github.io/studyGroup/lessons/r/packages/lesson/)\n",
    "    * `R CMD build bnlearn`\n",
    "* [Using devtools for Lazy People](http://rstudio-pubs-static.s3.amazonaws.com/2556_4e9f1c2af93b4683a19e2303a52bb2d5.html)\n",
    "* [Building and installing an R package](http://kbroman.org/pkg_primer/pages/build.html)\n",
    "* [devtools](https://www.rstudio.com/products/rpackages/devtools/)\n",
    "    * [github](https://github.com/r-lib/devtools)\n",
    "* [Can the code of a R package be changed? How?](https://www.biostars.org/p/146490/)\n",
    "    * `dev_mode`, `install_local`\n",
    "    * [load_all](https://rdrr.io/cran/devtools/man/load_all.html)\n",
    "    * `remove.packages(\"bnlearn\")`"
   ]
  },
  {
   "cell_type": "code",
   "execution_count": 5,
   "metadata": {},
   "outputs": [],
   "source": [
    "%%R\n",
    "ip <- as.data.frame(installed.packages()[,c(1,3:4)])\n",
    "rownames(ip) <- NULL\n",
    "ip <- ip[is.na(ip$Priority),1:2,drop=FALSE]\n",
    "#print(ip, row.names=FALSE)"
   ]
  },
  {
   "cell_type": "code",
   "execution_count": 6,
   "metadata": {},
   "outputs": [],
   "source": [
    "# /home/cs/local/install/Anaconda3-5.1.0-Linux-x86_64/lib/R/library/bnlearn\n",
    "# %%R\n",
    "# library(\"devtools\")\n",
    "# getwd()\n",
    "# getLoadedDLLs()\n",
    "# dyn.load(\"bnlearn/src/bnlearn.so\")\n",
    "# library.dynam(\"bnlearn\", package = c(\"bnlearn_4.3\"), lib.loc = c(\"bnlearn/src\"))\n",
    "# sessionInfo()\n",
    "# devtools::build(\"/home/cs/workspaces/bnlearn/\")"
   ]
  },
  {
   "cell_type": "code",
   "execution_count": 7,
   "metadata": {},
   "outputs": [],
   "source": [
    "# %%R\n",
    "# #devtools::install_local(\"../../bnlearn\")\n",
    "# load_all(\"/home/cs/workspaces/bnlearn/\")"
   ]
  },
  {
   "cell_type": "code",
   "execution_count": 8,
   "metadata": {},
   "outputs": [],
   "source": [
    "%load_ext autoreload\n",
    "%autoreload 1\n",
    "%aimport pybnl.bn"
   ]
  },
  {
   "cell_type": "code",
   "execution_count": 9,
   "metadata": {},
   "outputs": [],
   "source": [
    "import locale\n",
    "locale.setlocale(locale.LC_ALL, 'C')\n",
    "\n",
    "import rpy2, rpy2.rinterface, rpy2.robjects, rpy2.robjects.packages, rpy2.robjects.lib, rpy2.robjects.lib.grid, \\\n",
    "    rpy2.robjects.lib.ggplot2, rpy2.robjects.pandas2ri, rpy2.interactive.process_revents, \\\n",
    "    rpy2.interactive, rpy2.robjects.lib.grdevices\n",
    "# rpy2.interactive.process_revents.start()\n",
    "rpy2.robjects.pandas2ri.activate()"
   ]
  },
  {
   "cell_type": "code",
   "execution_count": 10,
   "metadata": {},
   "outputs": [],
   "source": [
    "%%R -o marks\n",
    "library(bnlearn)\n",
    "data(marks)"
   ]
  },
  {
   "cell_type": "code",
   "execution_count": 11,
   "metadata": {},
   "outputs": [
    {
     "data": {
      "text/html": [
       "<div>\n",
       "<style scoped>\n",
       "    .dataframe tbody tr th:only-of-type {\n",
       "        vertical-align: middle;\n",
       "    }\n",
       "\n",
       "    .dataframe tbody tr th {\n",
       "        vertical-align: top;\n",
       "    }\n",
       "\n",
       "    .dataframe thead th {\n",
       "        text-align: right;\n",
       "    }\n",
       "</style>\n",
       "<table border=\"1\" class=\"dataframe\">\n",
       "  <thead>\n",
       "    <tr style=\"text-align: right;\">\n",
       "      <th></th>\n",
       "      <th>MECH</th>\n",
       "      <th>VECT</th>\n",
       "      <th>ALG</th>\n",
       "      <th>ANL</th>\n",
       "      <th>STAT</th>\n",
       "    </tr>\n",
       "  </thead>\n",
       "  <tbody>\n",
       "    <tr>\n",
       "      <th>1</th>\n",
       "      <td>77.0</td>\n",
       "      <td>82.0</td>\n",
       "      <td>67.0</td>\n",
       "      <td>67.0</td>\n",
       "      <td>81.0</td>\n",
       "    </tr>\n",
       "    <tr>\n",
       "      <th>2</th>\n",
       "      <td>63.0</td>\n",
       "      <td>78.0</td>\n",
       "      <td>80.0</td>\n",
       "      <td>70.0</td>\n",
       "      <td>81.0</td>\n",
       "    </tr>\n",
       "    <tr>\n",
       "      <th>3</th>\n",
       "      <td>75.0</td>\n",
       "      <td>73.0</td>\n",
       "      <td>71.0</td>\n",
       "      <td>66.0</td>\n",
       "      <td>81.0</td>\n",
       "    </tr>\n",
       "    <tr>\n",
       "      <th>4</th>\n",
       "      <td>55.0</td>\n",
       "      <td>72.0</td>\n",
       "      <td>63.0</td>\n",
       "      <td>70.0</td>\n",
       "      <td>68.0</td>\n",
       "    </tr>\n",
       "    <tr>\n",
       "      <th>5</th>\n",
       "      <td>63.0</td>\n",
       "      <td>63.0</td>\n",
       "      <td>65.0</td>\n",
       "      <td>70.0</td>\n",
       "      <td>63.0</td>\n",
       "    </tr>\n",
       "  </tbody>\n",
       "</table>\n",
       "</div>"
      ],
      "text/plain": [
       "   MECH  VECT   ALG   ANL  STAT\n",
       "1  77.0  82.0  67.0  67.0  81.0\n",
       "2  63.0  78.0  80.0  70.0  81.0\n",
       "3  75.0  73.0  71.0  66.0  81.0\n",
       "4  55.0  72.0  63.0  70.0  68.0\n",
       "5  63.0  63.0  65.0  70.0  63.0"
      ]
     },
     "execution_count": 11,
     "metadata": {},
     "output_type": "execute_result"
    }
   ],
   "source": [
    "marks.head()"
   ]
  },
  {
   "cell_type": "markdown",
   "metadata": {},
   "source": [
    "* [networkx](https://github.com/networkx/networkx)\n",
    "* [tutorial](https://networkx.github.io/documentation/stable/tutorial.html)\n",
    "* [graphviz](https://github.com/xflr6/graphviz)\n",
    "* [graphviz.readthedocs](https://graphviz.readthedocs.io/en/stable/)\n",
    "* [examples/notebook.ipynb](https://github.com/xflr6/graphviz/blob/master/examples/notebook.ipynb)"
   ]
  },
  {
   "cell_type": "code",
   "execution_count": 12,
   "metadata": {},
   "outputs": [],
   "source": [
    "dg = nx.DiGraph()\n",
    "# G.add_node(1)\n",
    "dg.add_nodes_from(list(marks.columns))\n",
    "dg.add_edges_from([\n",
    "    ['STAT', 'ANL'],\n",
    "    ['STAT', 'ALG'],\n",
    "    ['ANL', 'ALG'],\n",
    "    ['ALG', 'MECH'],\n",
    "    ['ALG', 'VECT'],\n",
    "    ['VECT', 'MECH'],\n",
    "])"
   ]
  },
  {
   "cell_type": "code",
   "execution_count": 13,
   "metadata": {},
   "outputs": [
    {
     "data": {
      "text/plain": [
       "[{'ALG', 'ANL', 'MECH', 'STAT', 'VECT'}]"
      ]
     },
     "execution_count": 13,
     "metadata": {},
     "output_type": "execute_result"
    }
   ],
   "source": [
    "list(nx.connected_components(dg.to_undirected()))"
   ]
  },
  {
   "cell_type": "code",
   "execution_count": 14,
   "metadata": {},
   "outputs": [
    {
     "data": {
      "image/png": "[encoded data removed]",
      "text/plain": [
       "<Figure size 432x288 with 1 Axes>"
      ]
     },
     "metadata": {},
     "output_type": "display_data"
    }
   ],
   "source": [
    "nx.draw(dg, with_labels=True)"
   ]
  },
  {
   "cell_type": "code",
   "execution_count": 15,
   "metadata": {},
   "outputs": [
    {
     "data": {
      "image/svg+xml": [
       "<?xml version=\"1.0\" encoding=\"UTF-8\" standalone=\"no\"?>\n",
       "<!DOCTYPE svg PUBLIC \"-//W3C//DTD SVG 1.1//EN\"\n",
       " \"http://www.w3.org/Graphics/SVG/1.1/DTD/svg11.dtd\">\n",
       "<!-- Generated by graphviz version 2.36.0 (20140111.2315)\n",
       " -->\n",
       "<!-- Title: %3 Pages: 1 -->\n",
       "<svg width=\"108pt\" height=\"332pt\"\n",
       " viewBox=\"0.00 0.00 108.00 332.00\" xmlns=\"http://www.w3.org/2000/svg\" xmlns:xlink=\"http://www.w3.org/1999/xlink\">\n",
       "<g id=\"graph0\" class=\"graph\" transform=\"scale(1 1) rotate(0) translate(4 328)\">\n",
       "<title>%3</title>\n",
       "<polygon fill=\"white\" stroke=\"none\" points=\"-4,4 -4,-328 104,-328 104,4 -4,4\"/>\n",
       "<!-- MECH -->\n",
       "<g id=\"node1\" class=\"node\"><title>MECH</title>\n",
       "<ellipse fill=\"none\" stroke=\"black\" cx=\"36\" cy=\"-18\" rx=\"36.096\" ry=\"18\"/>\n",
       "<text text-anchor=\"middle\" x=\"36\" y=\"-14.3\" font-family=\"Times,serif\" font-size=\"14.00\">MECH</text>\n",
       "</g>\n",
       "<!-- VECT -->\n",
       "<g id=\"node2\" class=\"node\"><title>VECT</title>\n",
       "<ellipse fill=\"none\" stroke=\"black\" cx=\"67\" cy=\"-90\" rx=\"33.1991\" ry=\"18\"/>\n",
       "<text text-anchor=\"middle\" x=\"67\" y=\"-86.3\" font-family=\"Times,serif\" font-size=\"14.00\">VECT</text>\n",
       "</g>\n",
       "<!-- VECT&#45;&gt;MECH -->\n",
       "<g id=\"edge1\" class=\"edge\"><title>VECT&#45;&gt;MECH</title>\n",
       "<path fill=\"none\" stroke=\"black\" d=\"M59.6534,-72.411C56.077,-64.3352 51.691,-54.4312 47.6714,-45.3547\"/>\n",
       "<polygon fill=\"black\" stroke=\"black\" points=\"50.7587,-43.6825 43.5092,-35.9562 44.3583,-46.517 50.7587,-43.6825\"/>\n",
       "</g>\n",
       "<!-- ALG -->\n",
       "<g id=\"node3\" class=\"node\"><title>ALG</title>\n",
       "<ellipse fill=\"none\" stroke=\"black\" cx=\"36\" cy=\"-162\" rx=\"28.3955\" ry=\"18\"/>\n",
       "<text text-anchor=\"middle\" x=\"36\" y=\"-158.3\" font-family=\"Times,serif\" font-size=\"14.00\">ALG</text>\n",
       "</g>\n",
       "<!-- ALG&#45;&gt;MECH -->\n",
       "<g id=\"edge2\" class=\"edge\"><title>ALG&#45;&gt;MECH</title>\n",
       "<path fill=\"none\" stroke=\"black\" d=\"M31.1309,-143.979C28.4358,-133.665 25.3626,-120.189 24,-108 22.2224,-92.0991 22.2224,-87.9009 24,-72 24.9581,-63.4299 26.7618,-54.2228 28.6852,-45.9264\"/>\n",
       "<polygon fill=\"black\" stroke=\"black\" points=\"32.1318,-46.5684 31.1309,-36.0209 25.3358,-44.8904 32.1318,-46.5684\"/>\n",
       "</g>\n",
       "<!-- ALG&#45;&gt;VECT -->\n",
       "<g id=\"edge3\" class=\"edge\"><title>ALG&#45;&gt;VECT</title>\n",
       "<path fill=\"none\" stroke=\"black\" d=\"M43.3466,-144.411C46.923,-136.335 51.309,-126.431 55.3286,-117.355\"/>\n",
       "<polygon fill=\"black\" stroke=\"black\" points=\"58.6417,-118.517 59.4908,-107.956 52.2413,-115.682 58.6417,-118.517\"/>\n",
       "</g>\n",
       "<!-- ANL -->\n",
       "<g id=\"node4\" class=\"node\"><title>ANL</title>\n",
       "<ellipse fill=\"none\" stroke=\"black\" cx=\"65\" cy=\"-234\" rx=\"28.3955\" ry=\"18\"/>\n",
       "<text text-anchor=\"middle\" x=\"65\" y=\"-230.3\" font-family=\"Times,serif\" font-size=\"14.00\">ANL</text>\n",
       "</g>\n",
       "<!-- ANL&#45;&gt;ALG -->\n",
       "<g id=\"edge4\" class=\"edge\"><title>ANL&#45;&gt;ALG</title>\n",
       "<path fill=\"none\" stroke=\"black\" d=\"M58.1274,-216.411C54.7325,-208.216 50.5578,-198.14 46.7527,-188.955\"/>\n",
       "<polygon fill=\"black\" stroke=\"black\" points=\"49.8842,-187.369 42.8233,-179.47 43.4172,-190.048 49.8842,-187.369\"/>\n",
       "</g>\n",
       "<!-- STAT -->\n",
       "<g id=\"node5\" class=\"node\"><title>STAT</title>\n",
       "<ellipse fill=\"none\" stroke=\"black\" cx=\"36\" cy=\"-306\" rx=\"32.2457\" ry=\"18\"/>\n",
       "<text text-anchor=\"middle\" x=\"36\" y=\"-302.3\" font-family=\"Times,serif\" font-size=\"14.00\">STAT</text>\n",
       "</g>\n",
       "<!-- STAT&#45;&gt;ALG -->\n",
       "<g id=\"edge6\" class=\"edge\"><title>STAT&#45;&gt;ALG</title>\n",
       "<path fill=\"none\" stroke=\"black\" d=\"M32.3462,-287.908C30.3242,-277.569 28.0192,-264.09 27,-252 25.6559,-236.057 25.6559,-231.943 27,-216 27.7166,-207.499 29.0689,-198.312 30.5116,-190.012\"/>\n",
       "<polygon fill=\"black\" stroke=\"black\" points=\"33.9691,-190.562 32.3462,-180.092 27.0858,-189.289 33.9691,-190.562\"/>\n",
       "</g>\n",
       "<!-- STAT&#45;&gt;ANL -->\n",
       "<g id=\"edge5\" class=\"edge\"><title>STAT&#45;&gt;ANL</title>\n",
       "<path fill=\"none\" stroke=\"black\" d=\"M42.8726,-288.411C46.2675,-280.216 50.4422,-270.14 54.2473,-260.955\"/>\n",
       "<polygon fill=\"black\" stroke=\"black\" points=\"57.5828,-262.048 58.1767,-251.47 51.1158,-259.369 57.5828,-262.048\"/>\n",
       "</g>\n",
       "</g>\n",
       "</svg>\n"
      ],
      "text/plain": [
       "<graphviz.dot.Digraph at 0x7fdd60f425f8>"
      ]
     },
     "execution_count": 15,
     "metadata": {},
     "output_type": "execute_result"
    }
   ],
   "source": [
    "dg_dot = graphviz.Digraph(comment='disease-network')\n",
    "for node in dg.nodes():\n",
    "    dg_dot.node(node)\n",
    "\n",
    "for edge in dg.edges():\n",
    "    dg_dot.edge(edge[0],edge[1])\n",
    "\n",
    "dg_dot"
   ]
  },
  {
   "cell_type": "code",
   "execution_count": 16,
   "metadata": {},
   "outputs": [
    {
     "data": {
      "text/plain": [
       "['STAT', 'ANL', 'ALG', 'VECT', 'MECH']"
      ]
     },
     "execution_count": 16,
     "metadata": {},
     "output_type": "execute_result"
    }
   ],
   "source": [
    "list(networkx.algorithms.dag.topological_sort(dg))"
   ]
  },
  {
   "cell_type": "code",
   "execution_count": 17,
   "metadata": {},
   "outputs": [
    {
     "data": {
      "text/plain": [
       "(['MECH', 'VECT', 'ALG', 'ANL', 'STAT'],\n",
       " [('VECT', 'MECH'),\n",
       "  ('ALG', 'MECH'),\n",
       "  ('ALG', 'VECT'),\n",
       "  ('ANL', 'ALG'),\n",
       "  ('STAT', 'ANL'),\n",
       "  ('STAT', 'ALG')])"
      ]
     },
     "execution_count": 17,
     "metadata": {},
     "output_type": "execute_result"
    }
   ],
   "source": [
    "list(dg.nodes()),list(dg.edges())"
   ]
  },
  {
   "cell_type": "code",
   "execution_count": 18,
   "metadata": {},
   "outputs": [],
   "source": [
    "nds = rpy2.robjects.StrVector(list(dg.nodes()))"
   ]
  },
  {
   "cell_type": "code",
   "execution_count": 19,
   "metadata": {},
   "outputs": [
    {
     "data": {
      "text/plain": [
       "array([[0., 0., 0., 0., 0.],\n",
       "       [1., 0., 0., 0., 0.],\n",
       "       [1., 1., 0., 0., 0.],\n",
       "       [0., 0., 1., 0., 0.],\n",
       "       [0., 0., 1., 1., 0.]])"
      ]
     },
     "execution_count": 19,
     "metadata": {},
     "output_type": "execute_result"
    }
   ],
   "source": [
    "connectivity_matrix = xr.DataArray(np.zeros((len(marks.columns), len(marks.columns))), \n",
    "             dims = ['from','to'], \n",
    "             coords= {'from': list(marks.columns), 'to': list(marks.columns)})\n",
    "for edge in dg.edges():\n",
    "    connectivity_matrix.loc[{'from': edge[0], 'to': edge[1]}] = 1\n",
    "np_connectivity_matrix = np.array(connectivity_matrix.values)\n",
    "np_connectivity_matrix"
   ]
  },
  {
   "cell_type": "code",
   "execution_count": 20,
   "metadata": {},
   "outputs": [
    {
     "data": {
      "text/plain": [
       "\n",
       "  Random/Generated Bayesian network\n",
       "\n",
       "  model:\n",
       "   [STAT][ANL|STAT][ALG|ANL:STAT][VECT|ALG][MECH|VECT:ALG] \n",
       "  nodes:                                 5 \n",
       "  arcs:                                  6 \n",
       "    undirected arcs:                     0 \n",
       "    directed arcs:                       6 \n",
       "  average markov blanket size:           2.40 \n",
       "  average neighbourhood size:            2.40 \n",
       "  average branching factor:              1.20 \n",
       "\n",
       "  generation algorithm:                  Empty \n",
       "\n"
      ]
     },
     "metadata": {},
     "output_type": "display_data"
    }
   ],
   "source": [
    "%%R -i np_connectivity_matrix -i nds\n",
    "dag = empty.graph(nds)\n",
    "amat(dag) = np_connectivity_matrix\n",
    "dag"
   ]
  },
  {
   "cell_type": "code",
   "execution_count": 21,
   "metadata": {},
   "outputs": [
    {
     "data": {
      "text/plain": [
       "\n",
       "  Random/Generated Bayesian network\n",
       "\n",
       "  model:\n",
       "    [undirected graph]\n",
       "  nodes:                                 5 \n",
       "  arcs:                                  6 \n",
       "    undirected arcs:                     6 \n",
       "    directed arcs:                       0 \n",
       "  average markov blanket size:           2.40 \n",
       "  average neighbourhood size:            2.40 \n",
       "  average branching factor:              0.00 \n",
       "\n",
       "  generation algorithm:                  Empty \n",
       "\n"
      ]
     },
     "metadata": {},
     "output_type": "display_data"
    }
   ],
   "source": [
    "%%R\n",
    "moral(dag)"
   ]
  },
  {
   "cell_type": "code",
   "execution_count": 22,
   "metadata": {},
   "outputs": [
    {
     "data": {
      "text/plain": [
       "[1] \"STAT\" \"ANL\"  \"ALG\"  \"VECT\" \"MECH\"\n"
      ]
     },
     "metadata": {},
     "output_type": "display_data"
    }
   ],
   "source": [
    "%%R\n",
    "node.ordering(dag)"
   ]
  },
  {
   "cell_type": "code",
   "execution_count": 23,
   "metadata": {},
   "outputs": [
    {
     "data": {
      "text/plain": [
       "[1] \"ALG\"  \"STAT\"\n"
      ]
     },
     "metadata": {},
     "output_type": "display_data"
    }
   ],
   "source": [
    "%%R\n",
    "nbr(dag, \"ANL\")"
   ]
  },
  {
   "cell_type": "code",
   "execution_count": 24,
   "metadata": {},
   "outputs": [
    {
     "data": {
      "text/plain": [
       "[1] \"ALG\"  \"STAT\"\n"
      ]
     },
     "metadata": {},
     "output_type": "display_data"
    }
   ],
   "source": [
    "%%R\n",
    "mb(dag, \"ANL\")"
   ]
  },
  {
   "cell_type": "code",
   "execution_count": 25,
   "metadata": {},
   "outputs": [
    {
     "data": {
      "text/plain": [
       "[1] -1695.589\n"
      ]
     },
     "metadata": {},
     "output_type": "display_data"
    }
   ],
   "source": [
    "%%R\n",
    "score(dag,data=marks,type=\"loglik-g\")"
   ]
  },
  {
   "cell_type": "code",
   "execution_count": 26,
   "metadata": {},
   "outputs": [
    {
     "data": {
      "text/plain": [
       "     X      Z      Y     \n",
       "[1,] \"VECT\" \"MECH\" \"ALG\" \n",
       "[2,] \"ANL\"  \"ALG\"  \"STAT\"\n"
      ]
     },
     "metadata": {},
     "output_type": "display_data"
    }
   ],
   "source": [
    "%%R\n",
    "vstructs(dag)"
   ]
  },
  {
   "cell_type": "code",
   "execution_count": 27,
   "metadata": {},
   "outputs": [
    {
     "data": {
      "text/plain": [
       "     X      Z      Y     \n",
       "[1,] \"VECT\" \"MECH\" \"ALG\" \n",
       "[2,] \"ANL\"  \"ALG\"  \"STAT\"\n"
      ]
     },
     "metadata": {},
     "output_type": "display_data"
    }
   ],
   "source": [
    "%%R\n",
    "vstructs(dag, moral=TRUE)"
   ]
  },
  {
   "cell_type": "code",
   "execution_count": 28,
   "metadata": {},
   "outputs": [
    {
     "data": {
      "text/plain": [
       "\n",
       "  Random/Generated Bayesian network\n",
       "\n",
       "  model:\n",
       "    [undirected graph]\n",
       "  nodes:                                 5 \n",
       "  arcs:                                  6 \n",
       "    undirected arcs:                     6 \n",
       "    directed arcs:                       0 \n",
       "  average markov blanket size:           2.40 \n",
       "  average neighbourhood size:            2.40 \n",
       "  average branching factor:              0.00 \n",
       "\n",
       "  generation algorithm:                  Empty \n",
       "\n"
      ]
     },
     "metadata": {},
     "output_type": "display_data"
    }
   ],
   "source": [
    "%%R\n",
    "cpdag(dag)"
   ]
  },
  {
   "cell_type": "markdown",
   "metadata": {},
   "source": [
    "[Principled Computational Methods for the Validation and Discovery of Genetic Regulatory Networks](http://citeseerx.ist.psu.edu/viewdoc/summary?doi=10.1.1.4.6170) by Alexander John Hartemink, 2001"
   ]
  },
  {
   "cell_type": "code",
   "execution_count": 29,
   "metadata": {},
   "outputs": [],
   "source": [
    "%%R -o dmarks1 -o dmarks2\n",
    "dmarks1 = discretize(marks, breaks=3, method=\"interval\")\n",
    "dmarks2 = discretize(marks, breaks=3, method=\"hartemink\", ibreaks=5, idisc=\"quantile\")"
   ]
  },
  {
   "cell_type": "code",
   "execution_count": 30,
   "metadata": {},
   "outputs": [
    {
     "data": {
      "text/plain": [
       "[1] \"[-0.077,25.7]\" \"(25.7,51.3]\"   \"(51.3,77.1]\"  \n"
      ]
     },
     "metadata": {},
     "output_type": "display_data"
    }
   ],
   "source": [
    "%%R\n",
    "levels(dmarks1$MECH)"
   ]
  },
  {
   "cell_type": "code",
   "execution_count": 31,
   "metadata": {},
   "outputs": [
    {
     "data": {
      "text/plain": [
       "[1] \"[0,22.4]\"  \"(22.4,46]\" \"(46,77]\"  \n"
      ]
     },
     "metadata": {},
     "output_type": "display_data"
    }
   ],
   "source": [
    "%%R\n",
    "levels(dmarks2$MECH)"
   ]
  },
  {
   "cell_type": "code",
   "execution_count": 32,
   "metadata": {},
   "outputs": [
    {
     "data": {
      "text/html": [
       "<table style=\"display:inline\" border=\"1\" class=\"dataframe\">\n",
       "  <thead>\n",
       "    <tr style=\"text-align: right;\">\n",
       "      <th></th>\n",
       "      <th>MECH</th>\n",
       "      <th>VECT</th>\n",
       "      <th>ALG</th>\n",
       "      <th>ANL</th>\n",
       "      <th>STAT</th>\n",
       "    </tr>\n",
       "  </thead>\n",
       "  <tbody>\n",
       "    <tr>\n",
       "      <th>1</th>\n",
       "      <td>(51.3,77.1]</td>\n",
       "      <td>(57.7,82.1]</td>\n",
       "      <td>(58.3,80.1]</td>\n",
       "      <td>(49.7,70.1]</td>\n",
       "      <td>(57,81.1]</td>\n",
       "    </tr>\n",
       "    <tr>\n",
       "      <th>2</th>\n",
       "      <td>(51.3,77.1]</td>\n",
       "      <td>(57.7,82.1]</td>\n",
       "      <td>(58.3,80.1]</td>\n",
       "      <td>(49.7,70.1]</td>\n",
       "      <td>(57,81.1]</td>\n",
       "    </tr>\n",
       "    <tr>\n",
       "      <th>3</th>\n",
       "      <td>(51.3,77.1]</td>\n",
       "      <td>(57.7,82.1]</td>\n",
       "      <td>(58.3,80.1]</td>\n",
       "      <td>(49.7,70.1]</td>\n",
       "      <td>(57,81.1]</td>\n",
       "    </tr>\n",
       "    <tr>\n",
       "      <th>4</th>\n",
       "      <td>(51.3,77.1]</td>\n",
       "      <td>(57.7,82.1]</td>\n",
       "      <td>(58.3,80.1]</td>\n",
       "      <td>(49.7,70.1]</td>\n",
       "      <td>(57,81.1]</td>\n",
       "    </tr>\n",
       "    <tr>\n",
       "      <th>5</th>\n",
       "      <td>(51.3,77.1]</td>\n",
       "      <td>(57.7,82.1]</td>\n",
       "      <td>(58.3,80.1]</td>\n",
       "      <td>(49.7,70.1]</td>\n",
       "      <td>(57,81.1]</td>\n",
       "    </tr>\n",
       "  </tbody>\n",
       "</table style=\"display:inline\"><table style=\"display:inline\" border=\"1\" class=\"dataframe\">\n",
       "  <thead>\n",
       "    <tr style=\"text-align: right;\">\n",
       "      <th></th>\n",
       "      <th>MECH</th>\n",
       "      <th>VECT</th>\n",
       "      <th>ALG</th>\n",
       "      <th>ANL</th>\n",
       "      <th>STAT</th>\n",
       "    </tr>\n",
       "  </thead>\n",
       "  <tbody>\n",
       "    <tr>\n",
       "      <th>1</th>\n",
       "      <td>(46,77]</td>\n",
       "      <td>(61,82]</td>\n",
       "      <td>(59.6,80]</td>\n",
       "      <td>(60.2,70]</td>\n",
       "      <td>(44,81]</td>\n",
       "    </tr>\n",
       "    <tr>\n",
       "      <th>2</th>\n",
       "      <td>(46,77]</td>\n",
       "      <td>(61,82]</td>\n",
       "      <td>(59.6,80]</td>\n",
       "      <td>(60.2,70]</td>\n",
       "      <td>(44,81]</td>\n",
       "    </tr>\n",
       "    <tr>\n",
       "      <th>3</th>\n",
       "      <td>(46,77]</td>\n",
       "      <td>(61,82]</td>\n",
       "      <td>(59.6,80]</td>\n",
       "      <td>(60.2,70]</td>\n",
       "      <td>(44,81]</td>\n",
       "    </tr>\n",
       "    <tr>\n",
       "      <th>4</th>\n",
       "      <td>(46,77]</td>\n",
       "      <td>(61,82]</td>\n",
       "      <td>(59.6,80]</td>\n",
       "      <td>(60.2,70]</td>\n",
       "      <td>(44,81]</td>\n",
       "    </tr>\n",
       "    <tr>\n",
       "      <th>5</th>\n",
       "      <td>(46,77]</td>\n",
       "      <td>(61,82]</td>\n",
       "      <td>(59.6,80]</td>\n",
       "      <td>(60.2,70]</td>\n",
       "      <td>(44,81]</td>\n",
       "    </tr>\n",
       "  </tbody>\n",
       "</table style=\"display:inline\">"
      ]
     },
     "metadata": {},
     "output_type": "display_data"
    }
   ],
   "source": [
    "display_side_by_side(dmarks1.head(), dmarks2.head())"
   ]
  },
  {
   "cell_type": "code",
   "execution_count": 33,
   "metadata": {},
   "outputs": [
    {
     "data": {
      "image/png": "[encoded data removed]",
      "text/plain": [
       "<Figure size 1200x640 with 1 Axes>"
      ]
     },
     "metadata": {},
     "output_type": "display_data"
    }
   ],
   "source": [
    "fig=plt.figure(figsize=(15, 8), dpi= 80, facecolor='w', edgecolor='k')\n",
    "ax  = plt.subplot(1,1,1)\n",
    "dmarks1['MECH'].groupby(dmarks1['MECH']).agg(['count']).plot.bar(ax=ax);"
   ]
  },
  {
   "cell_type": "code",
   "execution_count": 34,
   "metadata": {},
   "outputs": [],
   "source": [
    "import dsbasics.bin"
   ]
  },
  {
   "cell_type": "code",
   "execution_count": 35,
   "metadata": {},
   "outputs": [
    {
     "data": {
      "text/plain": [
       "Text(0.5,0,'MECH')"
      ]
     },
     "execution_count": 35,
     "metadata": {},
     "output_type": "execute_result"
    },
    {
     "data": {
      "image/png": "[encoded data removed]",
      "text/plain": [
       "<Figure size 1200x640 with 1 Axes>"
      ]
     },
     "metadata": {},
     "output_type": "display_data"
    }
   ],
   "source": [
    "x = marks['MECH'].values\n",
    "X = x.reshape(-1,1)\n",
    "\n",
    "bbt1 = dsbasics.bin.BayesianBlocksBinTransformer(p0=0.05)\n",
    "bbt1.fit(X)\n",
    "\n",
    "bbt2 = dsbasics.bin.DecisionTreeBinTransformer(max_leaf_nodes=3)\n",
    "bbt2.fit(X)\n",
    "\n",
    "\n",
    "fig=plt.figure(figsize=(15, 8), dpi= 80, facecolor='w', edgecolor='k')\n",
    "ax  = plt.subplot(1,1,1)\n",
    "\n",
    "ax.hist(x,bins=40, histtype='stepfilled', alpha=0.2, density=True)\n",
    "ax.hist(x, bins=bbt1.bins_[0], histtype='step', color='black', density=True)\n",
    "ax.hist(x, bins=bbt2.bins_[0], histtype='step', color='green', density=True)\n",
    "ax.set_ylabel('P(MECH)')\n",
    "# ax.set_xlim(0.0,400.0)\n",
    "ax.set_xlabel('MECH')"
   ]
  },
  {
   "cell_type": "code",
   "execution_count": 36,
   "metadata": {},
   "outputs": [
    {
     "data": {
      "text/plain": [
       "Index(['(25.7,51.3]', '(51.3,77.1]', '[-0.077,25.7]'], dtype='object')"
      ]
     },
     "execution_count": 36,
     "metadata": {},
     "output_type": "execute_result"
    }
   ],
   "source": [
    "x = dmarks1['MECH']\n",
    "c = pd.Categorical(x)\n",
    "c.categories"
   ]
  },
  {
   "cell_type": "code",
   "execution_count": 37,
   "metadata": {},
   "outputs": [
    {
     "data": {
      "text/plain": [
       "  MECH VECT ALG ANL STAT\n",
       "1   77   82  67  67   81\n",
       "2   63   78  80  70   81\n",
       "3   75   73  71  66   81\n",
       "4   55   72  63  70   68\n",
       "5   63   63  65  70   63\n",
       "6   53   61  72  64   73\n"
      ]
     },
     "metadata": {},
     "output_type": "display_data"
    }
   ],
   "source": [
    "%%R\n",
    "write.csv(marks, file = \"marks.csv\")\n",
    "head(marks)"
   ]
  },
  {
   "cell_type": "code",
   "execution_count": 38,
   "metadata": {},
   "outputs": [
    {
     "data": {
      "text/html": [
       "<div>\n",
       "<style scoped>\n",
       "    .dataframe tbody tr th:only-of-type {\n",
       "        vertical-align: middle;\n",
       "    }\n",
       "\n",
       "    .dataframe tbody tr th {\n",
       "        vertical-align: top;\n",
       "    }\n",
       "\n",
       "    .dataframe thead th {\n",
       "        text-align: right;\n",
       "    }\n",
       "</style>\n",
       "<table border=\"1\" class=\"dataframe\">\n",
       "  <thead>\n",
       "    <tr style=\"text-align: right;\">\n",
       "      <th></th>\n",
       "      <th>MECH</th>\n",
       "      <th>VECT</th>\n",
       "      <th>ALG</th>\n",
       "      <th>ANL</th>\n",
       "      <th>STAT</th>\n",
       "    </tr>\n",
       "  </thead>\n",
       "  <tbody>\n",
       "    <tr>\n",
       "      <th>1</th>\n",
       "      <td>77.0</td>\n",
       "      <td>82.0</td>\n",
       "      <td>67.0</td>\n",
       "      <td>67.0</td>\n",
       "      <td>81.0</td>\n",
       "    </tr>\n",
       "    <tr>\n",
       "      <th>2</th>\n",
       "      <td>63.0</td>\n",
       "      <td>78.0</td>\n",
       "      <td>80.0</td>\n",
       "      <td>70.0</td>\n",
       "      <td>81.0</td>\n",
       "    </tr>\n",
       "    <tr>\n",
       "      <th>3</th>\n",
       "      <td>75.0</td>\n",
       "      <td>73.0</td>\n",
       "      <td>71.0</td>\n",
       "      <td>66.0</td>\n",
       "      <td>81.0</td>\n",
       "    </tr>\n",
       "    <tr>\n",
       "      <th>4</th>\n",
       "      <td>55.0</td>\n",
       "      <td>72.0</td>\n",
       "      <td>63.0</td>\n",
       "      <td>70.0</td>\n",
       "      <td>68.0</td>\n",
       "    </tr>\n",
       "    <tr>\n",
       "      <th>5</th>\n",
       "      <td>63.0</td>\n",
       "      <td>63.0</td>\n",
       "      <td>65.0</td>\n",
       "      <td>70.0</td>\n",
       "      <td>63.0</td>\n",
       "    </tr>\n",
       "  </tbody>\n",
       "</table>\n",
       "</div>"
      ],
      "text/plain": [
       "   MECH  VECT   ALG   ANL  STAT\n",
       "1  77.0  82.0  67.0  67.0  81.0\n",
       "2  63.0  78.0  80.0  70.0  81.0\n",
       "3  75.0  73.0  71.0  66.0  81.0\n",
       "4  55.0  72.0  63.0  70.0  68.0\n",
       "5  63.0  63.0  65.0  70.0  63.0"
      ]
     },
     "execution_count": 38,
     "metadata": {},
     "output_type": "execute_result"
    }
   ],
   "source": [
    "pd_marks = pd.read_csv('marks.csv', index_col=0).astype(np.float64)\n",
    "pd_marks.head()"
   ]
  },
  {
   "cell_type": "code",
   "execution_count": 39,
   "metadata": {},
   "outputs": [],
   "source": [
    "# %%R -i pd_marks\n",
    "# dmarks2_ = discretize(pd_marks, breaks=3, method=\"hartemink\", ibreaks=5, idisc=\"quantile\")\n",
    "# head(dmarks2_)"
   ]
  },
  {
   "cell_type": "code",
   "execution_count": 40,
   "metadata": {},
   "outputs": [
    {
     "name": "stdout",
     "output_type": "stream",
     "text": [
      "(0, 'MECH')\n",
      "[1] \"[0,22.4]\"  \"(22.4,46]\" \"(46,77]\"  \n",
      "\n",
      "(1, 'VECT')\n",
      "[1] \"[9,40]\"  \"(40,61]\" \"(61,82]\"\n",
      "\n",
      "(2, 'ALG')\n",
      "[1] \"[15,43]\"   \"(43,59.6]\" \"(59.6,80]\"\n",
      "\n",
      "(3, 'ANL')\n",
      "[1] \"(9,47]\"    \"(47,60.2]\" \"(60.2,70]\"\n",
      "\n",
      "(4, 'STAT')\n",
      "[1] \"[9,29.4]\"  \"(29.4,44]\" \"(44,81]\"  \n",
      "\n"
     ]
    },
    {
     "data": {
      "text/html": [
       "<div>\n",
       "<style scoped>\n",
       "    .dataframe tbody tr th:only-of-type {\n",
       "        vertical-align: middle;\n",
       "    }\n",
       "\n",
       "    .dataframe tbody tr th {\n",
       "        vertical-align: top;\n",
       "    }\n",
       "\n",
       "    .dataframe thead th {\n",
       "        text-align: right;\n",
       "    }\n",
       "</style>\n",
       "<table border=\"1\" class=\"dataframe\">\n",
       "  <thead>\n",
       "    <tr style=\"text-align: right;\">\n",
       "      <th></th>\n",
       "      <th>MECH</th>\n",
       "      <th>VECT</th>\n",
       "      <th>ALG</th>\n",
       "      <th>ANL</th>\n",
       "      <th>STAT</th>\n",
       "    </tr>\n",
       "  </thead>\n",
       "  <tbody>\n",
       "    <tr>\n",
       "      <th>1</th>\n",
       "      <td>(46,77]</td>\n",
       "      <td>(61,82]</td>\n",
       "      <td>(59.6,80]</td>\n",
       "      <td>(60.2,70]</td>\n",
       "      <td>(44,81]</td>\n",
       "    </tr>\n",
       "    <tr>\n",
       "      <th>2</th>\n",
       "      <td>(46,77]</td>\n",
       "      <td>(61,82]</td>\n",
       "      <td>(59.6,80]</td>\n",
       "      <td>(60.2,70]</td>\n",
       "      <td>(44,81]</td>\n",
       "    </tr>\n",
       "    <tr>\n",
       "      <th>3</th>\n",
       "      <td>(46,77]</td>\n",
       "      <td>(61,82]</td>\n",
       "      <td>(59.6,80]</td>\n",
       "      <td>(60.2,70]</td>\n",
       "      <td>(44,81]</td>\n",
       "    </tr>\n",
       "    <tr>\n",
       "      <th>4</th>\n",
       "      <td>(46,77]</td>\n",
       "      <td>(61,82]</td>\n",
       "      <td>(59.6,80]</td>\n",
       "      <td>(60.2,70]</td>\n",
       "      <td>(44,81]</td>\n",
       "    </tr>\n",
       "    <tr>\n",
       "      <th>5</th>\n",
       "      <td>(46,77]</td>\n",
       "      <td>(61,82]</td>\n",
       "      <td>(59.6,80]</td>\n",
       "      <td>(60.2,70]</td>\n",
       "      <td>(44,81]</td>\n",
       "    </tr>\n",
       "  </tbody>\n",
       "</table>\n",
       "</div>"
      ],
      "text/plain": [
       "      MECH     VECT        ALG        ANL     STAT\n",
       "1  (46,77]  (61,82]  (59.6,80]  (60.2,70]  (44,81]\n",
       "2  (46,77]  (61,82]  (59.6,80]  (60.2,70]  (44,81]\n",
       "3  (46,77]  (61,82]  (59.6,80]  (60.2,70]  (44,81]\n",
       "4  (46,77]  (61,82]  (59.6,80]  (60.2,70]  (44,81]\n",
       "5  (46,77]  (61,82]  (59.6,80]  (60.2,70]  (44,81]"
      ]
     },
     "execution_count": 40,
     "metadata": {},
     "output_type": "execute_result"
    }
   ],
   "source": [
    "df = pybnl.bn.discretize(pd_marks)\n",
    "df.head()"
   ]
  },
  {
   "cell_type": "code",
   "execution_count": 41,
   "metadata": {},
   "outputs": [
    {
     "data": {
      "text/plain": [
       "MECH    category\n",
       "VECT    category\n",
       "ALG     category\n",
       "ANL     category\n",
       "STAT    category\n",
       "dtype: object"
      ]
     },
     "execution_count": 41,
     "metadata": {},
     "output_type": "execute_result"
    }
   ],
   "source": [
    "df.dtypes"
   ]
  },
  {
   "cell_type": "code",
   "execution_count": 42,
   "metadata": {},
   "outputs": [
    {
     "data": {
      "text/plain": [
       "Index(['[0,22.4]', '(22.4,46]', '(46,77]'], dtype='object')"
      ]
     },
     "execution_count": 42,
     "metadata": {},
     "output_type": "execute_result"
    }
   ],
   "source": [
    "df['MECH'].cat.categories"
   ]
  },
  {
   "cell_type": "code",
   "execution_count": 43,
   "metadata": {},
   "outputs": [
    {
     "data": {
      "text/plain": [
       "<matplotlib.axes._subplots.AxesSubplot at 0x7fdd5e782630>"
      ]
     },
     "execution_count": 43,
     "metadata": {},
     "output_type": "execute_result"
    },
    {
     "data": {
      "image/png": "[encoded data removed]",
      "text/plain": [
       "<Figure size 432x288 with 1 Axes>"
      ]
     },
     "metadata": {},
     "output_type": "display_data"
    }
   ],
   "source": [
    "df['MECH'].groupby(df['MECH']).agg(['count']).plot.bar()"
   ]
  },
  {
   "cell_type": "code",
   "execution_count": 44,
   "metadata": {},
   "outputs": [
    {
     "data": {
      "text/plain": [
       "1    (46,77]\n",
       "2    (46,77]\n",
       "3    (46,77]\n",
       "4    (46,77]\n",
       "5    (46,77]\n",
       "Name: MECH, dtype: category\n",
       "Categories (3, object): [[0,22.4] < (22.4,46] < (46,77]]"
      ]
     },
     "execution_count": 44,
     "metadata": {},
     "output_type": "execute_result"
    }
   ],
   "source": [
    "df['MECH'].head()"
   ]
  },
  {
   "cell_type": "code",
   "execution_count": 45,
   "metadata": {},
   "outputs": [],
   "source": [
    "bn = pybnl.bn.NetAndDataDiscreteBayesNetwork(dg, df)"
   ]
  },
  {
   "cell_type": "code",
   "execution_count": 46,
   "metadata": {},
   "outputs": [
    {
     "data": {
      "text/plain": [
       "'[STAT][ANL|STAT][ALG|STAT:ANL][VECT|ALG][MECH|ALG:VECT]'"
      ]
     },
     "execution_count": 46,
     "metadata": {},
     "output_type": "execute_result"
    }
   ],
   "source": [
    "bn.model_string"
   ]
  },
  {
   "cell_type": "code",
   "execution_count": 47,
   "metadata": {},
   "outputs": [
    {
     "name": "stdout",
     "output_type": "stream",
     "text": [
      "\n",
      "  Random/Generated Bayesian network\n",
      "\n",
      "  model:\n",
      "   [STAT][ANL|STAT][ALG|ANL:STAT][VECT|ALG][MECH|ALG:VECT] \n",
      "  nodes:                                 5 \n",
      "  arcs:                                  6 \n",
      "    undirected arcs:                     0 \n",
      "    directed arcs:                       6 \n",
      "  average markov blanket size:           2.40 \n",
      "  average neighbourhood size:            2.40 \n",
      "  average branching factor:              1.20 \n",
      "\n",
      "  generation algorithm:                  Empty \n",
      "\n",
      "\n"
     ]
    }
   ],
   "source": [
    "print(bn.rnet)"
   ]
  },
  {
   "cell_type": "code",
   "execution_count": 48,
   "metadata": {},
   "outputs": [
    {
     "name": "stdout",
     "output_type": "stream",
     "text": [
      "\n",
      "  Bayesian network parameters\n",
      "\n",
      "  Parameters of node ALG (ordinal distribution)\n",
      "\n",
      "Conditional probability table:\n",
      " \n",
      ", , STAT = [9,29.4]\n",
      "\n",
      "           ANL\n",
      "ALG             (9,47]  (47,60.2] (60.2,70]\n",
      "  [15,43]   0.66666667 0.33333333          \n",
      "  (43,59.6] 0.33333333 0.66666667          \n",
      "  (59.6,80] 0.00000000 0.00000000          \n",
      "\n",
      ", , STAT = (29.4,44]\n",
      "\n",
      "           ANL\n",
      "ALG             (9,47]  (47,60.2]  (60.2,70]\n",
      "  [15,43]   0.35294118 0.05882353 0.00000000\n",
      "  (43,59.6] 0.64705882 0.88235294 1.00000000\n",
      "  (59.6,80] 0.00000000 0.05882353 0.00000000\n",
      "\n",
      ", , STAT = (44,81]\n",
      "\n",
      "           ANL\n",
      "ALG             (9,47]  (47,60.2]  (60.2,70]\n",
      "  [15,43]   0.14285714 0.09090909 0.00000000\n",
      "  (43,59.6] 0.85714286 0.45454545 0.25000000\n",
      "  (59.6,80] 0.00000000 0.45454545 0.75000000\n",
      "\n",
      "\n",
      "  Parameters of node ANL (ordinal distribution)\n",
      "\n",
      "Conditional probability table:\n",
      " \n",
      "           STAT\n",
      "ANL           [9,29.4]  (29.4,44]    (44,81]\n",
      "  (9,47]    0.83333333 0.47222222 0.20588235\n",
      "  (47,60.2] 0.16666667 0.47222222 0.32352941\n",
      "  (60.2,70] 0.00000000 0.05555556 0.47058824\n",
      "\n",
      "  Parameters of node MECH (ordinal distribution)\n",
      "\n",
      "Conditional probability table:\n",
      " \n",
      ", , VECT = [9,40]\n",
      "\n",
      "           ALG\n",
      "MECH           [15,43]  (43,59.6] (59.6,80]\n",
      "  [0,22.4]  0.54545455 0.25000000          \n",
      "  (22.4,46] 0.36363636 0.62500000          \n",
      "  (46,77]   0.09090909 0.12500000          \n",
      "\n",
      ", , VECT = (40,61]\n",
      "\n",
      "           ALG\n",
      "MECH           [15,43]  (43,59.6]  (59.6,80]\n",
      "  [0,22.4]  0.33333333 0.17142857 0.12500000\n",
      "  (22.4,46] 0.33333333 0.57142857 0.37500000\n",
      "  (46,77]   0.33333333 0.25714286 0.50000000\n",
      "\n",
      ", , VECT = (61,82]\n",
      "\n",
      "           ALG\n",
      "MECH        [15,43]  (43,59.6]  (59.6,80]\n",
      "  [0,22.4]          0.00000000 0.00000000\n",
      "  (22.4,46]         0.57142857 0.10000000\n",
      "  (46,77]           0.42857143 0.90000000\n",
      "\n",
      "\n",
      "  Parameters of node STAT (ordinal distribution)\n",
      "\n",
      "Conditional probability table:\n",
      "  [9,29.4] (29.4,44]   (44,81] \n",
      "0.2045455 0.4090909 0.3863636 \n",
      "\n",
      "  Parameters of node VECT (ordinal distribution)\n",
      "\n",
      "Conditional probability table:\n",
      " \n",
      "         ALG\n",
      "VECT        [15,43] (43,59.6] (59.6,80]\n",
      "  [9,40]  0.5500000 0.1600000 0.0000000\n",
      "  (40,61] 0.4500000 0.7000000 0.4444444\n",
      "  (61,82] 0.0000000 0.1400000 0.5555556\n",
      "\n",
      "\n"
     ]
    }
   ],
   "source": [
    "print(bn.rfit)"
   ]
  },
  {
   "cell_type": "code",
   "execution_count": 49,
   "metadata": {},
   "outputs": [
    {
     "name": "stdout",
     "output_type": "stream",
     "text": [
      "Independence network: Compiled: TRUE Propagated: FALSE \n",
      "  Nodes: chr [1:5] \"ALG\" \"ANL\" \"MECH\" \"STAT\" \"VECT\"\n",
      "\n"
     ]
    }
   ],
   "source": [
    "print(bn.grain)"
   ]
  },
  {
   "cell_type": "code",
   "execution_count": 50,
   "metadata": {},
   "outputs": [
    {
     "data": {
      "text/plain": [
       "'[9,29.4]'"
      ]
     },
     "execution_count": 50,
     "metadata": {},
     "output_type": "execute_result"
    }
   ],
   "source": [
    "df['STAT'].cat.categories[0]"
   ]
  },
  {
   "cell_type": "code",
   "execution_count": 51,
   "metadata": {},
   "outputs": [
    {
     "data": {
      "text/plain": [
       "{'STAT': {'(29.4,44]': 0.35, '(44,81]': 0.09999999999999998, '[9,29.4]': 0.55}}"
      ]
     },
     "execution_count": 51,
     "metadata": {},
     "output_type": "execute_result"
    }
   ],
   "source": [
    "evidence = dict(ALG=df['ALG'].cat.categories[0])\n",
    "nodes_to_query = ['STAT']\n",
    "bn.exact_query(evidence, nodes_to_query, only_python_result=True)"
   ]
  },
  {
   "cell_type": "code",
   "execution_count": 52,
   "metadata": {},
   "outputs": [],
   "source": [
    "bn.write_net('marks.net')"
   ]
  },
  {
   "cell_type": "code",
   "execution_count": 53,
   "metadata": {},
   "outputs": [],
   "source": [
    "# TODO\n",
    "# Convert network from R to python xarray and pandas and allow for save and load\n",
    "# Implement structure learning\n",
    "# Ask question about discretization score available in bnlearn discretize?\n",
    "# Plot discretization levels\n",
    "# Implement error checking\n",
    "#  Ensure that queries only use valid variables and values for these variables\n",
    "# Implement unit tests\n",
    "# Implement approximate queries\n",
    "# Implement model averaging, cross validation, ...\n",
    "# Implement ames house price example\n",
    "#  Arc strengths\n",
    "# Implement own problem with LLT dependencies\n",
    "# Plot graphs as equivalence structures (cpdag) and use cextend for consistent extension\n",
    "# Implement sampling from a network"
   ]
  },
  {
   "cell_type": "code",
   "execution_count": 54,
   "metadata": {},
   "outputs": [],
   "source": [
    "rfit = bn.rfit"
   ]
  },
  {
   "cell_type": "code",
   "execution_count": 55,
   "metadata": {},
   "outputs": [
    {
     "data": {
      "text/plain": [
       "$ANL\n",
       "[1] \"(9,47]\"    \"(47,60.2]\" \"(60.2,70]\"\n",
       "\n",
       "$STAT\n",
       "[1] \"[9,29.4]\"  \"(29.4,44]\" \"(44,81]\"  \n",
       "\n"
      ]
     },
     "metadata": {},
     "output_type": "display_data"
    }
   ],
   "source": [
    "%%R -i rfit\n",
    "# nodes(rfit)\n",
    "# colnames, rownames, dimnames\n",
    "# dimnames(rfit$STAT$prob)[1]\n",
    "# dimnames(rfit$ANL$prob)[1]\n",
    "dimnames(rfit$ANL$prob)"
   ]
  },
  {
   "cell_type": "code",
   "execution_count": 56,
   "metadata": {},
   "outputs": [],
   "source": [
    "%%R -o anl_prob\n",
    "anl_prob = rfit$ANL$prob"
   ]
  },
  {
   "cell_type": "code",
   "execution_count": 57,
   "metadata": {},
   "outputs": [
    {
     "data": {
      "text/html": [
       "\n",
       "    <span>ListVector with 1 elements.</span>\n",
       "    <table>\n",
       "      <tbody>\n",
       "      \n",
       "      <tr>\n",
       "      <th>\n",
       "        ANL\n",
       "      </th>\n",
       "      <td>\n",
       "        \n",
       "    <span>ListVector with 4 elements.</span>\n",
       "    <table>\n",
       "      <tbody>\n",
       "      \n",
       "      <tr>\n",
       "      <th>\n",
       "        node\n",
       "      </th>\n",
       "      <td>\n",
       "        \n",
       "    <span>StrVector with 1 elements.</span>\n",
       "    <table>\n",
       "      <tbody>\n",
       "      <tr>\n",
       "      \n",
       "      <td>\n",
       "        'ANL'\n",
       "      </td>\n",
       "      \n",
       "      </tr>\n",
       "      </tbody>\n",
       "    </table>\n",
       "    \n",
       "      </td>\n",
       "      </tr>\n",
       "      \n",
       "      <tr>\n",
       "      <th>\n",
       "        parents\n",
       "      </th>\n",
       "      <td>\n",
       "        \n",
       "    <span>StrVector with 1 elements.</span>\n",
       "    <table>\n",
       "      <tbody>\n",
       "      <tr>\n",
       "      \n",
       "      <td>\n",
       "        'STAT'\n",
       "      </td>\n",
       "      \n",
       "      </tr>\n",
       "      </tbody>\n",
       "    </table>\n",
       "    \n",
       "      </td>\n",
       "      </tr>\n",
       "      \n",
       "      <tr>\n",
       "      <th>\n",
       "        children\n",
       "      </th>\n",
       "      <td>\n",
       "        \n",
       "    <span>StrVector with 1 elements.</span>\n",
       "    <table>\n",
       "      <tbody>\n",
       "      <tr>\n",
       "      \n",
       "      <td>\n",
       "        'ALG'\n",
       "      </td>\n",
       "      \n",
       "      </tr>\n",
       "      </tbody>\n",
       "    </table>\n",
       "    \n",
       "      </td>\n",
       "      </tr>\n",
       "      \n",
       "      <tr>\n",
       "      <th>\n",
       "        prob\n",
       "      </th>\n",
       "      <td>\n",
       "        \n",
       "    <span>Matrix with 9 elements.</span>\n",
       "    <table>\n",
       "      <tbody>\n",
       "      <tr>\n",
       "      \n",
       "      <td>\n",
       "        0.833333\n",
       "      </td>\n",
       "      \n",
       "      <td>\n",
       "        0.166667\n",
       "      </td>\n",
       "      \n",
       "      <td>\n",
       "        0.000000\n",
       "      </td>\n",
       "      \n",
       "      <td>\n",
       "        0.472222\n",
       "      </td>\n",
       "      \n",
       "      <td>\n",
       "        ...\n",
       "      </td>\n",
       "      \n",
       "      <td>\n",
       "        0.055556\n",
       "      </td>\n",
       "      \n",
       "      <td>\n",
       "        0.205882\n",
       "      </td>\n",
       "      \n",
       "      <td>\n",
       "        0.323529\n",
       "      </td>\n",
       "      \n",
       "      <td>\n",
       "        0.470588\n",
       "      </td>\n",
       "      \n",
       "      </tr>\n",
       "      </tbody>\n",
       "    </table>\n",
       "    \n",
       "      </td>\n",
       "      </tr>\n",
       "      \n",
       "      </tbody>\n",
       "    </table>\n",
       "    \n",
       "      </td>\n",
       "      </tr>\n",
       "      \n",
       "      </tbody>\n",
       "    </table>\n",
       "    "
      ],
      "text/plain": [
       "R object with classes: ('list',) mapped to:\n",
       "<ListVector - Python:0x7fdd5e6ee888 / R:0x7fddcd50f0b8>\n",
       "[ListVector]\n",
       "R object with classes: ('list',) mapped to:\n",
       "<ListVector - Python:0x7fdd5e6ee888 / R:0x7fddcd50f0b8>\n",
       "[ListVector]"
      ]
     },
     "execution_count": 57,
     "metadata": {},
     "output_type": "execute_result"
    }
   ],
   "source": [
    "rfit.rx('ANL')"
   ]
  },
  {
   "cell_type": "code",
   "execution_count": 58,
   "metadata": {},
   "outputs": [
    {
     "data": {
      "text/plain": [
       "array([[0.83333333, 0.47222222, 0.20588235],\n",
       "       [0.16666667, 0.47222222, 0.32352941],\n",
       "       [0.        , 0.05555556, 0.47058824]])"
      ]
     },
     "execution_count": 58,
     "metadata": {},
     "output_type": "execute_result"
    }
   ],
   "source": [
    "rpy2.robjects.pandas2ri.ri2py(anl_prob)"
   ]
  },
  {
   "cell_type": "code",
   "execution_count": 59,
   "metadata": {},
   "outputs": [
    {
     "data": {
      "text/html": [
       "\n",
       "    <span>Matrix with 9 elements.</span>\n",
       "    <table>\n",
       "      <tbody>\n",
       "      <tr>\n",
       "      \n",
       "      <td>\n",
       "        0.833333\n",
       "      </td>\n",
       "      \n",
       "      <td>\n",
       "        0.166667\n",
       "      </td>\n",
       "      \n",
       "      <td>\n",
       "        0.000000\n",
       "      </td>\n",
       "      \n",
       "      <td>\n",
       "        0.472222\n",
       "      </td>\n",
       "      \n",
       "      <td>\n",
       "        ...\n",
       "      </td>\n",
       "      \n",
       "      <td>\n",
       "        0.055556\n",
       "      </td>\n",
       "      \n",
       "      <td>\n",
       "        0.205882\n",
       "      </td>\n",
       "      \n",
       "      <td>\n",
       "        0.323529\n",
       "      </td>\n",
       "      \n",
       "      <td>\n",
       "        0.470588\n",
       "      </td>\n",
       "      \n",
       "      </tr>\n",
       "      </tbody>\n",
       "    </table>\n",
       "    "
      ],
      "text/plain": [
       "R object with classes: ('table',) mapped to:\n",
       "<Matrix - Python:0x7fdd60e343c8 / R:0x7fddccd2fe48>\n",
       "[0.833333, 0.166667, 0.000000, 0.472222, ..., 0.055556, 0.205882, 0.323529, 0.470588]"
      ]
     },
     "execution_count": 59,
     "metadata": {},
     "output_type": "execute_result"
    }
   ],
   "source": [
    "anl_prob"
   ]
  },
  {
   "cell_type": "code",
   "execution_count": 60,
   "metadata": {},
   "outputs": [
    {
     "data": {
      "text/plain": [
       "'ANL'"
      ]
     },
     "execution_count": 60,
     "metadata": {},
     "output_type": "execute_result"
    }
   ],
   "source": [
    "anl_prob.names.rx('ANL').names[0]"
   ]
  },
  {
   "cell_type": "code",
   "execution_count": 61,
   "metadata": {
    "scrolled": true
   },
   "outputs": [
    {
     "data": {
      "text/html": [
       "\n",
       "    <span>ListVector with 2 elements.</span>\n",
       "    <table>\n",
       "      <tbody>\n",
       "      \n",
       "      <tr>\n",
       "      <th>\n",
       "        ANL\n",
       "      </th>\n",
       "      <td>\n",
       "        \n",
       "    <span>StrVector with 3 elements.</span>\n",
       "    <table>\n",
       "      <tbody>\n",
       "      <tr>\n",
       "      \n",
       "      <td>\n",
       "        '(9,47]'\n",
       "      </td>\n",
       "      \n",
       "      <td>\n",
       "        '(47,60.2]'\n",
       "      </td>\n",
       "      \n",
       "      <td>\n",
       "        '(60.2,70]'\n",
       "      </td>\n",
       "      \n",
       "      </tr>\n",
       "      </tbody>\n",
       "    </table>\n",
       "    \n",
       "      </td>\n",
       "      </tr>\n",
       "      \n",
       "      <tr>\n",
       "      <th>\n",
       "        STAT\n",
       "      </th>\n",
       "      <td>\n",
       "        \n",
       "    <span>StrVector with 3 elements.</span>\n",
       "    <table>\n",
       "      <tbody>\n",
       "      <tr>\n",
       "      \n",
       "      <td>\n",
       "        '[9,29.4]'\n",
       "      </td>\n",
       "      \n",
       "      <td>\n",
       "        '(29.4,44]'\n",
       "      </td>\n",
       "      \n",
       "      <td>\n",
       "        '(44,81]'\n",
       "      </td>\n",
       "      \n",
       "      </tr>\n",
       "      </tbody>\n",
       "    </table>\n",
       "    \n",
       "      </td>\n",
       "      </tr>\n",
       "      \n",
       "      </tbody>\n",
       "    </table>\n",
       "    "
      ],
      "text/plain": [
       "R object with classes: ('list',) mapped to:\n",
       "<ListVector - Python:0x7fdd5ee43348 / R:0x7fddcbe1aac0>\n",
       "[StrVector, StrVector]\n",
       "  ANL: <class 'rpy2.robjects.vectors.StrVector'>\n",
       "  R object with classes: ('character',) mapped to:\n",
       "<StrVector - Python:0x7fdd5e783c48 / R:0x7fddcc338010>\n",
       "['(9,47]', '(47,60.2]', '(60.2,70]']\n",
       "  STAT: <class 'rpy2.robjects.vectors.StrVector'>\n",
       "  R object with classes: ('character',) mapped to:\n",
       "<StrVector - Python:0x7fdd5e6f3ac8 / R:0x7fddce07d560>\n",
       "['[9,29.4]', '(29.4,44]', '(44,81]']"
      ]
     },
     "execution_count": 61,
     "metadata": {},
     "output_type": "execute_result"
    }
   ],
   "source": [
    "anl_prob.names"
   ]
  },
  {
   "cell_type": "code",
   "execution_count": 62,
   "metadata": {},
   "outputs": [
    {
     "data": {
      "text/html": [
       "\n",
       "    <span>ListVector with 2 elements.</span>\n",
       "    <table>\n",
       "      <tbody>\n",
       "      \n",
       "      <tr>\n",
       "      <th>\n",
       "        ANL\n",
       "      </th>\n",
       "      <td>\n",
       "        \n",
       "    <span>StrVector with 3 elements.</span>\n",
       "    <table>\n",
       "      <tbody>\n",
       "      <tr>\n",
       "      \n",
       "      <td>\n",
       "        '(9,47]'\n",
       "      </td>\n",
       "      \n",
       "      <td>\n",
       "        '(47,60.2]'\n",
       "      </td>\n",
       "      \n",
       "      <td>\n",
       "        '(60.2,70]'\n",
       "      </td>\n",
       "      \n",
       "      </tr>\n",
       "      </tbody>\n",
       "    </table>\n",
       "    \n",
       "      </td>\n",
       "      </tr>\n",
       "      \n",
       "      <tr>\n",
       "      <th>\n",
       "        STAT\n",
       "      </th>\n",
       "      <td>\n",
       "        \n",
       "    <span>StrVector with 3 elements.</span>\n",
       "    <table>\n",
       "      <tbody>\n",
       "      <tr>\n",
       "      \n",
       "      <td>\n",
       "        '[9,29.4]'\n",
       "      </td>\n",
       "      \n",
       "      <td>\n",
       "        '(29.4,44]'\n",
       "      </td>\n",
       "      \n",
       "      <td>\n",
       "        '(44,81]'\n",
       "      </td>\n",
       "      \n",
       "      </tr>\n",
       "      </tbody>\n",
       "    </table>\n",
       "    \n",
       "      </td>\n",
       "      </tr>\n",
       "      \n",
       "      </tbody>\n",
       "    </table>\n",
       "    "
      ],
      "text/plain": [
       "R object with classes: ('list',) mapped to:\n",
       "<ListVector - Python:0x7fdd5e6f3148 / R:0x7fddcbe1aac0>\n",
       "[StrVector, StrVector]\n",
       "  ANL: <class 'rpy2.robjects.vectors.StrVector'>\n",
       "  R object with classes: ('character',) mapped to:\n",
       "<StrVector - Python:0x7fdd5e6df808 / R:0x7fddcc338010>\n",
       "['(9,47]', '(47,60.2]', '(60.2,70]']\n",
       "  STAT: <class 'rpy2.robjects.vectors.StrVector'>\n",
       "  R object with classes: ('character',) mapped to:\n",
       "<StrVector - Python:0x7fdd5e6f3cc8 / R:0x7fddce07d560>\n",
       "['[9,29.4]', '(29.4,44]', '(44,81]']"
      ]
     },
     "execution_count": 62,
     "metadata": {},
     "output_type": "execute_result"
    }
   ],
   "source": [
    "anl_prob.names"
   ]
  },
  {
   "cell_type": "code",
   "execution_count": 63,
   "metadata": {},
   "outputs": [
    {
     "data": {
      "text/html": [
       "\n",
       "    <span>StrVector with 3 elements.</span>\n",
       "    <table>\n",
       "      <tbody>\n",
       "      <tr>\n",
       "      \n",
       "      <td>\n",
       "        '(9,47]'\n",
       "      </td>\n",
       "      \n",
       "      <td>\n",
       "        '(47,60.2]'\n",
       "      </td>\n",
       "      \n",
       "      <td>\n",
       "        '(60.2,70]'\n",
       "      </td>\n",
       "      \n",
       "      </tr>\n",
       "      </tbody>\n",
       "    </table>\n",
       "    "
      ],
      "text/plain": [
       "R object with classes: ('character',) mapped to:\n",
       "<StrVector - Python:0x7fdd5e6f3f88 / R:0x7fddcc338010>\n",
       "['(9,47]', '(47,60.2]', '(60.2,70]']"
      ]
     },
     "execution_count": 63,
     "metadata": {},
     "output_type": "execute_result"
    }
   ],
   "source": [
    "rfit.rx('ANL')[0].rx('prob')[0].names.rx('ANL')[0]"
   ]
  },
  {
   "cell_type": "code",
   "execution_count": 64,
   "metadata": {},
   "outputs": [
    {
     "data": {
      "text/plain": [
       "array([[0.83333333, 0.47222222, 0.20588235],\n",
       "       [0.16666667, 0.47222222, 0.32352941],\n",
       "       [0.        , 0.05555556, 0.47058824]])"
      ]
     },
     "execution_count": 64,
     "metadata": {},
     "output_type": "execute_result"
    }
   ],
   "source": [
    "rpy2.robjects.pandas2ri.ri2py(rfit.rx('ANL')[0].rx('prob')[0])"
   ]
  },
  {
   "cell_type": "code",
   "execution_count": 65,
   "metadata": {},
   "outputs": [
    {
     "data": {
      "text/html": [
       "\n",
       "    <span>StrVector with 3 elements.</span>\n",
       "    <table>\n",
       "      <tbody>\n",
       "      <tr>\n",
       "      \n",
       "      <td>\n",
       "        '(9,47]'\n",
       "      </td>\n",
       "      \n",
       "      <td>\n",
       "        '(47,60.2]'\n",
       "      </td>\n",
       "      \n",
       "      <td>\n",
       "        '(60.2,70]'\n",
       "      </td>\n",
       "      \n",
       "      </tr>\n",
       "      </tbody>\n",
       "    </table>\n",
       "    "
      ],
      "text/plain": [
       "R object with classes: ('character',) mapped to:\n",
       "<StrVector - Python:0x7fdd5e6ff288 / R:0x7fddcc338010>\n",
       "['(9,47]', '(47,60.2]', '(60.2,70]']"
      ]
     },
     "execution_count": 65,
     "metadata": {},
     "output_type": "execute_result"
    }
   ],
   "source": [
    "rfit.rx('ANL')[0].rx('prob')[0].names.rx('ANL')[0]"
   ]
  },
  {
   "cell_type": "code",
   "execution_count": 66,
   "metadata": {},
   "outputs": [
    {
     "data": {
      "text/html": [
       "\n",
       "    <span>ListVector with 2 elements.</span>\n",
       "    <table>\n",
       "      <tbody>\n",
       "      \n",
       "      <tr>\n",
       "      <th>\n",
       "        ANL\n",
       "      </th>\n",
       "      <td>\n",
       "        \n",
       "    <span>StrVector with 3 elements.</span>\n",
       "    <table>\n",
       "      <tbody>\n",
       "      <tr>\n",
       "      \n",
       "      <td>\n",
       "        '(9,47]'\n",
       "      </td>\n",
       "      \n",
       "      <td>\n",
       "        '(47,60.2]'\n",
       "      </td>\n",
       "      \n",
       "      <td>\n",
       "        '(60.2,70]'\n",
       "      </td>\n",
       "      \n",
       "      </tr>\n",
       "      </tbody>\n",
       "    </table>\n",
       "    \n",
       "      </td>\n",
       "      </tr>\n",
       "      \n",
       "      <tr>\n",
       "      <th>\n",
       "        STAT\n",
       "      </th>\n",
       "      <td>\n",
       "        \n",
       "    <span>StrVector with 3 elements.</span>\n",
       "    <table>\n",
       "      <tbody>\n",
       "      <tr>\n",
       "      \n",
       "      <td>\n",
       "        '[9,29.4]'\n",
       "      </td>\n",
       "      \n",
       "      <td>\n",
       "        '(29.4,44]'\n",
       "      </td>\n",
       "      \n",
       "      <td>\n",
       "        '(44,81]'\n",
       "      </td>\n",
       "      \n",
       "      </tr>\n",
       "      </tbody>\n",
       "    </table>\n",
       "    \n",
       "      </td>\n",
       "      </tr>\n",
       "      \n",
       "      </tbody>\n",
       "    </table>\n",
       "    "
      ],
      "text/plain": [
       "R object with classes: ('list',) mapped to:\n",
       "<ListVector - Python:0x7fdd5e6f30c8 / R:0x7fddcbe1aac0>\n",
       "[StrVector, StrVector]\n",
       "  ANL: <class 'rpy2.robjects.vectors.StrVector'>\n",
       "  R object with classes: ('character',) mapped to:\n",
       "<StrVector - Python:0x7fdd5e6f3f08 / R:0x7fddcc338010>\n",
       "['(9,47]', '(47,60.2]', '(60.2,70]']\n",
       "  STAT: <class 'rpy2.robjects.vectors.StrVector'>\n",
       "  R object with classes: ('character',) mapped to:\n",
       "<StrVector - Python:0x7fdd5e6f33c8 / R:0x7fddce07d560>\n",
       "['[9,29.4]', '(29.4,44]', '(44,81]']"
      ]
     },
     "execution_count": 66,
     "metadata": {},
     "output_type": "execute_result"
    }
   ],
   "source": [
    "rfit.rx('ANL')[0].rx('prob')[0].names"
   ]
  },
  {
   "cell_type": "code",
   "execution_count": 67,
   "metadata": {},
   "outputs": [
    {
     "data": {
      "text/plain": [
       "'[9,29.4]'"
      ]
     },
     "execution_count": 67,
     "metadata": {},
     "output_type": "execute_result"
    }
   ],
   "source": [
    "rfit.rx('STAT')[0].rx('prob')[0].names[0][0]"
   ]
  },
  {
   "cell_type": "code",
   "execution_count": 68,
   "metadata": {},
   "outputs": [
    {
     "data": {
      "text/plain": [
       "<xarray.Dataset>\n",
       "Dimensions:  (ALG: 3, ANL: 3, MECH: 3, STAT: 3, VECT: 3)\n",
       "Coordinates:\n",
       "  * ALG      (ALG) <U9 '[15,43]' '(43,59.6]' '(59.6,80]'\n",
       "  * ANL      (ANL) <U9 '(9,47]' '(47,60.2]' '(60.2,70]'\n",
       "  * STAT     (STAT) <U9 '[9,29.4]' '(29.4,44]' '(44,81]'\n",
       "  * MECH     (MECH) <U9 '[0,22.4]' '(22.4,46]' '(46,77]'\n",
       "  * VECT     (VECT) <U7 '[9,40]' '(40,61]' '(61,82]'\n",
       "Data variables:\n",
       "    cptALG   (ALG, ANL, STAT) float64 0.6667 0.3529 0.1429 0.3333 0.05882 ...\n",
       "    cptANL   (ANL, STAT) float64 0.8333 0.4722 0.2059 0.1667 0.4722 0.3235 ...\n",
       "    cptMECH  (MECH, ALG, VECT) float64 0.5455 0.3333 0.3333 0.25 0.1714 0.0 ...\n",
       "    cptSTAT  (STAT) float64 0.2045 0.4091 0.3864\n",
       "    cptVECT  (VECT, ALG) float64 0.55 0.16 0.0 0.45 0.7 0.4444 0.0 0.14 0.5556"
      ]
     },
     "execution_count": 68,
     "metadata": {},
     "output_type": "execute_result"
    }
   ],
   "source": [
    "ds,lpd = pybnl.bn.convert_to_xarray_dataset(bn.rfit)\n",
    "ds"
   ]
  },
  {
   "cell_type": "code",
   "execution_count": 69,
   "metadata": {},
   "outputs": [
    {
     "data": {
      "text/html": [
       "<div>\n",
       "<style scoped>\n",
       "    .dataframe tbody tr th:only-of-type {\n",
       "        vertical-align: middle;\n",
       "    }\n",
       "\n",
       "    .dataframe tbody tr th {\n",
       "        vertical-align: top;\n",
       "    }\n",
       "\n",
       "    .dataframe thead th {\n",
       "        text-align: right;\n",
       "    }\n",
       "</style>\n",
       "<table border=\"1\" class=\"dataframe\">\n",
       "  <thead>\n",
       "    <tr style=\"text-align: right;\">\n",
       "      <th></th>\n",
       "      <th>ANL</th>\n",
       "      <th>STAT</th>\n",
       "      <th>ALG</th>\n",
       "      <th>p</th>\n",
       "    </tr>\n",
       "  </thead>\n",
       "  <tbody>\n",
       "    <tr>\n",
       "      <th>0</th>\n",
       "      <td>(9,47]</td>\n",
       "      <td>[9,29.4]</td>\n",
       "      <td>[15,43]</td>\n",
       "      <td>0.666667</td>\n",
       "    </tr>\n",
       "    <tr>\n",
       "      <th>1</th>\n",
       "      <td>(9,47]</td>\n",
       "      <td>[9,29.4]</td>\n",
       "      <td>(43,59.6]</td>\n",
       "      <td>0.333333</td>\n",
       "    </tr>\n",
       "    <tr>\n",
       "      <th>2</th>\n",
       "      <td>(9,47]</td>\n",
       "      <td>[9,29.4]</td>\n",
       "      <td>(59.6,80]</td>\n",
       "      <td>0.000000</td>\n",
       "    </tr>\n",
       "    <tr>\n",
       "      <th>3</th>\n",
       "      <td>(9,47]</td>\n",
       "      <td>(29.4,44]</td>\n",
       "      <td>[15,43]</td>\n",
       "      <td>0.352941</td>\n",
       "    </tr>\n",
       "    <tr>\n",
       "      <th>4</th>\n",
       "      <td>(9,47]</td>\n",
       "      <td>(29.4,44]</td>\n",
       "      <td>(43,59.6]</td>\n",
       "      <td>0.647059</td>\n",
       "    </tr>\n",
       "    <tr>\n",
       "      <th>5</th>\n",
       "      <td>(9,47]</td>\n",
       "      <td>(29.4,44]</td>\n",
       "      <td>(59.6,80]</td>\n",
       "      <td>0.000000</td>\n",
       "    </tr>\n",
       "    <tr>\n",
       "      <th>6</th>\n",
       "      <td>(9,47]</td>\n",
       "      <td>(44,81]</td>\n",
       "      <td>[15,43]</td>\n",
       "      <td>0.142857</td>\n",
       "    </tr>\n",
       "    <tr>\n",
       "      <th>7</th>\n",
       "      <td>(9,47]</td>\n",
       "      <td>(44,81]</td>\n",
       "      <td>(43,59.6]</td>\n",
       "      <td>0.857143</td>\n",
       "    </tr>\n",
       "    <tr>\n",
       "      <th>8</th>\n",
       "      <td>(9,47]</td>\n",
       "      <td>(44,81]</td>\n",
       "      <td>(59.6,80]</td>\n",
       "      <td>0.000000</td>\n",
       "    </tr>\n",
       "    <tr>\n",
       "      <th>9</th>\n",
       "      <td>(47,60.2]</td>\n",
       "      <td>[9,29.4]</td>\n",
       "      <td>[15,43]</td>\n",
       "      <td>0.333333</td>\n",
       "    </tr>\n",
       "    <tr>\n",
       "      <th>10</th>\n",
       "      <td>(47,60.2]</td>\n",
       "      <td>[9,29.4]</td>\n",
       "      <td>(43,59.6]</td>\n",
       "      <td>0.666667</td>\n",
       "    </tr>\n",
       "    <tr>\n",
       "      <th>11</th>\n",
       "      <td>(47,60.2]</td>\n",
       "      <td>[9,29.4]</td>\n",
       "      <td>(59.6,80]</td>\n",
       "      <td>0.000000</td>\n",
       "    </tr>\n",
       "    <tr>\n",
       "      <th>12</th>\n",
       "      <td>(47,60.2]</td>\n",
       "      <td>(29.4,44]</td>\n",
       "      <td>[15,43]</td>\n",
       "      <td>0.058824</td>\n",
       "    </tr>\n",
       "    <tr>\n",
       "      <th>13</th>\n",
       "      <td>(47,60.2]</td>\n",
       "      <td>(29.4,44]</td>\n",
       "      <td>(43,59.6]</td>\n",
       "      <td>0.882353</td>\n",
       "    </tr>\n",
       "    <tr>\n",
       "      <th>14</th>\n",
       "      <td>(47,60.2]</td>\n",
       "      <td>(29.4,44]</td>\n",
       "      <td>(59.6,80]</td>\n",
       "      <td>0.058824</td>\n",
       "    </tr>\n",
       "    <tr>\n",
       "      <th>15</th>\n",
       "      <td>(47,60.2]</td>\n",
       "      <td>(44,81]</td>\n",
       "      <td>[15,43]</td>\n",
       "      <td>0.090909</td>\n",
       "    </tr>\n",
       "    <tr>\n",
       "      <th>16</th>\n",
       "      <td>(47,60.2]</td>\n",
       "      <td>(44,81]</td>\n",
       "      <td>(43,59.6]</td>\n",
       "      <td>0.454545</td>\n",
       "    </tr>\n",
       "    <tr>\n",
       "      <th>17</th>\n",
       "      <td>(47,60.2]</td>\n",
       "      <td>(44,81]</td>\n",
       "      <td>(59.6,80]</td>\n",
       "      <td>0.454545</td>\n",
       "    </tr>\n",
       "    <tr>\n",
       "      <th>18</th>\n",
       "      <td>(60.2,70]</td>\n",
       "      <td>[9,29.4]</td>\n",
       "      <td>[15,43]</td>\n",
       "      <td>0.333333</td>\n",
       "    </tr>\n",
       "    <tr>\n",
       "      <th>19</th>\n",
       "      <td>(60.2,70]</td>\n",
       "      <td>[9,29.4]</td>\n",
       "      <td>(43,59.6]</td>\n",
       "      <td>0.333333</td>\n",
       "    </tr>\n",
       "    <tr>\n",
       "      <th>20</th>\n",
       "      <td>(60.2,70]</td>\n",
       "      <td>[9,29.4]</td>\n",
       "      <td>(59.6,80]</td>\n",
       "      <td>0.333333</td>\n",
       "    </tr>\n",
       "    <tr>\n",
       "      <th>21</th>\n",
       "      <td>(60.2,70]</td>\n",
       "      <td>(29.4,44]</td>\n",
       "      <td>[15,43]</td>\n",
       "      <td>0.000000</td>\n",
       "    </tr>\n",
       "    <tr>\n",
       "      <th>22</th>\n",
       "      <td>(60.2,70]</td>\n",
       "      <td>(29.4,44]</td>\n",
       "      <td>(43,59.6]</td>\n",
       "      <td>1.000000</td>\n",
       "    </tr>\n",
       "    <tr>\n",
       "      <th>23</th>\n",
       "      <td>(60.2,70]</td>\n",
       "      <td>(29.4,44]</td>\n",
       "      <td>(59.6,80]</td>\n",
       "      <td>0.000000</td>\n",
       "    </tr>\n",
       "    <tr>\n",
       "      <th>24</th>\n",
       "      <td>(60.2,70]</td>\n",
       "      <td>(44,81]</td>\n",
       "      <td>[15,43]</td>\n",
       "      <td>0.000000</td>\n",
       "    </tr>\n",
       "    <tr>\n",
       "      <th>25</th>\n",
       "      <td>(60.2,70]</td>\n",
       "      <td>(44,81]</td>\n",
       "      <td>(43,59.6]</td>\n",
       "      <td>0.250000</td>\n",
       "    </tr>\n",
       "    <tr>\n",
       "      <th>26</th>\n",
       "      <td>(60.2,70]</td>\n",
       "      <td>(44,81]</td>\n",
       "      <td>(59.6,80]</td>\n",
       "      <td>0.750000</td>\n",
       "    </tr>\n",
       "  </tbody>\n",
       "</table>\n",
       "</div>"
      ],
      "text/plain": [
       "          ANL       STAT        ALG         p\n",
       "0      (9,47]   [9,29.4]    [15,43]  0.666667\n",
       "1      (9,47]   [9,29.4]  (43,59.6]  0.333333\n",
       "2      (9,47]   [9,29.4]  (59.6,80]  0.000000\n",
       "3      (9,47]  (29.4,44]    [15,43]  0.352941\n",
       "4      (9,47]  (29.4,44]  (43,59.6]  0.647059\n",
       "5      (9,47]  (29.4,44]  (59.6,80]  0.000000\n",
       "6      (9,47]    (44,81]    [15,43]  0.142857\n",
       "7      (9,47]    (44,81]  (43,59.6]  0.857143\n",
       "8      (9,47]    (44,81]  (59.6,80]  0.000000\n",
       "9   (47,60.2]   [9,29.4]    [15,43]  0.333333\n",
       "10  (47,60.2]   [9,29.4]  (43,59.6]  0.666667\n",
       "11  (47,60.2]   [9,29.4]  (59.6,80]  0.000000\n",
       "12  (47,60.2]  (29.4,44]    [15,43]  0.058824\n",
       "13  (47,60.2]  (29.4,44]  (43,59.6]  0.882353\n",
       "14  (47,60.2]  (29.4,44]  (59.6,80]  0.058824\n",
       "15  (47,60.2]    (44,81]    [15,43]  0.090909\n",
       "16  (47,60.2]    (44,81]  (43,59.6]  0.454545\n",
       "17  (47,60.2]    (44,81]  (59.6,80]  0.454545\n",
       "18  (60.2,70]   [9,29.4]    [15,43]  0.333333\n",
       "19  (60.2,70]   [9,29.4]  (43,59.6]  0.333333\n",
       "20  (60.2,70]   [9,29.4]  (59.6,80]  0.333333\n",
       "21  (60.2,70]  (29.4,44]    [15,43]  0.000000\n",
       "22  (60.2,70]  (29.4,44]  (43,59.6]  1.000000\n",
       "23  (60.2,70]  (29.4,44]  (59.6,80]  0.000000\n",
       "24  (60.2,70]    (44,81]    [15,43]  0.000000\n",
       "25  (60.2,70]    (44,81]  (43,59.6]  0.250000\n",
       "26  (60.2,70]    (44,81]  (59.6,80]  0.750000"
      ]
     },
     "execution_count": 69,
     "metadata": {},
     "output_type": "execute_result"
    }
   ],
   "source": [
    "lpd['cptALG']"
   ]
  },
  {
   "cell_type": "code",
   "execution_count": 70,
   "metadata": {},
   "outputs": [
    {
     "data": {
      "text/plain": [
       "<xarray.DataArray 'cptSTAT' (STAT: 3)>\n",
       "array([0.204545, 0.409091, 0.386364])\n",
       "Coordinates:\n",
       "  * STAT     (STAT) <U9 '[9,29.4]' '(29.4,44]' '(44,81]'"
      ]
     },
     "execution_count": 70,
     "metadata": {},
     "output_type": "execute_result"
    }
   ],
   "source": [
    "ds['cptSTAT']"
   ]
  },
  {
   "cell_type": "code",
   "execution_count": 71,
   "metadata": {},
   "outputs": [
    {
     "data": {
      "text/plain": [
       "<xarray.DataArray 'cptANL' (ANL: 3, STAT: 3)>\n",
       "array([[0.833333, 0.472222, 0.205882],\n",
       "       [0.166667, 0.472222, 0.323529],\n",
       "       [0.      , 0.055556, 0.470588]])\n",
       "Coordinates:\n",
       "  * ANL      (ANL) <U9 '(9,47]' '(47,60.2]' '(60.2,70]'\n",
       "  * STAT     (STAT) <U9 '[9,29.4]' '(29.4,44]' '(44,81]'"
      ]
     },
     "execution_count": 71,
     "metadata": {},
     "output_type": "execute_result"
    }
   ],
   "source": [
    "ds['cptANL']"
   ]
  },
  {
   "cell_type": "code",
   "execution_count": 72,
   "metadata": {},
   "outputs": [
    {
     "data": {
      "text/plain": [
       "<xarray.DataArray 'cptANL' (ANL: 3)>\n",
       "array([0.833333, 0.166667, 0.      ])\n",
       "Coordinates:\n",
       "  * ANL      (ANL) <U9 '(9,47]' '(47,60.2]' '(60.2,70]'\n",
       "    STAT     <U9 '[9,29.4]'"
      ]
     },
     "execution_count": 72,
     "metadata": {},
     "output_type": "execute_result"
    }
   ],
   "source": [
    "ds['cptANL'].loc[{'STAT': '[9,29.4]'}]"
   ]
  },
  {
   "cell_type": "code",
   "execution_count": 73,
   "metadata": {},
   "outputs": [
    {
     "data": {
      "text/plain": [
       "<xarray.DataArray 'cptALG' (ALG: 3, ANL: 3, STAT: 3)>\n",
       "array([[[0.666667, 0.352941, 0.142857],\n",
       "        [0.333333, 0.058824, 0.090909],\n",
       "        [0.333333, 0.      , 0.      ]],\n",
       "\n",
       "       [[0.333333, 0.647059, 0.857143],\n",
       "        [0.666667, 0.882353, 0.454545],\n",
       "        [0.333333, 1.      , 0.25    ]],\n",
       "\n",
       "       [[0.      , 0.      , 0.      ],\n",
       "        [0.      , 0.058824, 0.454545],\n",
       "        [0.333333, 0.      , 0.75    ]]])\n",
       "Coordinates:\n",
       "  * ALG      (ALG) <U9 '[15,43]' '(43,59.6]' '(59.6,80]'\n",
       "  * ANL      (ANL) <U9 '(9,47]' '(47,60.2]' '(60.2,70]'\n",
       "  * STAT     (STAT) <U9 '[9,29.4]' '(29.4,44]' '(44,81]'"
      ]
     },
     "execution_count": 73,
     "metadata": {},
     "output_type": "execute_result"
    }
   ],
   "source": [
    "ds['cptALG']"
   ]
  },
  {
   "cell_type": "code",
   "execution_count": 74,
   "metadata": {},
   "outputs": [
    {
     "data": {
      "text/plain": [
       "<xarray.DataArray 'cptALG' (ALG: 3)>\n",
       "array([0.666667, 0.333333, 0.      ])\n",
       "Coordinates:\n",
       "  * ALG      (ALG) <U9 '[15,43]' '(43,59.6]' '(59.6,80]'\n",
       "    ANL      <U9 '(9,47]'\n",
       "    STAT     <U9 '[9,29.4]'"
      ]
     },
     "execution_count": 74,
     "metadata": {},
     "output_type": "execute_result"
    }
   ],
   "source": [
    "ds['cptALG'].loc[{'ANL': '(9,47]', 'STAT': '[9,29.4]'}]"
   ]
  },
  {
   "cell_type": "code",
   "execution_count": 75,
   "metadata": {},
   "outputs": [
    {
     "data": {
      "text/plain": [
       "<xarray.DataArray 'cptALG' (ALG: 3)>\n",
       "array([0.058824, 0.882353, 0.058824])\n",
       "Coordinates:\n",
       "  * ALG      (ALG) <U9 '[15,43]' '(43,59.6]' '(59.6,80]'\n",
       "    ANL      <U9 '(47,60.2]'\n",
       "    STAT     <U9 '(29.4,44]'"
      ]
     },
     "execution_count": 75,
     "metadata": {},
     "output_type": "execute_result"
    }
   ],
   "source": [
    "ds['cptALG'].loc[{'ANL': '(47,60.2]', 'STAT': '(29.4,44]'}]"
   ]
  },
  {
   "cell_type": "code",
   "execution_count": 76,
   "metadata": {},
   "outputs": [
    {
     "data": {
      "text/plain": [
       "array([0.05882353, 0.88235294, 0.05882353])"
      ]
     },
     "execution_count": 76,
     "metadata": {},
     "output_type": "execute_result"
    }
   ],
   "source": [
    "ds['cptALG'].values[:,1,1]"
   ]
  },
  {
   "cell_type": "code",
   "execution_count": 77,
   "metadata": {},
   "outputs": [
    {
     "data": {
      "text/plain": [
       "array([[[0.66666667, 0.35294118, 0.14285714],\n",
       "        [0.33333333, 0.05882353, 0.09090909],\n",
       "        [0.33333333, 0.        , 0.        ]],\n",
       "\n",
       "       [[0.33333333, 0.64705882, 0.85714286],\n",
       "        [0.66666667, 0.88235294, 0.45454545],\n",
       "        [0.33333333, 1.        , 0.25      ]],\n",
       "\n",
       "       [[0.        , 0.        , 0.        ],\n",
       "        [0.        , 0.05882353, 0.45454545],\n",
       "        [0.33333333, 0.        , 0.75      ]]])"
      ]
     },
     "execution_count": 77,
     "metadata": {},
     "output_type": "execute_result"
    }
   ],
   "source": [
    "ds['cptALG'].values"
   ]
  },
  {
   "cell_type": "code",
   "execution_count": 78,
   "metadata": {},
   "outputs": [
    {
     "data": {
      "text/plain": [
       "<xarray.DataArray 'cptALG' (ALG: 3)>\n",
       "array([0.333333, 0.333333, 0.333333])\n",
       "Coordinates:\n",
       "  * ALG      (ALG) <U9 '[15,43]' '(43,59.6]' '(59.6,80]'\n",
       "    ANL      <U9 '(60.2,70]'\n",
       "    STAT     <U9 '[9,29.4]'"
      ]
     },
     "execution_count": 78,
     "metadata": {},
     "output_type": "execute_result"
    }
   ],
   "source": [
    "ds['cptALG'].loc[{'ANL': '(60.2,70]', 'STAT': '[9,29.4]'}]"
   ]
  },
  {
   "cell_type": "code",
   "execution_count": 79,
   "metadata": {},
   "outputs": [
    {
     "data": {
      "text/plain": [
       "ANL        STAT       ALG      \n",
       "(9,47]     [9,29.4]   [15,43]      0.666667\n",
       "                      (43,59.6]    0.333333\n",
       "                      (59.6,80]    0.000000\n",
       "           (29.4,44]  [15,43]      0.352941\n",
       "                      (43,59.6]    0.647059\n",
       "                      (59.6,80]    0.000000\n",
       "           (44,81]    [15,43]      0.142857\n",
       "                      (43,59.6]    0.857143\n",
       "                      (59.6,80]    0.000000\n",
       "(47,60.2]  [9,29.4]   [15,43]      0.333333\n",
       "                      (43,59.6]    0.666667\n",
       "                      (59.6,80]    0.000000\n",
       "           (29.4,44]  [15,43]      0.058824\n",
       "                      (43,59.6]    0.882353\n",
       "                      (59.6,80]    0.058824\n",
       "           (44,81]    [15,43]      0.090909\n",
       "                      (43,59.6]    0.454545\n",
       "                      (59.6,80]    0.454545\n",
       "(60.2,70]  [9,29.4]   [15,43]      0.333333\n",
       "                      (43,59.6]    0.333333\n",
       "                      (59.6,80]    0.333333\n",
       "           (29.4,44]  [15,43]      0.000000\n",
       "                      (43,59.6]    1.000000\n",
       "                      (59.6,80]    0.000000\n",
       "           (44,81]    [15,43]      0.000000\n",
       "                      (43,59.6]    0.250000\n",
       "                      (59.6,80]    0.750000\n",
       "dtype: float64"
      ]
     },
     "execution_count": 79,
     "metadata": {},
     "output_type": "execute_result"
    }
   ],
   "source": [
    "ds['cptALG'].transpose('ANL', 'STAT', 'ALG').stack(idx=['ANL', 'STAT', 'ALG']).to_pandas()#.reset_index()"
   ]
  },
  {
   "cell_type": "code",
   "execution_count": 80,
   "metadata": {},
   "outputs": [],
   "source": [
    "ds.to_netcdf('marks.nc')"
   ]
  },
  {
   "cell_type": "markdown",
   "metadata": {},
   "source": [
    "* [NetCDF](https://www.unidata.ucar.edu/software/netcdf/software.html) viewers\n",
    "* use `ncdump` from the `netcdf-bin` package"
   ]
  },
  {
   "cell_type": "code",
   "execution_count": 81,
   "metadata": {},
   "outputs": [
    {
     "data": {
      "text/plain": [
       "<xarray.Dataset>\n",
       "Dimensions:  (ALG: 3, ANL: 3, MECH: 3, STAT: 3, VECT: 3)\n",
       "Coordinates:\n",
       "  * ALG      (ALG) object '[15,43]' '(43,59.6]' '(59.6,80]'\n",
       "  * ANL      (ANL) object '(9,47]' '(47,60.2]' '(60.2,70]'\n",
       "  * STAT     (STAT) object '[9,29.4]' '(29.4,44]' '(44,81]'\n",
       "  * MECH     (MECH) object '[0,22.4]' '(22.4,46]' '(46,77]'\n",
       "  * VECT     (VECT) object '[9,40]' '(40,61]' '(61,82]'\n",
       "Data variables:\n",
       "    cptALG   (ALG, ANL, STAT) float64 ...\n",
       "    cptANL   (ANL, STAT) float64 ...\n",
       "    cptMECH  (MECH, ALG, VECT) float64 ...\n",
       "    cptSTAT  (STAT) float64 ...\n",
       "    cptVECT  (VECT, ALG) float64 ..."
      ]
     },
     "execution_count": 81,
     "metadata": {},
     "output_type": "execute_result"
    }
   ],
   "source": [
    "tmp = xr.open_dataset('marks.nc', autoclose=True)\n",
    "tmp"
   ]
  },
  {
   "cell_type": "code",
   "execution_count": 82,
   "metadata": {},
   "outputs": [
    {
     "data": {
      "text/plain": [
       "True"
      ]
     },
     "execution_count": 82,
     "metadata": {},
     "output_type": "execute_result"
    }
   ],
   "source": [
    "tmp.equals(ds)"
   ]
  },
  {
   "cell_type": "code",
   "execution_count": 83,
   "metadata": {},
   "outputs": [
    {
     "data": {
      "text/plain": [
       "'cptALG'"
      ]
     },
     "execution_count": 83,
     "metadata": {},
     "output_type": "execute_result"
    }
   ],
   "source": [
    "def tmpfn():\n",
    "    for ar in tmp.data_vars:\n",
    "        return ar\n",
    "tmpfn()"
   ]
  },
  {
   "cell_type": "code",
   "execution_count": 84,
   "metadata": {},
   "outputs": [],
   "source": [
    "bn.write_netcdf('marks.nc')"
   ]
  },
  {
   "cell_type": "code",
   "execution_count": 85,
   "metadata": {},
   "outputs": [
    {
     "name": "stdout",
     "output_type": "stream",
     "text": [
      "<xarray.Dataset>\n",
      "Dimensions:  (ALG: 3, ANL: 3, MECH: 3, STAT: 3, VECT: 3)\n",
      "Coordinates:\n",
      "  * ALG      (ALG) object '[15,43]' '(43,59.6]' '(59.6,80]'\n",
      "  * ANL      (ANL) object '(9,47]' '(47,60.2]' '(60.2,70]'\n",
      "  * STAT     (STAT) object '[9,29.4]' '(29.4,44]' '(44,81]'\n",
      "  * MECH     (MECH) object '[0,22.4]' '(22.4,46]' '(46,77]'\n",
      "  * VECT     (VECT) object '[9,40]' '(40,61]' '(61,82]'\n",
      "Data variables:\n",
      "    cptALG   (ALG, ANL, STAT) float64 ...\n",
      "    cptANL   (ANL, STAT) float64 ...\n",
      "    cptMECH  (MECH, ALG, VECT) float64 ...\n",
      "    cptSTAT  (STAT) float64 ...\n",
      "    cptVECT  (VECT, ALG) float64 ...\n"
     ]
    }
   ],
   "source": [
    "bn1 = pybnl.bn.bnnet_from_netcdf_file('marks.nc')"
   ]
  },
  {
   "cell_type": "code",
   "execution_count": 86,
   "metadata": {},
   "outputs": [
    {
     "data": {
      "text/plain": [
       "True"
      ]
     },
     "execution_count": 86,
     "metadata": {},
     "output_type": "execute_result"
    }
   ],
   "source": [
    "bn1.to_xrds().equals(bn.to_xrds())"
   ]
  },
  {
   "cell_type": "code",
   "execution_count": 87,
   "metadata": {},
   "outputs": [
    {
     "data": {
      "text/plain": [
       "<xarray.Dataset>\n",
       "Dimensions:  (ALG: 3, ANL: 3, MECH: 3, STAT: 3, VECT: 3)\n",
       "Coordinates:\n",
       "  * ALG      (ALG) <U9 '[15,43]' '(43,59.6]' '(59.6,80]'\n",
       "  * ANL      (ANL) <U9 '(9,47]' '(47,60.2]' '(60.2,70]'\n",
       "  * STAT     (STAT) <U9 '[9,29.4]' '(29.4,44]' '(44,81]'\n",
       "  * MECH     (MECH) <U9 '[0,22.4]' '(22.4,46]' '(46,77]'\n",
       "  * VECT     (VECT) <U7 '[9,40]' '(40,61]' '(61,82]'\n",
       "Data variables:\n",
       "    cptALG   (ALG, ANL, STAT) float64 0.6667 0.3529 0.1429 0.3333 0.05882 ...\n",
       "    cptANL   (ANL, STAT) float64 0.8333 0.4722 0.2059 0.1667 0.4722 0.3235 ...\n",
       "    cptMECH  (MECH, ALG, VECT) float64 0.5455 0.3333 0.3333 0.25 0.1714 0.0 ...\n",
       "    cptSTAT  (STAT) float64 0.2045 0.4091 0.3864\n",
       "    cptVECT  (VECT, ALG) float64 0.55 0.16 0.0 0.45 0.7 0.4444 0.0 0.14 0.5556"
      ]
     },
     "execution_count": 87,
     "metadata": {},
     "output_type": "execute_result"
    }
   ],
   "source": [
    "bn.to_xrds()"
   ]
  },
  {
   "cell_type": "code",
   "execution_count": 88,
   "metadata": {},
   "outputs": [
    {
     "data": {
      "text/plain": [
       "True"
      ]
     },
     "execution_count": 88,
     "metadata": {},
     "output_type": "execute_result"
    }
   ],
   "source": [
    "tmp = xr.open_dataset('marks.nc',autoclose=True)\n",
    "tmp.equals(bn.to_xrds())"
   ]
  },
  {
   "cell_type": "code",
   "execution_count": 89,
   "metadata": {},
   "outputs": [
    {
     "data": {
      "text/plain": [
       "<xarray.Dataset>\n",
       "Dimensions:  (ALG: 3, ANL: 3, MECH: 3, STAT: 3, VECT: 3)\n",
       "Coordinates:\n",
       "  * ALG      (ALG) object '[15,43]' '(43,59.6]' '(59.6,80]'\n",
       "  * ANL      (ANL) object '(9,47]' '(47,60.2]' '(60.2,70]'\n",
       "  * STAT     (STAT) object '[9,29.4]' '(29.4,44]' '(44,81]'\n",
       "  * MECH     (MECH) object '[0,22.4]' '(22.4,46]' '(46,77]'\n",
       "  * VECT     (VECT) object '[9,40]' '(40,61]' '(61,82]'\n",
       "Data variables:\n",
       "    cptALG   (ALG, ANL, STAT) float64 0.6667 0.3529 0.1429 0.3333 0.05882 ...\n",
       "    cptANL   (ANL, STAT) float64 0.8333 0.4722 0.2059 0.1667 0.4722 0.3235 ...\n",
       "    cptMECH  (MECH, ALG, VECT) float64 0.5455 0.3333 0.3333 0.25 0.1714 0.0 ...\n",
       "    cptSTAT  (STAT) float64 0.2045 0.4091 0.3864\n",
       "    cptVECT  (VECT, ALG) float64 0.55 0.16 0.0 0.45 0.7 0.4444 0.0 0.14 0.5556"
      ]
     },
     "execution_count": 89,
     "metadata": {},
     "output_type": "execute_result"
    }
   ],
   "source": [
    "tmp"
   ]
  },
  {
   "cell_type": "code",
   "execution_count": 90,
   "metadata": {},
   "outputs": [
    {
     "data": {
      "text/plain": [
       "True"
      ]
     },
     "execution_count": 90,
     "metadata": {},
     "output_type": "execute_result"
    }
   ],
   "source": [
    "bn1.to_xrds().equals(tmp)"
   ]
  },
  {
   "cell_type": "code",
   "execution_count": 91,
   "metadata": {},
   "outputs": [
    {
     "data": {
      "text/html": [
       "<div>\n",
       "<style scoped>\n",
       "    .dataframe tbody tr th:only-of-type {\n",
       "        vertical-align: middle;\n",
       "    }\n",
       "\n",
       "    .dataframe tbody tr th {\n",
       "        vertical-align: top;\n",
       "    }\n",
       "\n",
       "    .dataframe thead th {\n",
       "        text-align: right;\n",
       "    }\n",
       "</style>\n",
       "<table border=\"1\" class=\"dataframe\">\n",
       "  <thead>\n",
       "    <tr style=\"text-align: right;\">\n",
       "      <th></th>\n",
       "      <th>ANL</th>\n",
       "      <th>STAT</th>\n",
       "      <th>ALG</th>\n",
       "      <th>p</th>\n",
       "    </tr>\n",
       "  </thead>\n",
       "  <tbody>\n",
       "    <tr>\n",
       "      <th>13</th>\n",
       "      <td>(47,60.2]</td>\n",
       "      <td>(29.4,44]</td>\n",
       "      <td>(43,59.6]</td>\n",
       "      <td>0.882353</td>\n",
       "    </tr>\n",
       "    <tr>\n",
       "      <th>14</th>\n",
       "      <td>(47,60.2]</td>\n",
       "      <td>(29.4,44]</td>\n",
       "      <td>(59.6,80]</td>\n",
       "      <td>0.058824</td>\n",
       "    </tr>\n",
       "    <tr>\n",
       "      <th>12</th>\n",
       "      <td>(47,60.2]</td>\n",
       "      <td>(29.4,44]</td>\n",
       "      <td>[15,43]</td>\n",
       "      <td>0.058824</td>\n",
       "    </tr>\n",
       "    <tr>\n",
       "      <th>16</th>\n",
       "      <td>(47,60.2]</td>\n",
       "      <td>(44,81]</td>\n",
       "      <td>(43,59.6]</td>\n",
       "      <td>0.454545</td>\n",
       "    </tr>\n",
       "    <tr>\n",
       "      <th>17</th>\n",
       "      <td>(47,60.2]</td>\n",
       "      <td>(44,81]</td>\n",
       "      <td>(59.6,80]</td>\n",
       "      <td>0.454545</td>\n",
       "    </tr>\n",
       "    <tr>\n",
       "      <th>15</th>\n",
       "      <td>(47,60.2]</td>\n",
       "      <td>(44,81]</td>\n",
       "      <td>[15,43]</td>\n",
       "      <td>0.090909</td>\n",
       "    </tr>\n",
       "    <tr>\n",
       "      <th>10</th>\n",
       "      <td>(47,60.2]</td>\n",
       "      <td>[9,29.4]</td>\n",
       "      <td>(43,59.6]</td>\n",
       "      <td>0.666667</td>\n",
       "    </tr>\n",
       "    <tr>\n",
       "      <th>11</th>\n",
       "      <td>(47,60.2]</td>\n",
       "      <td>[9,29.4]</td>\n",
       "      <td>(59.6,80]</td>\n",
       "      <td>0.000000</td>\n",
       "    </tr>\n",
       "    <tr>\n",
       "      <th>9</th>\n",
       "      <td>(47,60.2]</td>\n",
       "      <td>[9,29.4]</td>\n",
       "      <td>[15,43]</td>\n",
       "      <td>0.333333</td>\n",
       "    </tr>\n",
       "    <tr>\n",
       "      <th>22</th>\n",
       "      <td>(60.2,70]</td>\n",
       "      <td>(29.4,44]</td>\n",
       "      <td>(43,59.6]</td>\n",
       "      <td>1.000000</td>\n",
       "    </tr>\n",
       "    <tr>\n",
       "      <th>23</th>\n",
       "      <td>(60.2,70]</td>\n",
       "      <td>(29.4,44]</td>\n",
       "      <td>(59.6,80]</td>\n",
       "      <td>0.000000</td>\n",
       "    </tr>\n",
       "    <tr>\n",
       "      <th>21</th>\n",
       "      <td>(60.2,70]</td>\n",
       "      <td>(29.4,44]</td>\n",
       "      <td>[15,43]</td>\n",
       "      <td>0.000000</td>\n",
       "    </tr>\n",
       "    <tr>\n",
       "      <th>25</th>\n",
       "      <td>(60.2,70]</td>\n",
       "      <td>(44,81]</td>\n",
       "      <td>(43,59.6]</td>\n",
       "      <td>0.250000</td>\n",
       "    </tr>\n",
       "    <tr>\n",
       "      <th>26</th>\n",
       "      <td>(60.2,70]</td>\n",
       "      <td>(44,81]</td>\n",
       "      <td>(59.6,80]</td>\n",
       "      <td>0.750000</td>\n",
       "    </tr>\n",
       "    <tr>\n",
       "      <th>24</th>\n",
       "      <td>(60.2,70]</td>\n",
       "      <td>(44,81]</td>\n",
       "      <td>[15,43]</td>\n",
       "      <td>0.000000</td>\n",
       "    </tr>\n",
       "    <tr>\n",
       "      <th>19</th>\n",
       "      <td>(60.2,70]</td>\n",
       "      <td>[9,29.4]</td>\n",
       "      <td>(43,59.6]</td>\n",
       "      <td>0.333333</td>\n",
       "    </tr>\n",
       "    <tr>\n",
       "      <th>20</th>\n",
       "      <td>(60.2,70]</td>\n",
       "      <td>[9,29.4]</td>\n",
       "      <td>(59.6,80]</td>\n",
       "      <td>0.333333</td>\n",
       "    </tr>\n",
       "    <tr>\n",
       "      <th>18</th>\n",
       "      <td>(60.2,70]</td>\n",
       "      <td>[9,29.4]</td>\n",
       "      <td>[15,43]</td>\n",
       "      <td>0.333333</td>\n",
       "    </tr>\n",
       "    <tr>\n",
       "      <th>4</th>\n",
       "      <td>(9,47]</td>\n",
       "      <td>(29.4,44]</td>\n",
       "      <td>(43,59.6]</td>\n",
       "      <td>0.647059</td>\n",
       "    </tr>\n",
       "    <tr>\n",
       "      <th>5</th>\n",
       "      <td>(9,47]</td>\n",
       "      <td>(29.4,44]</td>\n",
       "      <td>(59.6,80]</td>\n",
       "      <td>0.000000</td>\n",
       "    </tr>\n",
       "    <tr>\n",
       "      <th>3</th>\n",
       "      <td>(9,47]</td>\n",
       "      <td>(29.4,44]</td>\n",
       "      <td>[15,43]</td>\n",
       "      <td>0.352941</td>\n",
       "    </tr>\n",
       "    <tr>\n",
       "      <th>7</th>\n",
       "      <td>(9,47]</td>\n",
       "      <td>(44,81]</td>\n",
       "      <td>(43,59.6]</td>\n",
       "      <td>0.857143</td>\n",
       "    </tr>\n",
       "    <tr>\n",
       "      <th>8</th>\n",
       "      <td>(9,47]</td>\n",
       "      <td>(44,81]</td>\n",
       "      <td>(59.6,80]</td>\n",
       "      <td>0.000000</td>\n",
       "    </tr>\n",
       "    <tr>\n",
       "      <th>6</th>\n",
       "      <td>(9,47]</td>\n",
       "      <td>(44,81]</td>\n",
       "      <td>[15,43]</td>\n",
       "      <td>0.142857</td>\n",
       "    </tr>\n",
       "    <tr>\n",
       "      <th>1</th>\n",
       "      <td>(9,47]</td>\n",
       "      <td>[9,29.4]</td>\n",
       "      <td>(43,59.6]</td>\n",
       "      <td>0.333333</td>\n",
       "    </tr>\n",
       "    <tr>\n",
       "      <th>2</th>\n",
       "      <td>(9,47]</td>\n",
       "      <td>[9,29.4]</td>\n",
       "      <td>(59.6,80]</td>\n",
       "      <td>0.000000</td>\n",
       "    </tr>\n",
       "    <tr>\n",
       "      <th>0</th>\n",
       "      <td>(9,47]</td>\n",
       "      <td>[9,29.4]</td>\n",
       "      <td>[15,43]</td>\n",
       "      <td>0.666667</td>\n",
       "    </tr>\n",
       "  </tbody>\n",
       "</table>\n",
       "</div>"
      ],
      "text/plain": [
       "          ANL       STAT        ALG         p\n",
       "13  (47,60.2]  (29.4,44]  (43,59.6]  0.882353\n",
       "14  (47,60.2]  (29.4,44]  (59.6,80]  0.058824\n",
       "12  (47,60.2]  (29.4,44]    [15,43]  0.058824\n",
       "16  (47,60.2]    (44,81]  (43,59.6]  0.454545\n",
       "17  (47,60.2]    (44,81]  (59.6,80]  0.454545\n",
       "15  (47,60.2]    (44,81]    [15,43]  0.090909\n",
       "10  (47,60.2]   [9,29.4]  (43,59.6]  0.666667\n",
       "11  (47,60.2]   [9,29.4]  (59.6,80]  0.000000\n",
       "9   (47,60.2]   [9,29.4]    [15,43]  0.333333\n",
       "22  (60.2,70]  (29.4,44]  (43,59.6]  1.000000\n",
       "23  (60.2,70]  (29.4,44]  (59.6,80]  0.000000\n",
       "21  (60.2,70]  (29.4,44]    [15,43]  0.000000\n",
       "25  (60.2,70]    (44,81]  (43,59.6]  0.250000\n",
       "26  (60.2,70]    (44,81]  (59.6,80]  0.750000\n",
       "24  (60.2,70]    (44,81]    [15,43]  0.000000\n",
       "19  (60.2,70]   [9,29.4]  (43,59.6]  0.333333\n",
       "20  (60.2,70]   [9,29.4]  (59.6,80]  0.333333\n",
       "18  (60.2,70]   [9,29.4]    [15,43]  0.333333\n",
       "4      (9,47]  (29.4,44]  (43,59.6]  0.647059\n",
       "5      (9,47]  (29.4,44]  (59.6,80]  0.000000\n",
       "3      (9,47]  (29.4,44]    [15,43]  0.352941\n",
       "7      (9,47]    (44,81]  (43,59.6]  0.857143\n",
       "8      (9,47]    (44,81]  (59.6,80]  0.000000\n",
       "6      (9,47]    (44,81]    [15,43]  0.142857\n",
       "1      (9,47]   [9,29.4]  (43,59.6]  0.333333\n",
       "2      (9,47]   [9,29.4]  (59.6,80]  0.000000\n",
       "0      (9,47]   [9,29.4]    [15,43]  0.666667"
      ]
     },
     "execution_count": 91,
     "metadata": {},
     "output_type": "execute_result"
    }
   ],
   "source": [
    "bn1.to_dtcpm_dict()['cptALG'].sort_values(['ANL', 'STAT', 'ALG'])"
   ]
  },
  {
   "cell_type": "code",
   "execution_count": 92,
   "metadata": {},
   "outputs": [
    {
     "data": {
      "text/plain": [
       "13    0.882353\n",
       "14    0.058824\n",
       "12    0.058824\n",
       "16    0.454545\n",
       "17    0.454545\n",
       "Name: p, dtype: float64"
      ]
     },
     "execution_count": 92,
     "metadata": {},
     "output_type": "execute_result"
    }
   ],
   "source": [
    "p1 = bn1.to_dtcpm_dict()['cptALG'].sort_values(['ANL', 'STAT', 'ALG'])['p']\n",
    "p1.head()"
   ]
  },
  {
   "cell_type": "code",
   "execution_count": 93,
   "metadata": {},
   "outputs": [
    {
     "data": {
      "text/html": [
       "<div>\n",
       "<style scoped>\n",
       "    .dataframe tbody tr th:only-of-type {\n",
       "        vertical-align: middle;\n",
       "    }\n",
       "\n",
       "    .dataframe tbody tr th {\n",
       "        vertical-align: top;\n",
       "    }\n",
       "\n",
       "    .dataframe thead th {\n",
       "        text-align: right;\n",
       "    }\n",
       "</style>\n",
       "<table border=\"1\" class=\"dataframe\">\n",
       "  <thead>\n",
       "    <tr style=\"text-align: right;\">\n",
       "      <th></th>\n",
       "      <th>ANL</th>\n",
       "      <th>STAT</th>\n",
       "      <th>ALG</th>\n",
       "      <th>p</th>\n",
       "    </tr>\n",
       "  </thead>\n",
       "  <tbody>\n",
       "    <tr>\n",
       "      <th>13</th>\n",
       "      <td>(47,60.2]</td>\n",
       "      <td>(29.4,44]</td>\n",
       "      <td>(43,59.6]</td>\n",
       "      <td>0.882353</td>\n",
       "    </tr>\n",
       "    <tr>\n",
       "      <th>14</th>\n",
       "      <td>(47,60.2]</td>\n",
       "      <td>(29.4,44]</td>\n",
       "      <td>(59.6,80]</td>\n",
       "      <td>0.058824</td>\n",
       "    </tr>\n",
       "    <tr>\n",
       "      <th>12</th>\n",
       "      <td>(47,60.2]</td>\n",
       "      <td>(29.4,44]</td>\n",
       "      <td>[15,43]</td>\n",
       "      <td>0.058824</td>\n",
       "    </tr>\n",
       "    <tr>\n",
       "      <th>16</th>\n",
       "      <td>(47,60.2]</td>\n",
       "      <td>(44,81]</td>\n",
       "      <td>(43,59.6]</td>\n",
       "      <td>0.454545</td>\n",
       "    </tr>\n",
       "    <tr>\n",
       "      <th>17</th>\n",
       "      <td>(47,60.2]</td>\n",
       "      <td>(44,81]</td>\n",
       "      <td>(59.6,80]</td>\n",
       "      <td>0.454545</td>\n",
       "    </tr>\n",
       "    <tr>\n",
       "      <th>15</th>\n",
       "      <td>(47,60.2]</td>\n",
       "      <td>(44,81]</td>\n",
       "      <td>[15,43]</td>\n",
       "      <td>0.090909</td>\n",
       "    </tr>\n",
       "    <tr>\n",
       "      <th>10</th>\n",
       "      <td>(47,60.2]</td>\n",
       "      <td>[9,29.4]</td>\n",
       "      <td>(43,59.6]</td>\n",
       "      <td>0.666667</td>\n",
       "    </tr>\n",
       "    <tr>\n",
       "      <th>11</th>\n",
       "      <td>(47,60.2]</td>\n",
       "      <td>[9,29.4]</td>\n",
       "      <td>(59.6,80]</td>\n",
       "      <td>0.000000</td>\n",
       "    </tr>\n",
       "    <tr>\n",
       "      <th>9</th>\n",
       "      <td>(47,60.2]</td>\n",
       "      <td>[9,29.4]</td>\n",
       "      <td>[15,43]</td>\n",
       "      <td>0.333333</td>\n",
       "    </tr>\n",
       "    <tr>\n",
       "      <th>22</th>\n",
       "      <td>(60.2,70]</td>\n",
       "      <td>(29.4,44]</td>\n",
       "      <td>(43,59.6]</td>\n",
       "      <td>1.000000</td>\n",
       "    </tr>\n",
       "    <tr>\n",
       "      <th>23</th>\n",
       "      <td>(60.2,70]</td>\n",
       "      <td>(29.4,44]</td>\n",
       "      <td>(59.6,80]</td>\n",
       "      <td>0.000000</td>\n",
       "    </tr>\n",
       "    <tr>\n",
       "      <th>21</th>\n",
       "      <td>(60.2,70]</td>\n",
       "      <td>(29.4,44]</td>\n",
       "      <td>[15,43]</td>\n",
       "      <td>0.000000</td>\n",
       "    </tr>\n",
       "    <tr>\n",
       "      <th>25</th>\n",
       "      <td>(60.2,70]</td>\n",
       "      <td>(44,81]</td>\n",
       "      <td>(43,59.6]</td>\n",
       "      <td>0.250000</td>\n",
       "    </tr>\n",
       "    <tr>\n",
       "      <th>26</th>\n",
       "      <td>(60.2,70]</td>\n",
       "      <td>(44,81]</td>\n",
       "      <td>(59.6,80]</td>\n",
       "      <td>0.750000</td>\n",
       "    </tr>\n",
       "    <tr>\n",
       "      <th>24</th>\n",
       "      <td>(60.2,70]</td>\n",
       "      <td>(44,81]</td>\n",
       "      <td>[15,43]</td>\n",
       "      <td>0.000000</td>\n",
       "    </tr>\n",
       "    <tr>\n",
       "      <th>19</th>\n",
       "      <td>(60.2,70]</td>\n",
       "      <td>[9,29.4]</td>\n",
       "      <td>(43,59.6]</td>\n",
       "      <td>0.333333</td>\n",
       "    </tr>\n",
       "    <tr>\n",
       "      <th>20</th>\n",
       "      <td>(60.2,70]</td>\n",
       "      <td>[9,29.4]</td>\n",
       "      <td>(59.6,80]</td>\n",
       "      <td>0.333333</td>\n",
       "    </tr>\n",
       "    <tr>\n",
       "      <th>18</th>\n",
       "      <td>(60.2,70]</td>\n",
       "      <td>[9,29.4]</td>\n",
       "      <td>[15,43]</td>\n",
       "      <td>0.333333</td>\n",
       "    </tr>\n",
       "    <tr>\n",
       "      <th>4</th>\n",
       "      <td>(9,47]</td>\n",
       "      <td>(29.4,44]</td>\n",
       "      <td>(43,59.6]</td>\n",
       "      <td>0.647059</td>\n",
       "    </tr>\n",
       "    <tr>\n",
       "      <th>5</th>\n",
       "      <td>(9,47]</td>\n",
       "      <td>(29.4,44]</td>\n",
       "      <td>(59.6,80]</td>\n",
       "      <td>0.000000</td>\n",
       "    </tr>\n",
       "    <tr>\n",
       "      <th>3</th>\n",
       "      <td>(9,47]</td>\n",
       "      <td>(29.4,44]</td>\n",
       "      <td>[15,43]</td>\n",
       "      <td>0.352941</td>\n",
       "    </tr>\n",
       "    <tr>\n",
       "      <th>7</th>\n",
       "      <td>(9,47]</td>\n",
       "      <td>(44,81]</td>\n",
       "      <td>(43,59.6]</td>\n",
       "      <td>0.857143</td>\n",
       "    </tr>\n",
       "    <tr>\n",
       "      <th>8</th>\n",
       "      <td>(9,47]</td>\n",
       "      <td>(44,81]</td>\n",
       "      <td>(59.6,80]</td>\n",
       "      <td>0.000000</td>\n",
       "    </tr>\n",
       "    <tr>\n",
       "      <th>6</th>\n",
       "      <td>(9,47]</td>\n",
       "      <td>(44,81]</td>\n",
       "      <td>[15,43]</td>\n",
       "      <td>0.142857</td>\n",
       "    </tr>\n",
       "    <tr>\n",
       "      <th>1</th>\n",
       "      <td>(9,47]</td>\n",
       "      <td>[9,29.4]</td>\n",
       "      <td>(43,59.6]</td>\n",
       "      <td>0.333333</td>\n",
       "    </tr>\n",
       "    <tr>\n",
       "      <th>2</th>\n",
       "      <td>(9,47]</td>\n",
       "      <td>[9,29.4]</td>\n",
       "      <td>(59.6,80]</td>\n",
       "      <td>0.000000</td>\n",
       "    </tr>\n",
       "    <tr>\n",
       "      <th>0</th>\n",
       "      <td>(9,47]</td>\n",
       "      <td>[9,29.4]</td>\n",
       "      <td>[15,43]</td>\n",
       "      <td>0.666667</td>\n",
       "    </tr>\n",
       "  </tbody>\n",
       "</table>\n",
       "</div>"
      ],
      "text/plain": [
       "          ANL       STAT        ALG         p\n",
       "13  (47,60.2]  (29.4,44]  (43,59.6]  0.882353\n",
       "14  (47,60.2]  (29.4,44]  (59.6,80]  0.058824\n",
       "12  (47,60.2]  (29.4,44]    [15,43]  0.058824\n",
       "16  (47,60.2]    (44,81]  (43,59.6]  0.454545\n",
       "17  (47,60.2]    (44,81]  (59.6,80]  0.454545\n",
       "15  (47,60.2]    (44,81]    [15,43]  0.090909\n",
       "10  (47,60.2]   [9,29.4]  (43,59.6]  0.666667\n",
       "11  (47,60.2]   [9,29.4]  (59.6,80]  0.000000\n",
       "9   (47,60.2]   [9,29.4]    [15,43]  0.333333\n",
       "22  (60.2,70]  (29.4,44]  (43,59.6]  1.000000\n",
       "23  (60.2,70]  (29.4,44]  (59.6,80]  0.000000\n",
       "21  (60.2,70]  (29.4,44]    [15,43]  0.000000\n",
       "25  (60.2,70]    (44,81]  (43,59.6]  0.250000\n",
       "26  (60.2,70]    (44,81]  (59.6,80]  0.750000\n",
       "24  (60.2,70]    (44,81]    [15,43]  0.000000\n",
       "19  (60.2,70]   [9,29.4]  (43,59.6]  0.333333\n",
       "20  (60.2,70]   [9,29.4]  (59.6,80]  0.333333\n",
       "18  (60.2,70]   [9,29.4]    [15,43]  0.333333\n",
       "4      (9,47]  (29.4,44]  (43,59.6]  0.647059\n",
       "5      (9,47]  (29.4,44]  (59.6,80]  0.000000\n",
       "3      (9,47]  (29.4,44]    [15,43]  0.352941\n",
       "7      (9,47]    (44,81]  (43,59.6]  0.857143\n",
       "8      (9,47]    (44,81]  (59.6,80]  0.000000\n",
       "6      (9,47]    (44,81]    [15,43]  0.142857\n",
       "1      (9,47]   [9,29.4]  (43,59.6]  0.333333\n",
       "2      (9,47]   [9,29.4]  (59.6,80]  0.000000\n",
       "0      (9,47]   [9,29.4]    [15,43]  0.666667"
      ]
     },
     "execution_count": 93,
     "metadata": {},
     "output_type": "execute_result"
    }
   ],
   "source": [
    "bn.to_dtcpm_dict()['cptALG'].sort_values(['ANL', 'STAT', 'ALG'])"
   ]
  },
  {
   "cell_type": "code",
   "execution_count": 94,
   "metadata": {},
   "outputs": [
    {
     "data": {
      "text/plain": [
       "13    0.882353\n",
       "14    0.058824\n",
       "12    0.058824\n",
       "16    0.454545\n",
       "17    0.454545\n",
       "Name: p, dtype: float64"
      ]
     },
     "execution_count": 94,
     "metadata": {},
     "output_type": "execute_result"
    }
   ],
   "source": [
    "p = bn.to_dtcpm_dict()['cptALG'].sort_values(['ANL', 'STAT', 'ALG'])['p']\n",
    "p.head()"
   ]
  },
  {
   "cell_type": "code",
   "execution_count": 95,
   "metadata": {},
   "outputs": [
    {
     "data": {
      "text/plain": [
       "array([ True,  True,  True,  True,  True,  True,  True,  True,  True,\n",
       "        True,  True,  True,  True,  True,  True,  True,  True,  True,\n",
       "        True,  True,  True,  True,  True,  True,  True,  True,  True])"
      ]
     },
     "execution_count": 95,
     "metadata": {},
     "output_type": "execute_result"
    }
   ],
   "source": [
    "p.values == p1.values"
   ]
  },
  {
   "cell_type": "code",
   "execution_count": 96,
   "metadata": {},
   "outputs": [
    {
     "data": {
      "text/plain": [
       "<xarray.DataArray 'cptALG' (ALG: 3, ANL: 3, STAT: 3)>\n",
       "array([[[0.666667, 0.352941, 0.142857],\n",
       "        [0.333333, 0.058824, 0.090909],\n",
       "        [0.333333, 0.      , 0.      ]],\n",
       "\n",
       "       [[0.333333, 0.647059, 0.857143],\n",
       "        [0.666667, 0.882353, 0.454545],\n",
       "        [0.333333, 1.      , 0.25    ]],\n",
       "\n",
       "       [[0.      , 0.      , 0.      ],\n",
       "        [0.      , 0.058824, 0.454545],\n",
       "        [0.333333, 0.      , 0.75    ]]])\n",
       "Coordinates:\n",
       "  * ALG      (ALG) <U9 '[15,43]' '(43,59.6]' '(59.6,80]'\n",
       "  * ANL      (ANL) <U9 '(9,47]' '(47,60.2]' '(60.2,70]'\n",
       "  * STAT     (STAT) <U9 '[9,29.4]' '(29.4,44]' '(44,81]'"
      ]
     },
     "execution_count": 96,
     "metadata": {},
     "output_type": "execute_result"
    }
   ],
   "source": [
    "bn.to_xrds()['cptALG']"
   ]
  },
  {
   "cell_type": "code",
   "execution_count": 97,
   "metadata": {},
   "outputs": [
    {
     "data": {
      "text/plain": [
       "True"
      ]
     },
     "execution_count": 97,
     "metadata": {},
     "output_type": "execute_result"
    }
   ],
   "source": [
    "np.all(bn1.to_xrds()['cptALG'] == bn.to_xrds()['cptALG'])"
   ]
  },
  {
   "cell_type": "code",
   "execution_count": 98,
   "metadata": {},
   "outputs": [],
   "source": [
    "tmp = bn.rfit"
   ]
  },
  {
   "cell_type": "code",
   "execution_count": 99,
   "metadata": {},
   "outputs": [
    {
     "data": {
      "text/plain": [
       "     from   to    \n",
       "[1,] \"ALG\"  \"MECH\"\n",
       "[2,] \"ALG\"  \"VECT\"\n",
       "[3,] \"ANL\"  \"ALG\" \n",
       "[4,] \"STAT\" \"ALG\" \n",
       "[5,] \"STAT\" \"ANL\" \n",
       "[6,] \"VECT\" \"MECH\"\n"
      ]
     },
     "metadata": {},
     "output_type": "display_data"
    }
   ],
   "source": [
    "%%R -i tmp\n",
    "arcs(tmp)"
   ]
  },
  {
   "cell_type": "code",
   "execution_count": 100,
   "metadata": {},
   "outputs": [
    {
     "data": {
      "text/plain": [
       "      from   to    \n",
       " [1,] \"ALG\"  \"ANL\" \n",
       " [2,] \"ALG\"  \"MECH\"\n",
       " [3,] \"ALG\"  \"STAT\"\n",
       " [4,] \"ALG\"  \"VECT\"\n",
       " [5,] \"ANL\"  \"ALG\" \n",
       " [6,] \"ANL\"  \"STAT\"\n",
       " [7,] \"MECH\" \"ALG\" \n",
       " [8,] \"MECH\" \"VECT\"\n",
       " [9,] \"STAT\" \"ALG\" \n",
       "[10,] \"STAT\" \"ANL\" \n",
       "[11,] \"VECT\" \"ALG\" \n",
       "[12,] \"VECT\" \"MECH\"\n"
      ]
     },
     "metadata": {},
     "output_type": "display_data"
    }
   ],
   "source": [
    "%%R\n",
    "arcs(cpdag(tmp))"
   ]
  },
  {
   "cell_type": "code",
   "execution_count": 101,
   "metadata": {},
   "outputs": [
    {
     "data": {
      "text/plain": [
       "     ALG ANL MECH STAT VECT\n",
       "ALG    0   0    1    0    1\n",
       "ANL    1   0    0    0    0\n",
       "MECH   0   0    0    0    0\n",
       "STAT   1   1    0    0    0\n",
       "VECT   0   0    1    0    0\n"
      ]
     },
     "metadata": {},
     "output_type": "display_data"
    }
   ],
   "source": [
    "%%R\n",
    "amat(tmp)"
   ]
  },
  {
   "cell_type": "code",
   "execution_count": 102,
   "metadata": {},
   "outputs": [
    {
     "data": {
      "text/plain": [
       "     ALG ANL MECH STAT VECT\n",
       "ALG    0   1    1    1    1\n",
       "ANL    1   0    0    1    0\n",
       "MECH   1   0    0    0    1\n",
       "STAT   1   1    0    0    0\n",
       "VECT   1   0    1    0    0\n"
      ]
     },
     "metadata": {},
     "output_type": "display_data"
    }
   ],
   "source": [
    "%%R\n",
    "amat(cpdag(tmp))"
   ]
  },
  {
   "cell_type": "code",
   "execution_count": 103,
   "metadata": {},
   "outputs": [
    {
     "data": {
      "text/plain": [
       "<networkx.classes.digraph.DiGraph at 0x7fdd58c89748>"
      ]
     },
     "execution_count": 103,
     "metadata": {},
     "output_type": "execute_result"
    }
   ],
   "source": [
    "dg = nx.DiGraph()\n",
    "# G.add_node(1)\n",
    "dg.add_nodes_from(list(marks.columns))\n",
    "dg.add_edges_from([\n",
    "    ['STAT', 'ANL'],\n",
    "    ['STAT', 'ALG'],\n",
    "    ['ANL', 'ALG'],\n",
    "    ['ALG', 'MECH'],\n",
    "    ['ALG', 'VECT'],\n",
    "    ['VECT', 'MECH'],\n",
    "])\n",
    "dg"
   ]
  },
  {
   "cell_type": "code",
   "execution_count": 104,
   "metadata": {},
   "outputs": [
    {
     "name": "stdout",
     "output_type": "stream",
     "text": [
      "// disease-network\n",
      "digraph {\n",
      "\tMECH\n",
      "\tVECT\n",
      "\tALG\n",
      "\tANL\n",
      "\tSTAT\n",
      "\tVECT -> MECH\n",
      "\tALG -> MECH\n",
      "\tALG -> VECT\n",
      "\tANL -> ALG\n",
      "\tSTAT -> ANL\n",
      "\tSTAT -> ALG\n",
      "}\n"
     ]
    }
   ],
   "source": [
    "dg_dot = graphviz.Digraph(comment='disease-network')\n",
    "for node in dg.nodes():\n",
    "    dg_dot.node(node)\n",
    "\n",
    "for edge in dg.edges():\n",
    "    dg_dot.edge(edge[0],edge[1])\n",
    "\n",
    "print(dg_dot.source)"
   ]
  },
  {
   "cell_type": "code",
   "execution_count": 105,
   "metadata": {},
   "outputs": [
    {
     "data": {
      "image/svg+xml": [
       "<?xml version=\"1.0\" encoding=\"UTF-8\" standalone=\"no\"?>\n",
       "<!DOCTYPE svg PUBLIC \"-//W3C//DTD SVG 1.1//EN\"\n",
       " \"http://www.w3.org/Graphics/SVG/1.1/DTD/svg11.dtd\">\n",
       "<!-- Generated by graphviz version 2.36.0 (20140111.2315)\n",
       " -->\n",
       "<!-- Title: %3 Pages: 1 -->\n",
       "<svg width=\"108pt\" height=\"332pt\"\n",
       " viewBox=\"0.00 0.00 108.00 332.00\" xmlns=\"http://www.w3.org/2000/svg\" xmlns:xlink=\"http://www.w3.org/1999/xlink\">\n",
       "<g id=\"graph0\" class=\"graph\" transform=\"scale(1 1) rotate(0) translate(4 328)\">\n",
       "<title>%3</title>\n",
       "<polygon fill=\"white\" stroke=\"none\" points=\"-4,4 -4,-328 104,-328 104,4 -4,4\"/>\n",
       "<!-- MECH -->\n",
       "<g id=\"node1\" class=\"node\"><title>MECH</title>\n",
       "<ellipse fill=\"none\" stroke=\"black\" cx=\"36\" cy=\"-18\" rx=\"36.096\" ry=\"18\"/>\n",
       "<text text-anchor=\"middle\" x=\"36\" y=\"-14.3\" font-family=\"Times,serif\" font-size=\"14.00\">MECH</text>\n",
       "</g>\n",
       "<!-- VECT -->\n",
       "<g id=\"node2\" class=\"node\"><title>VECT</title>\n",
       "<ellipse fill=\"none\" stroke=\"black\" cx=\"67\" cy=\"-90\" rx=\"33.1991\" ry=\"18\"/>\n",
       "<text text-anchor=\"middle\" x=\"67\" y=\"-86.3\" font-family=\"Times,serif\" font-size=\"14.00\">VECT</text>\n",
       "</g>\n",
       "<!-- VECT&#45;&gt;MECH -->\n",
       "<g id=\"edge1\" class=\"edge\"><title>VECT&#45;&gt;MECH</title>\n",
       "<path fill=\"none\" stroke=\"black\" d=\"M59.6534,-72.411C54.7834,-61.4141 48.4122,-47.0274 43.5092,-35.9562\"/>\n",
       "</g>\n",
       "<!-- ALG -->\n",
       "<g id=\"node3\" class=\"node\"><title>ALG</title>\n",
       "<ellipse fill=\"none\" stroke=\"black\" cx=\"36\" cy=\"-162\" rx=\"28.3955\" ry=\"18\"/>\n",
       "<text text-anchor=\"middle\" x=\"36\" y=\"-158.3\" font-family=\"Times,serif\" font-size=\"14.00\">ALG</text>\n",
       "</g>\n",
       "<!-- ALG&#45;&gt;MECH -->\n",
       "<g id=\"edge2\" class=\"edge\"><title>ALG&#45;&gt;MECH</title>\n",
       "<path fill=\"none\" stroke=\"black\" d=\"M31.1309,-143.979C28.4358,-133.665 25.3626,-120.189 24,-108 22.2224,-92.0991 22.2224,-87.9009 24,-72 25.3626,-59.8114 28.4358,-46.3345 31.1309,-36.0209\"/>\n",
       "</g>\n",
       "<!-- ALG&#45;&gt;VECT -->\n",
       "<g id=\"edge3\" class=\"edge\"><title>ALG&#45;&gt;VECT</title>\n",
       "<path fill=\"none\" stroke=\"black\" d=\"M43.3466,-144.411C48.2166,-133.414 54.5878,-119.027 59.4908,-107.956\"/>\n",
       "</g>\n",
       "<!-- ANL -->\n",
       "<g id=\"node4\" class=\"node\"><title>ANL</title>\n",
       "<ellipse fill=\"none\" stroke=\"black\" cx=\"65\" cy=\"-234\" rx=\"28.3955\" ry=\"18\"/>\n",
       "<text text-anchor=\"middle\" x=\"65\" y=\"-230.3\" font-family=\"Times,serif\" font-size=\"14.00\">ANL</text>\n",
       "</g>\n",
       "<!-- ANL&#45;&gt;ALG -->\n",
       "<g id=\"edge4\" class=\"edge\"><title>ANL&#45;&gt;ALG</title>\n",
       "<path fill=\"none\" stroke=\"black\" d=\"M58.1274,-216.411C53.5046,-205.252 47.4358,-190.604 42.8233,-179.47\"/>\n",
       "</g>\n",
       "<!-- STAT -->\n",
       "<g id=\"node5\" class=\"node\"><title>STAT</title>\n",
       "<ellipse fill=\"none\" stroke=\"black\" cx=\"36\" cy=\"-306\" rx=\"32.2457\" ry=\"18\"/>\n",
       "<text text-anchor=\"middle\" x=\"36\" y=\"-302.3\" font-family=\"Times,serif\" font-size=\"14.00\">STAT</text>\n",
       "</g>\n",
       "<!-- STAT&#45;&gt;ALG -->\n",
       "<g id=\"edge6\" class=\"edge\"><title>STAT&#45;&gt;ALG</title>\n",
       "<path fill=\"none\" stroke=\"black\" d=\"M32.3462,-287.908C30.3242,-277.569 28.0192,-264.09 27,-252 25.6559,-236.057 25.6559,-231.943 27,-216 28.0192,-203.91 30.3242,-190.431 32.3462,-180.092\"/>\n",
       "</g>\n",
       "<!-- STAT&#45;&gt;ANL -->\n",
       "<g id=\"edge5\" class=\"edge\"><title>STAT&#45;&gt;ANL</title>\n",
       "<path fill=\"none\" stroke=\"black\" d=\"M42.8726,-288.411C47.4954,-277.252 53.5642,-262.604 58.1767,-251.47\"/>\n",
       "</g>\n",
       "</g>\n",
       "</svg>\n"
      ],
      "text/plain": [
       "<graphviz.dot.Digraph at 0x7fdd58c934e0>"
      ]
     },
     "execution_count": 105,
     "metadata": {},
     "output_type": "execute_result"
    }
   ],
   "source": [
    "dg_dot = graphviz.Digraph(comment='disease-network')\n",
    "for node in dg.nodes():\n",
    "    dg_dot.node(node)\n",
    "\n",
    "for edge in dg.edges():\n",
    "    dg_dot.edge(edge[0],edge[1], dir='none')\n",
    "\n",
    "dg_dot"
   ]
  },
  {
   "cell_type": "code",
   "execution_count": 106,
   "metadata": {},
   "outputs": [
    {
     "data": {
      "text/plain": [
       "(['ALG', 'ANL', 'MECH', 'STAT', 'VECT'],\n",
       " set(),\n",
       " {('ALG', 'MECH'),\n",
       "  ('ALG', 'VECT'),\n",
       "  ('ANL', 'ALG'),\n",
       "  ('STAT', 'ALG'),\n",
       "  ('STAT', 'ANL'),\n",
       "  ('VECT', 'MECH')})"
      ]
     },
     "execution_count": 106,
     "metadata": {},
     "output_type": "execute_result"
    }
   ],
   "source": [
    "# rm,_,_ = pybnl.bn.cpdag(bn)\n",
    "# print(rm.dimnames[1])\n",
    "# rm.rx(1,2)\n",
    "pybnl.bn.cpdag(bn)\n",
    "# for i in range(12):\n",
    "#     print(rm.rx(i+1,1), rm.rx(i+1,2))"
   ]
  },
  {
   "cell_type": "code",
   "execution_count": 107,
   "metadata": {},
   "outputs": [
    {
     "data": {
      "text/plain": [
       "(['ALG', 'ANL', 'MECH', 'STAT', 'VECT'],\n",
       " [('ALG', 'MECH'),\n",
       "  ('ALG', 'VECT'),\n",
       "  ('ANL', 'ALG'),\n",
       "  ('STAT', 'ALG'),\n",
       "  ('STAT', 'ANL'),\n",
       "  ('VECT', 'MECH')],\n",
       " [])"
      ]
     },
     "execution_count": 107,
     "metadata": {},
     "output_type": "execute_result"
    }
   ],
   "source": [
    "pybnl.bn.dag(bn)"
   ]
  },
  {
   "cell_type": "code",
   "execution_count": 108,
   "metadata": {},
   "outputs": [
    {
     "data": {
      "text/plain": [
       "-364.23134474940196"
      ]
     },
     "execution_count": 108,
     "metadata": {},
     "output_type": "execute_result"
    }
   ],
   "source": [
    "pybnl.bn.score(bn, bn.df)"
   ]
  },
  {
   "cell_type": "code",
   "execution_count": 109,
   "metadata": {
    "scrolled": true
   },
   "outputs": [
    {
     "name": "stdout",
     "output_type": "stream",
     "text": [
      "     X     Z      Y     \n",
      "[1,] \"ANL\" \"ALG\"  \"STAT\"\n",
      "[2,] \"ALG\" \"MECH\" \"VECT\"\n",
      "\n"
     ]
    },
    {
     "data": {
      "text/html": [
       "<div>\n",
       "<style scoped>\n",
       "    .dataframe tbody tr th:only-of-type {\n",
       "        vertical-align: middle;\n",
       "    }\n",
       "\n",
       "    .dataframe tbody tr th {\n",
       "        vertical-align: top;\n",
       "    }\n",
       "\n",
       "    .dataframe thead th {\n",
       "        text-align: right;\n",
       "    }\n",
       "</style>\n",
       "<table border=\"1\" class=\"dataframe\">\n",
       "  <thead>\n",
       "    <tr style=\"text-align: right;\">\n",
       "      <th></th>\n",
       "      <th>X</th>\n",
       "      <th>Z</th>\n",
       "      <th>Y</th>\n",
       "    </tr>\n",
       "  </thead>\n",
       "  <tbody>\n",
       "    <tr>\n",
       "      <th>0</th>\n",
       "      <td>ANL</td>\n",
       "      <td>ALG</td>\n",
       "      <td>STAT</td>\n",
       "    </tr>\n",
       "    <tr>\n",
       "      <th>1</th>\n",
       "      <td>ALG</td>\n",
       "      <td>MECH</td>\n",
       "      <td>VECT</td>\n",
       "    </tr>\n",
       "  </tbody>\n",
       "</table>\n",
       "</div>"
      ],
      "text/plain": [
       "     X     Z     Y\n",
       "0  ANL   ALG  STAT\n",
       "1  ALG  MECH  VECT"
      ]
     },
     "execution_count": 109,
     "metadata": {},
     "output_type": "execute_result"
    }
   ],
   "source": [
    "pybnl.bn.vstructs(bn)"
   ]
  },
  {
   "cell_type": "code",
   "execution_count": 110,
   "metadata": {},
   "outputs": [],
   "source": [
    "tmp1 = bn.rfit\n",
    "tmp2 = bn.rnet"
   ]
  },
  {
   "cell_type": "code",
   "execution_count": 111,
   "metadata": {},
   "outputs": [
    {
     "data": {
      "text/plain": [
       "[1] \"ALG\"  \"ANL\"  \"MECH\" \"STAT\" \"VECT\"\n"
      ]
     },
     "metadata": {},
     "output_type": "display_data"
    }
   ],
   "source": [
    "%%R -i tmp1 -i tmp2\n",
    "#print(tmp2)\n",
    "names(tmp1)"
   ]
  },
  {
   "cell_type": "code",
   "execution_count": 112,
   "metadata": {},
   "outputs": [
    {
     "name": "stdout",
     "output_type": "stream",
     "text": [
      "\n",
      "  Random/Generated Bayesian network\n",
      "\n",
      "  model:\n",
      "   [STAT][ANL|STAT][ALG|ANL:STAT][VECT|ALG][MECH|ALG:VECT] \n",
      "  nodes:                                 5 \n",
      "  arcs:                                  6 \n",
      "    undirected arcs:                     0 \n",
      "    directed arcs:                       6 \n",
      "  average markov blanket size:           2.40 \n",
      "  average neighbourhood size:            2.40 \n",
      "  average branching factor:              1.20 \n",
      "\n",
      "  generation algorithm:                  Empty \n",
      "\n",
      "\n"
     ]
    }
   ],
   "source": [
    "print(pybnl.bn.rfit2rnet(bn.rfit))"
   ]
  },
  {
   "cell_type": "code",
   "execution_count": 113,
   "metadata": {},
   "outputs": [
    {
     "data": {
      "image/svg+xml": [
       "<?xml version=\"1.0\" encoding=\"UTF-8\" standalone=\"no\"?>\n",
       "<!DOCTYPE svg PUBLIC \"-//W3C//DTD SVG 1.1//EN\"\n",
       " \"http://www.w3.org/Graphics/SVG/1.1/DTD/svg11.dtd\">\n",
       "<!-- Generated by graphviz version 2.36.0 (20140111.2315)\n",
       " -->\n",
       "<!-- Title: %3 Pages: 1 -->\n",
       "<svg width=\"190pt\" height=\"177pt\"\n",
       " viewBox=\"0.00 0.00 190.00 177.00\" xmlns=\"http://www.w3.org/2000/svg\" xmlns:xlink=\"http://www.w3.org/1999/xlink\">\n",
       "<g id=\"graph0\" class=\"graph\" transform=\"scale(1 1) rotate(0) translate(4 173)\">\n",
       "<title>%3</title>\n",
       "<polygon fill=\"white\" stroke=\"none\" points=\"-4,4 -4,-173 186,-173 186,4 -4,4\"/>\n",
       "<!-- ALG -->\n",
       "<g id=\"node1\" class=\"node\"><title>ALG</title>\n",
       "<ellipse fill=\"none\" stroke=\"black\" cx=\"67.3343\" cy=\"-78.1743\" rx=\"28.6953\" ry=\"18\"/>\n",
       "<text text-anchor=\"middle\" x=\"67.3343\" y=\"-74.4743\" font-family=\"Times,serif\" font-size=\"14.00\">ALG</text>\n",
       "</g>\n",
       "<!-- MECH -->\n",
       "<g id=\"node3\" class=\"node\"><title>MECH</title>\n",
       "<ellipse fill=\"none\" stroke=\"black\" cx=\"36.7281\" cy=\"-27.1306\" rx=\"36.2938\" ry=\"18\"/>\n",
       "<text text-anchor=\"middle\" x=\"36.7281\" y=\"-23.4306\" font-family=\"Times,serif\" font-size=\"14.00\">MECH</text>\n",
       "</g>\n",
       "<!-- ALG&#45;&gt;MECH -->\n",
       "<g id=\"edge1\" class=\"edge\"><title>ALG&#45;&gt;MECH</title>\n",
       "<path fill=\"none\" stroke=\"black\" d=\"M57.1429,-61.1775C55.6431,-58.6761 54.0692,-56.0513 52.4889,-53.4157\"/>\n",
       "<polygon fill=\"black\" stroke=\"black\" points=\"55.3331,-51.353 47.1888,-44.5765 49.3296,-54.9528 55.3331,-51.353\"/>\n",
       "</g>\n",
       "<!-- VECT -->\n",
       "<g id=\"node5\" class=\"node\"><title>VECT</title>\n",
       "<ellipse fill=\"none\" stroke=\"black\" cx=\"121.823\" cy=\"-17.6731\" rx=\"33.5952\" ry=\"18\"/>\n",
       "<text text-anchor=\"middle\" x=\"121.823\" y=\"-13.9731\" font-family=\"Times,serif\" font-size=\"14.00\">VECT</text>\n",
       "</g>\n",
       "<!-- ALG&#45;&gt;VECT -->\n",
       "<g id=\"edge2\" class=\"edge\"><title>ALG&#45;&gt;VECT</title>\n",
       "<path fill=\"none\" stroke=\"black\" d=\"M81.6507,-62.2783C87.2712,-56.0377 93.8474,-48.736 100.033,-41.8684\"/>\n",
       "<polygon fill=\"black\" stroke=\"black\" points=\"102.941,-43.8684 107.033,-34.0955 97.74,-39.1838 102.941,-43.8684\"/>\n",
       "</g>\n",
       "<!-- ANL -->\n",
       "<g id=\"node2\" class=\"node\"><title>ANL</title>\n",
       "<ellipse fill=\"none\" stroke=\"black\" cx=\"153.324\" cy=\"-106.084\" rx=\"28.6953\" ry=\"18\"/>\n",
       "<text text-anchor=\"middle\" x=\"153.324\" y=\"-102.384\" font-family=\"Times,serif\" font-size=\"14.00\">ANL</text>\n",
       "</g>\n",
       "<!-- ANL&#45;&gt;ALG -->\n",
       "<g id=\"edge3\" class=\"edge\"><title>ANL&#45;&gt;ALG</title>\n",
       "<path fill=\"none\" stroke=\"black\" d=\"M127.524,-97.7105C119.631,-95.1484 110.811,-92.2859 102.41,-89.5589\"/>\n",
       "<polygon fill=\"black\" stroke=\"black\" points=\"103.412,-86.2044 92.8196,-86.4462 101.251,-92.8625 103.412,-86.2044\"/>\n",
       "</g>\n",
       "<!-- STAT -->\n",
       "<g id=\"node4\" class=\"node\"><title>STAT</title>\n",
       "<ellipse fill=\"none\" stroke=\"black\" cx=\"74.55\" cy=\"-150.881\" rx=\"32.4942\" ry=\"18\"/>\n",
       "<text text-anchor=\"middle\" x=\"74.55\" y=\"-147.181\" font-family=\"Times,serif\" font-size=\"14.00\">STAT</text>\n",
       "</g>\n",
       "<!-- STAT&#45;&gt;ALG -->\n",
       "<g id=\"edge4\" class=\"edge\"><title>STAT&#45;&gt;ALG</title>\n",
       "<path fill=\"none\" stroke=\"black\" d=\"M72.7292,-132.534C71.9456,-124.638 71.0116,-115.227 70.1427,-106.471\"/>\n",
       "<polygon fill=\"black\" stroke=\"black\" points=\"73.6002,-105.869 69.1296,-96.2635 66.6344,-106.56 73.6002,-105.869\"/>\n",
       "</g>\n",
       "<!-- STAT&#45;&gt;ANL -->\n",
       "<g id=\"edge5\" class=\"edge\"><title>STAT&#45;&gt;ANL</title>\n",
       "<path fill=\"none\" stroke=\"black\" d=\"M97.3348,-137.924C105.343,-133.37 114.473,-128.178 123.003,-123.327\"/>\n",
       "<polygon fill=\"black\" stroke=\"black\" points=\"124.979,-126.23 131.942,-118.244 121.519,-120.145 124.979,-126.23\"/>\n",
       "</g>\n",
       "<!-- VECT&#45;&gt;MECH -->\n",
       "<g id=\"edge6\" class=\"edge\"><title>VECT&#45;&gt;MECH</title>\n",
       "<path fill=\"none\" stroke=\"black\" d=\"M88.6797,-21.3567C86.6847,-21.5785 84.6607,-21.8034 82.6264,-22.0295\"/>\n",
       "<polygon fill=\"black\" stroke=\"black\" points=\"82.0081,-18.5766 72.456,-23.1598 82.7814,-25.5337 82.0081,-18.5766\"/>\n",
       "</g>\n",
       "</g>\n",
       "</svg>\n"
      ],
      "text/plain": [
       "<graphviz.dot.Digraph at 0x7fdd58c93ba8>"
      ]
     },
     "execution_count": 113,
     "metadata": {},
     "output_type": "execute_result"
    }
   ],
   "source": [
    "pybnl.bn.dot(*pybnl.bn.dag(bn))"
   ]
  },
  {
   "cell_type": "code",
   "execution_count": 114,
   "metadata": {},
   "outputs": [
    {
     "data": {
      "image/svg+xml": [
       "<?xml version=\"1.0\" encoding=\"UTF-8\" standalone=\"no\"?>\n",
       "<!DOCTYPE svg PUBLIC \"-//W3C//DTD SVG 1.1//EN\"\n",
       " \"http://www.w3.org/Graphics/SVG/1.1/DTD/svg11.dtd\">\n",
       "<!-- Generated by graphviz version 2.36.0 (20140111.2315)\n",
       " -->\n",
       "<!-- Title: %3 Pages: 1 -->\n",
       "<svg width=\"190pt\" height=\"177pt\"\n",
       " viewBox=\"0.00 0.00 190.00 177.00\" xmlns=\"http://www.w3.org/2000/svg\" xmlns:xlink=\"http://www.w3.org/1999/xlink\">\n",
       "<g id=\"graph0\" class=\"graph\" transform=\"scale(1 1) rotate(0) translate(4 173)\">\n",
       "<title>%3</title>\n",
       "<polygon fill=\"white\" stroke=\"none\" points=\"-4,4 -4,-173 186,-173 186,4 -4,4\"/>\n",
       "<!-- ALG -->\n",
       "<g id=\"node1\" class=\"node\"><title>ALG</title>\n",
       "<ellipse fill=\"none\" stroke=\"black\" cx=\"67.3343\" cy=\"-78.1743\" rx=\"28.6953\" ry=\"18\"/>\n",
       "<text text-anchor=\"middle\" x=\"67.3343\" y=\"-74.4743\" font-family=\"Times,serif\" font-size=\"14.00\">ALG</text>\n",
       "</g>\n",
       "<!-- MECH -->\n",
       "<g id=\"node3\" class=\"node\"><title>MECH</title>\n",
       "<ellipse fill=\"none\" stroke=\"black\" cx=\"36.7281\" cy=\"-27.1306\" rx=\"36.2938\" ry=\"18\"/>\n",
       "<text text-anchor=\"middle\" x=\"36.7281\" y=\"-23.4306\" font-family=\"Times,serif\" font-size=\"14.00\">MECH</text>\n",
       "</g>\n",
       "<!-- ALG&#45;&gt;MECH -->\n",
       "<g id=\"edge6\" class=\"edge\"><title>ALG&#45;&gt;MECH</title>\n",
       "<path fill=\"none\" stroke=\"black\" d=\"M57.1429,-61.1775C53.9433,-55.8413 50.4068,-49.9433 47.1888,-44.5765\"/>\n",
       "</g>\n",
       "<!-- VECT -->\n",
       "<g id=\"node5\" class=\"node\"><title>VECT</title>\n",
       "<ellipse fill=\"none\" stroke=\"black\" cx=\"121.823\" cy=\"-17.6731\" rx=\"33.5952\" ry=\"18\"/>\n",
       "<text text-anchor=\"middle\" x=\"121.823\" y=\"-13.9731\" font-family=\"Times,serif\" font-size=\"14.00\">VECT</text>\n",
       "</g>\n",
       "<!-- ALG&#45;&gt;VECT -->\n",
       "<g id=\"edge5\" class=\"edge\"><title>ALG&#45;&gt;VECT</title>\n",
       "<path fill=\"none\" stroke=\"black\" d=\"M81.6507,-62.2783C89.4706,-53.5957 99.1402,-42.8591 107.033,-34.0955\"/>\n",
       "</g>\n",
       "<!-- ANL -->\n",
       "<g id=\"node2\" class=\"node\"><title>ANL</title>\n",
       "<ellipse fill=\"none\" stroke=\"black\" cx=\"153.324\" cy=\"-106.084\" rx=\"28.6953\" ry=\"18\"/>\n",
       "<text text-anchor=\"middle\" x=\"153.324\" y=\"-102.384\" font-family=\"Times,serif\" font-size=\"14.00\">ANL</text>\n",
       "</g>\n",
       "<!-- ANL&#45;&gt;ALG -->\n",
       "<g id=\"edge1\" class=\"edge\"><title>ANL&#45;&gt;ALG</title>\n",
       "<path fill=\"none\" stroke=\"black\" d=\"M127.524,-97.7105C116.542,-94.1459 103.767,-89.9996 92.8196,-86.4462\"/>\n",
       "</g>\n",
       "<!-- STAT -->\n",
       "<g id=\"node4\" class=\"node\"><title>STAT</title>\n",
       "<ellipse fill=\"none\" stroke=\"black\" cx=\"74.55\" cy=\"-150.881\" rx=\"32.4942\" ry=\"18\"/>\n",
       "<text text-anchor=\"middle\" x=\"74.55\" y=\"-147.181\" font-family=\"Times,serif\" font-size=\"14.00\">STAT</text>\n",
       "</g>\n",
       "<!-- STAT&#45;&gt;ALG -->\n",
       "<g id=\"edge3\" class=\"edge\"><title>STAT&#45;&gt;ALG</title>\n",
       "<path fill=\"none\" stroke=\"black\" d=\"M72.7292,-132.534C71.627,-121.428 70.2271,-107.323 69.1296,-96.2635\"/>\n",
       "</g>\n",
       "<!-- STAT&#45;&gt;ANL -->\n",
       "<g id=\"edge2\" class=\"edge\"><title>STAT&#45;&gt;ANL</title>\n",
       "<path fill=\"none\" stroke=\"black\" d=\"M97.3348,-137.924C108.24,-131.722 121.224,-124.339 131.942,-118.244\"/>\n",
       "</g>\n",
       "<!-- VECT&#45;&gt;MECH -->\n",
       "<g id=\"edge4\" class=\"edge\"><title>VECT&#45;&gt;MECH</title>\n",
       "<path fill=\"none\" stroke=\"black\" d=\"M88.6797,-21.3567C83.3597,-21.948 77.8332,-22.5622 72.456,-23.1598\"/>\n",
       "</g>\n",
       "</g>\n",
       "</svg>\n"
      ],
      "text/plain": [
       "<graphviz.dot.Digraph at 0x7fdd58c8cfd0>"
      ]
     },
     "execution_count": 114,
     "metadata": {},
     "output_type": "execute_result"
    }
   ],
   "source": [
    "pybnl.bn.dot(*pybnl.bn.cpdag(bn))"
   ]
  },
  {
   "cell_type": "code",
   "execution_count": 115,
   "metadata": {},
   "outputs": [
    {
     "name": "stdout",
     "output_type": "stream",
     "text": [
      "\n",
      "  Random/Generated Bayesian network\n",
      "\n",
      "  model:\n",
      "   [ANL][STAT][ALG|ANL:STAT][VECT|ALG][MECH|ALG:VECT] \n",
      "  nodes:                                 5 \n",
      "  arcs:                                  5 \n",
      "    undirected arcs:                     0 \n",
      "    directed arcs:                       5 \n",
      "  average markov blanket size:           2.40 \n",
      "  average neighbourhood size:            2.00 \n",
      "  average branching factor:              1.00 \n",
      "\n",
      "  generation algorithm:                  Empty \n",
      "\n",
      "\n"
     ]
    }
   ],
   "source": [
    "print(pybnl.bn.drop_arc(bn.rnet, frm='STAT', to='ANL'))"
   ]
  },
  {
   "cell_type": "code",
   "execution_count": 116,
   "metadata": {},
   "outputs": [
    {
     "data": {
      "text/plain": [
       "(['ALG', 'ANL', 'MECH', 'STAT', 'VECT'],\n",
       " {('ALG', 'MECH'), ('ALG', 'VECT'), ('ANL', 'ALG'), ('STAT', 'ALG')},\n",
       " {('VECT', 'MECH')})"
      ]
     },
     "execution_count": 116,
     "metadata": {},
     "output_type": "execute_result"
    }
   ],
   "source": [
    "pybnl.bn.rnet2cpdag(pybnl.bn.drop_arc(bn.rnet, frm='STAT', to='ANL'))"
   ]
  },
  {
   "cell_type": "code",
   "execution_count": 117,
   "metadata": {},
   "outputs": [
    {
     "data": {
      "image/svg+xml": [
       "<?xml version=\"1.0\" encoding=\"UTF-8\" standalone=\"no\"?>\n",
       "<!DOCTYPE svg PUBLIC \"-//W3C//DTD SVG 1.1//EN\"\n",
       " \"http://www.w3.org/Graphics/SVG/1.1/DTD/svg11.dtd\">\n",
       "<!-- Generated by graphviz version 2.36.0 (20140111.2315)\n",
       " -->\n",
       "<!-- Title: %3 Pages: 1 -->\n",
       "<svg width=\"147pt\" height=\"260pt\"\n",
       " viewBox=\"0.00 0.00 147.00 260.00\" xmlns=\"http://www.w3.org/2000/svg\" xmlns:xlink=\"http://www.w3.org/1999/xlink\">\n",
       "<g id=\"graph0\" class=\"graph\" transform=\"scale(1 1) rotate(0) translate(4 256)\">\n",
       "<title>%3</title>\n",
       "<polygon fill=\"white\" stroke=\"none\" points=\"-4,4 -4,-256 143,-256 143,4 -4,4\"/>\n",
       "<!-- ALG -->\n",
       "<g id=\"node1\" class=\"node\"><title>ALG</title>\n",
       "<ellipse fill=\"none\" stroke=\"black\" cx=\"67\" cy=\"-162\" rx=\"28.3955\" ry=\"18\"/>\n",
       "<text text-anchor=\"middle\" x=\"67\" y=\"-158.3\" font-family=\"Times,serif\" font-size=\"14.00\">ALG</text>\n",
       "</g>\n",
       "<!-- MECH -->\n",
       "<g id=\"node3\" class=\"node\"><title>MECH</title>\n",
       "<ellipse fill=\"none\" stroke=\"black\" cx=\"67\" cy=\"-18\" rx=\"36.096\" ry=\"18\"/>\n",
       "<text text-anchor=\"middle\" x=\"67\" y=\"-14.3\" font-family=\"Times,serif\" font-size=\"14.00\">MECH</text>\n",
       "</g>\n",
       "<!-- ALG&#45;&gt;MECH -->\n",
       "<g id=\"edge3\" class=\"edge\"><title>ALG&#45;&gt;MECH</title>\n",
       "<path fill=\"none\" stroke=\"black\" d=\"M62.1309,-143.979C59.4358,-133.665 56.3626,-120.189 55,-108 53.2224,-92.0991 53.2224,-87.9009 55,-72 55.9581,-63.4299 57.7618,-54.2228 59.6852,-45.9264\"/>\n",
       "<polygon fill=\"black\" stroke=\"black\" points=\"63.1318,-46.5684 62.1309,-36.0209 56.3358,-44.8904 63.1318,-46.5684\"/>\n",
       "</g>\n",
       "<!-- VECT -->\n",
       "<g id=\"node5\" class=\"node\"><title>VECT</title>\n",
       "<ellipse fill=\"none\" stroke=\"black\" cx=\"98\" cy=\"-90\" rx=\"33.1991\" ry=\"18\"/>\n",
       "<text text-anchor=\"middle\" x=\"98\" y=\"-86.3\" font-family=\"Times,serif\" font-size=\"14.00\">VECT</text>\n",
       "</g>\n",
       "<!-- ALG&#45;&gt;VECT -->\n",
       "<g id=\"edge2\" class=\"edge\"><title>ALG&#45;&gt;VECT</title>\n",
       "<path fill=\"none\" stroke=\"black\" d=\"M74.3466,-144.411C77.923,-136.335 82.309,-126.431 86.3286,-117.355\"/>\n",
       "<polygon fill=\"black\" stroke=\"black\" points=\"89.6417,-118.517 90.4908,-107.956 83.2413,-115.682 89.6417,-118.517\"/>\n",
       "</g>\n",
       "<!-- ANL -->\n",
       "<g id=\"node2\" class=\"node\"><title>ANL</title>\n",
       "<ellipse fill=\"none\" stroke=\"black\" cx=\"28\" cy=\"-234\" rx=\"28.3955\" ry=\"18\"/>\n",
       "<text text-anchor=\"middle\" x=\"28\" y=\"-230.3\" font-family=\"Times,serif\" font-size=\"14.00\">ANL</text>\n",
       "</g>\n",
       "<!-- ANL&#45;&gt;ALG -->\n",
       "<g id=\"edge1\" class=\"edge\"><title>ANL&#45;&gt;ALG</title>\n",
       "<path fill=\"none\" stroke=\"black\" d=\"M37.0454,-216.765C41.82,-208.195 47.7819,-197.494 53.1269,-187.9\"/>\n",
       "<polygon fill=\"black\" stroke=\"black\" points=\"56.1941,-189.586 58.0036,-179.147 50.0791,-186.18 56.1941,-189.586\"/>\n",
       "</g>\n",
       "<!-- STAT -->\n",
       "<g id=\"node4\" class=\"node\"><title>STAT</title>\n",
       "<ellipse fill=\"none\" stroke=\"black\" cx=\"107\" cy=\"-234\" rx=\"32.2457\" ry=\"18\"/>\n",
       "<text text-anchor=\"middle\" x=\"107\" y=\"-230.3\" font-family=\"Times,serif\" font-size=\"14.00\">STAT</text>\n",
       "</g>\n",
       "<!-- STAT&#45;&gt;ALG -->\n",
       "<g id=\"edge4\" class=\"edge\"><title>STAT&#45;&gt;ALG</title>\n",
       "<path fill=\"none\" stroke=\"black\" d=\"M97.5206,-216.411C92.7383,-208.042 86.8342,-197.71 81.497,-188.37\"/>\n",
       "<polygon fill=\"black\" stroke=\"black\" points=\"84.4117,-186.416 76.4114,-179.47 78.334,-189.889 84.4117,-186.416\"/>\n",
       "</g>\n",
       "<!-- VECT&#45;&gt;MECH -->\n",
       "<g id=\"edge5\" class=\"edge\"><title>VECT&#45;&gt;MECH</title>\n",
       "<path fill=\"none\" stroke=\"black\" d=\"M90.6534,-72.411C85.7834,-61.4141 79.4122,-47.0274 74.5092,-35.9562\"/>\n",
       "</g>\n",
       "</g>\n",
       "</svg>\n"
      ],
      "text/plain": [
       "<graphviz.dot.Digraph at 0x7fdd58cd5128>"
      ]
     },
     "execution_count": 117,
     "metadata": {},
     "output_type": "execute_result"
    }
   ],
   "source": [
    "pybnl.bn.dot(*pybnl.bn.rnet2cpdag(pybnl.bn.drop_arc(bn.rnet, frm='STAT', to='ANL')),engine='dot')"
   ]
  },
  {
   "cell_type": "code",
   "execution_count": 118,
   "metadata": {},
   "outputs": [],
   "source": [
    "tmp1 = bn.rfit\n",
    "tmp2 = bn.rnet"
   ]
  },
  {
   "cell_type": "code",
   "execution_count": 119,
   "metadata": {},
   "outputs": [
    {
     "data": {
      "text/plain": [
       "\n",
       "  Random/Generated Bayesian network\n",
       "\n",
       "  model:\n",
       "    [partially directed graph]\n",
       "  nodes:                                 5 \n",
       "  arcs:                                  5 \n",
       "    undirected arcs:                     1 \n",
       "    directed arcs:                       4 \n",
       "  average markov blanket size:           2.40 \n",
       "  average neighbourhood size:            2.00 \n",
       "  average branching factor:              0.80 \n",
       "\n",
       "  generation algorithm:                  Empty \n",
       "\n"
      ]
     },
     "metadata": {},
     "output_type": "display_data"
    }
   ],
   "source": [
    "%%R -i tmp1 -i tmp2\n",
    "tmp2_da = drop.arc(tmp2, from=\"STAT\", to=\"ANL\")\n",
    "# print(tmp2)\n",
    "cpdag(tmp2_da)"
   ]
  },
  {
   "cell_type": "code",
   "execution_count": 120,
   "metadata": {},
   "outputs": [],
   "source": [
    "%%R -o rdf_lt\n",
    "data(learning.test)\n",
    "rdf_lt = learning.test"
   ]
  },
  {
   "cell_type": "markdown",
   "metadata": {},
   "source": [
    "* [mapping-categorical-data-in-pandas](http://benalexkeen.com/mapping-categorical-data-in-pandas/)\n",
    "* [CategoricalDtype](https://pandas.pydata.org/pandas-docs/stable/categorical.html#categoricaldtype)"
   ]
  },
  {
   "cell_type": "code",
   "execution_count": 121,
   "metadata": {},
   "outputs": [
    {
     "name": "stdout",
     "output_type": "stream",
     "text": [
      "<class 'pandas.core.frame.DataFrame'>\n",
      "Index: 5000 entries, 1 to 5000\n",
      "Data columns (total 6 columns):\n",
      "A    5000 non-null category\n",
      "B    5000 non-null category\n",
      "C    5000 non-null category\n",
      "D    5000 non-null category\n",
      "E    5000 non-null category\n",
      "F    5000 non-null category\n",
      "dtypes: category(6)\n",
      "memory usage: 69.0+ KB\n"
     ]
    }
   ],
   "source": [
    "#df_lt = rpy2.robjects.pandas2ri.ri2py(rdf_lt)\n",
    "df_lt = rdf_lt\n",
    "\n",
    "ct1 = pd.api.types.CategoricalDtype(['a', 'b', 'c'], ordered=True)\n",
    "ct2 = pd.api.types.CategoricalDtype(['a', 'b'], ordered=True)\n",
    "\n",
    "for c in 'ABCDE':\n",
    "    df_lt[c] = df_lt[c].astype(ct1)\n",
    "df_lt['F'] = df_lt['F'].astype(ct2)\n",
    "\n",
    "df_lt.info()"
   ]
  },
  {
   "cell_type": "markdown",
   "metadata": {},
   "source": [
    "* [Fundamentals of Structure Learning](http://www.bnlearn.com/about/teaching/slides-bnshort.pdf) p. 157\n",
    "    * bnlearn implements several constraint-based algorithms, each with its own function: gs(), iamb(), mmpc(), si.hiton.pc(), etc."
   ]
  },
  {
   "cell_type": "code",
   "execution_count": 122,
   "metadata": {},
   "outputs": [
    {
     "data": {
      "text/plain": [
       "\n",
       "  Bayesian network learned via Constraint-based methods\n",
       "\n",
       "  model:\n",
       "    [partially directed graph]\n",
       "  nodes:                                 6 \n",
       "  arcs:                                  5 \n",
       "    undirected arcs:                     1 \n",
       "    directed arcs:                       4 \n",
       "  average markov blanket size:           2.33 \n",
       "  average neighbourhood size:            1.67 \n",
       "  average branching factor:              0.67 \n",
       "\n",
       "  learning algorithm:                    Semi-Interleaved HITON-PC \n",
       "  conditional independence test:         Mutual Information (disc., MC) \n",
       "  alpha threshold:                       0.05 \n",
       "  permutations:                          5000 \n",
       "  tests used in the learning procedure:  34 \n",
       "  optimized:                             FALSE \n",
       "\n"
      ]
     },
     "metadata": {},
     "output_type": "display_data"
    }
   ],
   "source": [
    "%%R -o cpdaghiton\n",
    "cpdaghiton = si.hiton.pc(rdf_lt, test = \"mc-mi\", undirected = FALSE)\n",
    "cpdaghiton"
   ]
  },
  {
   "cell_type": "markdown",
   "metadata": {},
   "source": [
    "[networks](http://www.bnlearn.com/documentation/networks/)\n",
    "<img src='http://www.bnlearn.com/documentation/networks/learning.test.png' width=400>"
   ]
  },
  {
   "cell_type": "code",
   "execution_count": 123,
   "metadata": {},
   "outputs": [
    {
     "data": {
      "image/svg+xml": [
       "<?xml version=\"1.0\" encoding=\"UTF-8\" standalone=\"no\"?>\n",
       "<!DOCTYPE svg PUBLIC \"-//W3C//DTD SVG 1.1//EN\"\n",
       " \"http://www.w3.org/Graphics/SVG/1.1/DTD/svg11.dtd\">\n",
       "<!-- Generated by graphviz version 2.36.0 (20140111.2315)\n",
       " -->\n",
       "<!-- Title: %3 Pages: 1 -->\n",
       "<svg width=\"206pt\" height=\"188pt\"\n",
       " viewBox=\"0.00 0.00 206.00 188.00\" xmlns=\"http://www.w3.org/2000/svg\" xmlns:xlink=\"http://www.w3.org/1999/xlink\">\n",
       "<g id=\"graph0\" class=\"graph\" transform=\"scale(1 1) rotate(0) translate(4 184)\">\n",
       "<title>%3</title>\n",
       "<polygon fill=\"white\" stroke=\"none\" points=\"-4,4 -4,-184 202,-184 202,4 -4,4\"/>\n",
       "<!-- A -->\n",
       "<g id=\"node1\" class=\"node\"><title>A</title>\n",
       "<ellipse fill=\"none\" stroke=\"black\" cx=\"99\" cy=\"-90\" rx=\"27\" ry=\"18\"/>\n",
       "<text text-anchor=\"middle\" x=\"99\" y=\"-86.3\" font-family=\"Times,serif\" font-size=\"14.00\">A</text>\n",
       "</g>\n",
       "<!-- D -->\n",
       "<g id=\"node4\" class=\"node\"><title>D</title>\n",
       "<ellipse fill=\"none\" stroke=\"black\" cx=\"63\" cy=\"-18\" rx=\"27\" ry=\"18\"/>\n",
       "<text text-anchor=\"middle\" x=\"63\" y=\"-14.3\" font-family=\"Times,serif\" font-size=\"14.00\">D</text>\n",
       "</g>\n",
       "<!-- A&#45;&gt;D -->\n",
       "<g id=\"edge1\" class=\"edge\"><title>A&#45;&gt;D</title>\n",
       "<path fill=\"none\" stroke=\"black\" d=\"M90.6504,-72.7646C86.2885,-64.2831 80.8531,-53.7144 75.9587,-44.1974\"/>\n",
       "<polygon fill=\"black\" stroke=\"black\" points=\"78.9904,-42.4395 71.3043,-35.1473 72.7654,-45.6409 78.9904,-42.4395\"/>\n",
       "</g>\n",
       "<!-- B -->\n",
       "<g id=\"node2\" class=\"node\"><title>B</title>\n",
       "<ellipse fill=\"none\" stroke=\"black\" cx=\"99\" cy=\"-162\" rx=\"27\" ry=\"18\"/>\n",
       "<text text-anchor=\"middle\" x=\"99\" y=\"-158.3\" font-family=\"Times,serif\" font-size=\"14.00\">B</text>\n",
       "</g>\n",
       "<!-- B&#45;&gt;A -->\n",
       "<g id=\"edge2\" class=\"edge\"><title>B&#45;&gt;A</title>\n",
       "<path fill=\"none\" stroke=\"black\" d=\"M99,-143.697C99,-135.983 99,-126.712 99,-118.112\"/>\n",
       "<polygon fill=\"black\" stroke=\"black\" points=\"102.5,-118.104 99,-108.104 95.5001,-118.104 102.5,-118.104\"/>\n",
       "</g>\n",
       "<!-- E -->\n",
       "<g id=\"node5\" class=\"node\"><title>E</title>\n",
       "<ellipse fill=\"none\" stroke=\"black\" cx=\"171\" cy=\"-90\" rx=\"27\" ry=\"18\"/>\n",
       "<text text-anchor=\"middle\" x=\"171\" y=\"-86.3\" font-family=\"Times,serif\" font-size=\"14.00\">E</text>\n",
       "</g>\n",
       "<!-- B&#45;&gt;E -->\n",
       "<g id=\"edge3\" class=\"edge\"><title>B&#45;&gt;E</title>\n",
       "<path fill=\"none\" stroke=\"black\" d=\"M113.57,-146.834C123.75,-136.938 137.524,-123.546 149.031,-112.359\"/>\n",
       "<polygon fill=\"black\" stroke=\"black\" points=\"151.474,-114.865 156.204,-105.385 146.595,-109.846 151.474,-114.865\"/>\n",
       "</g>\n",
       "<!-- C -->\n",
       "<g id=\"node3\" class=\"node\"><title>C</title>\n",
       "<ellipse fill=\"none\" stroke=\"black\" cx=\"27\" cy=\"-90\" rx=\"27\" ry=\"18\"/>\n",
       "<text text-anchor=\"middle\" x=\"27\" y=\"-86.3\" font-family=\"Times,serif\" font-size=\"14.00\">C</text>\n",
       "</g>\n",
       "<!-- C&#45;&gt;D -->\n",
       "<g id=\"edge4\" class=\"edge\"><title>C&#45;&gt;D</title>\n",
       "<path fill=\"none\" stroke=\"black\" d=\"M35.3496,-72.7646C39.7115,-64.2831 45.1469,-53.7144 50.0413,-44.1974\"/>\n",
       "<polygon fill=\"black\" stroke=\"black\" points=\"53.2346,-45.6409 54.6957,-35.1473 47.0096,-42.4395 53.2346,-45.6409\"/>\n",
       "</g>\n",
       "<!-- F -->\n",
       "<g id=\"node6\" class=\"node\"><title>F</title>\n",
       "<ellipse fill=\"none\" stroke=\"black\" cx=\"171\" cy=\"-162\" rx=\"27\" ry=\"18\"/>\n",
       "<text text-anchor=\"middle\" x=\"171\" y=\"-158.3\" font-family=\"Times,serif\" font-size=\"14.00\">F</text>\n",
       "</g>\n",
       "<!-- F&#45;&gt;E -->\n",
       "<g id=\"edge5\" class=\"edge\"><title>F&#45;&gt;E</title>\n",
       "<path fill=\"none\" stroke=\"black\" d=\"M171,-143.697C171,-135.983 171,-126.712 171,-118.112\"/>\n",
       "<polygon fill=\"black\" stroke=\"black\" points=\"174.5,-118.104 171,-108.104 167.5,-118.104 174.5,-118.104\"/>\n",
       "</g>\n",
       "</g>\n",
       "</svg>\n"
      ],
      "text/plain": [
       "<graphviz.dot.Digraph at 0x7fdd58c7a908>"
      ]
     },
     "execution_count": 123,
     "metadata": {},
     "output_type": "execute_result"
    }
   ],
   "source": [
    "pybnl.bn.dot(*pybnl.bn.rnet2dag(cpdaghiton),engine='dot')"
   ]
  },
  {
   "cell_type": "code",
   "execution_count": 124,
   "metadata": {},
   "outputs": [],
   "source": [
    "%%R -o daghc\n",
    "daghc = hc(rdf_lt, score = \"bic\", iss=1, restart = 10, perturb = 5, start = random.graph(names(rdf_lt)))"
   ]
  },
  {
   "cell_type": "code",
   "execution_count": 125,
   "metadata": {},
   "outputs": [
    {
     "data": {
      "image/svg+xml": [
       "<?xml version=\"1.0\" encoding=\"UTF-8\" standalone=\"no\"?>\n",
       "<!DOCTYPE svg PUBLIC \"-//W3C//DTD SVG 1.1//EN\"\n",
       " \"http://www.w3.org/Graphics/SVG/1.1/DTD/svg11.dtd\">\n",
       "<!-- Generated by graphviz version 2.36.0 (20140111.2315)\n",
       " -->\n",
       "<!-- Title: %3 Pages: 1 -->\n",
       "<svg width=\"206pt\" height=\"188pt\"\n",
       " viewBox=\"0.00 0.00 206.00 188.00\" xmlns=\"http://www.w3.org/2000/svg\" xmlns:xlink=\"http://www.w3.org/1999/xlink\">\n",
       "<g id=\"graph0\" class=\"graph\" transform=\"scale(1 1) rotate(0) translate(4 184)\">\n",
       "<title>%3</title>\n",
       "<polygon fill=\"white\" stroke=\"none\" points=\"-4,4 -4,-184 202,-184 202,4 -4,4\"/>\n",
       "<!-- A -->\n",
       "<g id=\"node1\" class=\"node\"><title>A</title>\n",
       "<ellipse fill=\"none\" stroke=\"black\" cx=\"99\" cy=\"-90\" rx=\"27\" ry=\"18\"/>\n",
       "<text text-anchor=\"middle\" x=\"99\" y=\"-86.3\" font-family=\"Times,serif\" font-size=\"14.00\">A</text>\n",
       "</g>\n",
       "<!-- D -->\n",
       "<g id=\"node4\" class=\"node\"><title>D</title>\n",
       "<ellipse fill=\"none\" stroke=\"black\" cx=\"63\" cy=\"-18\" rx=\"27\" ry=\"18\"/>\n",
       "<text text-anchor=\"middle\" x=\"63\" y=\"-14.3\" font-family=\"Times,serif\" font-size=\"14.00\">D</text>\n",
       "</g>\n",
       "<!-- A&#45;&gt;D -->\n",
       "<g id=\"edge1\" class=\"edge\"><title>A&#45;&gt;D</title>\n",
       "<path fill=\"none\" stroke=\"black\" d=\"M90.6504,-72.7646C86.2885,-64.2831 80.8531,-53.7144 75.9587,-44.1974\"/>\n",
       "<polygon fill=\"black\" stroke=\"black\" points=\"78.9904,-42.4395 71.3043,-35.1473 72.7654,-45.6409 78.9904,-42.4395\"/>\n",
       "</g>\n",
       "<!-- B -->\n",
       "<g id=\"node2\" class=\"node\"><title>B</title>\n",
       "<ellipse fill=\"none\" stroke=\"black\" cx=\"99\" cy=\"-162\" rx=\"27\" ry=\"18\"/>\n",
       "<text text-anchor=\"middle\" x=\"99\" y=\"-158.3\" font-family=\"Times,serif\" font-size=\"14.00\">B</text>\n",
       "</g>\n",
       "<!-- B&#45;&gt;A -->\n",
       "<g id=\"edge2\" class=\"edge\"><title>B&#45;&gt;A</title>\n",
       "<path fill=\"none\" stroke=\"black\" d=\"M99,-143.697C99,-135.983 99,-126.712 99,-118.112\"/>\n",
       "<polygon fill=\"black\" stroke=\"black\" points=\"102.5,-118.104 99,-108.104 95.5001,-118.104 102.5,-118.104\"/>\n",
       "</g>\n",
       "<!-- E -->\n",
       "<g id=\"node5\" class=\"node\"><title>E</title>\n",
       "<ellipse fill=\"none\" stroke=\"black\" cx=\"171\" cy=\"-90\" rx=\"27\" ry=\"18\"/>\n",
       "<text text-anchor=\"middle\" x=\"171\" y=\"-86.3\" font-family=\"Times,serif\" font-size=\"14.00\">E</text>\n",
       "</g>\n",
       "<!-- B&#45;&gt;E -->\n",
       "<g id=\"edge3\" class=\"edge\"><title>B&#45;&gt;E</title>\n",
       "<path fill=\"none\" stroke=\"black\" d=\"M113.57,-146.834C123.75,-136.938 137.524,-123.546 149.031,-112.359\"/>\n",
       "<polygon fill=\"black\" stroke=\"black\" points=\"151.474,-114.865 156.204,-105.385 146.595,-109.846 151.474,-114.865\"/>\n",
       "</g>\n",
       "<!-- C -->\n",
       "<g id=\"node3\" class=\"node\"><title>C</title>\n",
       "<ellipse fill=\"none\" stroke=\"black\" cx=\"27\" cy=\"-90\" rx=\"27\" ry=\"18\"/>\n",
       "<text text-anchor=\"middle\" x=\"27\" y=\"-86.3\" font-family=\"Times,serif\" font-size=\"14.00\">C</text>\n",
       "</g>\n",
       "<!-- C&#45;&gt;D -->\n",
       "<g id=\"edge4\" class=\"edge\"><title>C&#45;&gt;D</title>\n",
       "<path fill=\"none\" stroke=\"black\" d=\"M35.3496,-72.7646C39.7115,-64.2831 45.1469,-53.7144 50.0413,-44.1974\"/>\n",
       "<polygon fill=\"black\" stroke=\"black\" points=\"53.2346,-45.6409 54.6957,-35.1473 47.0096,-42.4395 53.2346,-45.6409\"/>\n",
       "</g>\n",
       "<!-- F -->\n",
       "<g id=\"node6\" class=\"node\"><title>F</title>\n",
       "<ellipse fill=\"none\" stroke=\"black\" cx=\"171\" cy=\"-162\" rx=\"27\" ry=\"18\"/>\n",
       "<text text-anchor=\"middle\" x=\"171\" y=\"-158.3\" font-family=\"Times,serif\" font-size=\"14.00\">F</text>\n",
       "</g>\n",
       "<!-- F&#45;&gt;E -->\n",
       "<g id=\"edge5\" class=\"edge\"><title>F&#45;&gt;E</title>\n",
       "<path fill=\"none\" stroke=\"black\" d=\"M171,-143.697C171,-135.983 171,-126.712 171,-118.112\"/>\n",
       "<polygon fill=\"black\" stroke=\"black\" points=\"174.5,-118.104 171,-108.104 167.5,-118.104 174.5,-118.104\"/>\n",
       "</g>\n",
       "</g>\n",
       "</svg>\n"
      ],
      "text/plain": [
       "<graphviz.dot.Digraph at 0x7fdd58beff98>"
      ]
     },
     "execution_count": 125,
     "metadata": {},
     "output_type": "execute_result"
    }
   ],
   "source": [
    "pybnl.bn.dot(*pybnl.bn.rnet2dag(daghc),engine='dot')"
   ]
  },
  {
   "cell_type": "markdown",
   "metadata": {},
   "source": [
    "* [Fundamentals of Structure Learning](http://www.bnlearn.com/about/teaching/slides-bnshort.pdf) p. 203\n",
    "    * bnlearn implements several constraint-based algorithms, each with its own function: gs(), iamb(), mmpc(), si.hiton.pc(), etc."
   ]
  },
  {
   "cell_type": "code",
   "execution_count": 126,
   "metadata": {},
   "outputs": [],
   "source": [
    "%%R -o dagrsmax2\n",
    "dagrsmax2 = rsmax2(rdf_lt, \n",
    "                   restrict = \"si.hiton.pc\", restrict.args = list(test = \"x2\", alpha = 0.01), \n",
    "                   maximize = \"tabu\", maximize.args = list(score = \"bic\", tabu = 10))"
   ]
  },
  {
   "cell_type": "code",
   "execution_count": 127,
   "metadata": {},
   "outputs": [
    {
     "data": {
      "image/svg+xml": [
       "<?xml version=\"1.0\" encoding=\"UTF-8\" standalone=\"no\"?>\n",
       "<!DOCTYPE svg PUBLIC \"-//W3C//DTD SVG 1.1//EN\"\n",
       " \"http://www.w3.org/Graphics/SVG/1.1/DTD/svg11.dtd\">\n",
       "<!-- Generated by graphviz version 2.36.0 (20140111.2315)\n",
       " -->\n",
       "<!-- Title: %3 Pages: 1 -->\n",
       "<svg width=\"206pt\" height=\"188pt\"\n",
       " viewBox=\"0.00 0.00 206.00 188.00\" xmlns=\"http://www.w3.org/2000/svg\" xmlns:xlink=\"http://www.w3.org/1999/xlink\">\n",
       "<g id=\"graph0\" class=\"graph\" transform=\"scale(1 1) rotate(0) translate(4 184)\">\n",
       "<title>%3</title>\n",
       "<polygon fill=\"white\" stroke=\"none\" points=\"-4,4 -4,-184 202,-184 202,4 -4,4\"/>\n",
       "<!-- A -->\n",
       "<g id=\"node1\" class=\"node\"><title>A</title>\n",
       "<ellipse fill=\"none\" stroke=\"black\" cx=\"27\" cy=\"-162\" rx=\"27\" ry=\"18\"/>\n",
       "<text text-anchor=\"middle\" x=\"27\" y=\"-158.3\" font-family=\"Times,serif\" font-size=\"14.00\">A</text>\n",
       "</g>\n",
       "<!-- B -->\n",
       "<g id=\"node2\" class=\"node\"><title>B</title>\n",
       "<ellipse fill=\"none\" stroke=\"black\" cx=\"27\" cy=\"-90\" rx=\"27\" ry=\"18\"/>\n",
       "<text text-anchor=\"middle\" x=\"27\" y=\"-86.3\" font-family=\"Times,serif\" font-size=\"14.00\">B</text>\n",
       "</g>\n",
       "<!-- A&#45;&gt;B -->\n",
       "<g id=\"edge1\" class=\"edge\"><title>A&#45;&gt;B</title>\n",
       "<path fill=\"none\" stroke=\"black\" d=\"M27,-143.697C27,-135.983 27,-126.712 27,-118.112\"/>\n",
       "<polygon fill=\"black\" stroke=\"black\" points=\"30.5001,-118.104 27,-108.104 23.5001,-118.104 30.5001,-118.104\"/>\n",
       "</g>\n",
       "<!-- D -->\n",
       "<g id=\"node4\" class=\"node\"><title>D</title>\n",
       "<ellipse fill=\"none\" stroke=\"black\" cx=\"99\" cy=\"-90\" rx=\"27\" ry=\"18\"/>\n",
       "<text text-anchor=\"middle\" x=\"99\" y=\"-86.3\" font-family=\"Times,serif\" font-size=\"14.00\">D</text>\n",
       "</g>\n",
       "<!-- A&#45;&gt;D -->\n",
       "<g id=\"edge2\" class=\"edge\"><title>A&#45;&gt;D</title>\n",
       "<path fill=\"none\" stroke=\"black\" d=\"M41.5703,-146.834C51.7499,-136.938 65.5239,-123.546 77.0306,-112.359\"/>\n",
       "<polygon fill=\"black\" stroke=\"black\" points=\"79.4741,-114.865 84.2043,-105.385 74.5945,-109.846 79.4741,-114.865\"/>\n",
       "</g>\n",
       "<!-- E -->\n",
       "<g id=\"node5\" class=\"node\"><title>E</title>\n",
       "<ellipse fill=\"none\" stroke=\"black\" cx=\"99\" cy=\"-18\" rx=\"27\" ry=\"18\"/>\n",
       "<text text-anchor=\"middle\" x=\"99\" y=\"-14.3\" font-family=\"Times,serif\" font-size=\"14.00\">E</text>\n",
       "</g>\n",
       "<!-- B&#45;&gt;E -->\n",
       "<g id=\"edge3\" class=\"edge\"><title>B&#45;&gt;E</title>\n",
       "<path fill=\"none\" stroke=\"black\" d=\"M41.5703,-74.8345C51.7499,-64.9376 65.5239,-51.5462 77.0306,-40.3591\"/>\n",
       "<polygon fill=\"black\" stroke=\"black\" points=\"79.4741,-42.865 84.2043,-33.3847 74.5945,-37.8461 79.4741,-42.865\"/>\n",
       "</g>\n",
       "<!-- C -->\n",
       "<g id=\"node3\" class=\"node\"><title>C</title>\n",
       "<ellipse fill=\"none\" stroke=\"black\" cx=\"99\" cy=\"-162\" rx=\"27\" ry=\"18\"/>\n",
       "<text text-anchor=\"middle\" x=\"99\" y=\"-158.3\" font-family=\"Times,serif\" font-size=\"14.00\">C</text>\n",
       "</g>\n",
       "<!-- C&#45;&gt;D -->\n",
       "<g id=\"edge4\" class=\"edge\"><title>C&#45;&gt;D</title>\n",
       "<path fill=\"none\" stroke=\"black\" d=\"M99,-143.697C99,-135.983 99,-126.712 99,-118.112\"/>\n",
       "<polygon fill=\"black\" stroke=\"black\" points=\"102.5,-118.104 99,-108.104 95.5001,-118.104 102.5,-118.104\"/>\n",
       "</g>\n",
       "<!-- F -->\n",
       "<g id=\"node6\" class=\"node\"><title>F</title>\n",
       "<ellipse fill=\"none\" stroke=\"black\" cx=\"171\" cy=\"-90\" rx=\"27\" ry=\"18\"/>\n",
       "<text text-anchor=\"middle\" x=\"171\" y=\"-86.3\" font-family=\"Times,serif\" font-size=\"14.00\">F</text>\n",
       "</g>\n",
       "<!-- F&#45;&gt;E -->\n",
       "<g id=\"edge5\" class=\"edge\"><title>F&#45;&gt;E</title>\n",
       "<path fill=\"none\" stroke=\"black\" d=\"M156.43,-74.8345C146.25,-64.9376 132.476,-51.5462 120.969,-40.3591\"/>\n",
       "<polygon fill=\"black\" stroke=\"black\" points=\"123.405,-37.8461 113.796,-33.3847 118.526,-42.865 123.405,-37.8461\"/>\n",
       "</g>\n",
       "</g>\n",
       "</svg>\n"
      ],
      "text/plain": [
       "<graphviz.dot.Digraph at 0x7fdd58c93f28>"
      ]
     },
     "execution_count": 127,
     "metadata": {},
     "output_type": "execute_result"
    }
   ],
   "source": [
    "pybnl.bn.dot(*pybnl.bn.rnet2dag(dagrsmax2),engine='dot')"
   ]
  },
  {
   "cell_type": "code",
   "execution_count": 128,
   "metadata": {},
   "outputs": [],
   "source": [
    "%%R -o dagmmhc\n",
    "# dagmmhc = rsmax2(rdf_lt, restrict = \"mmpc\", maximize = \"hc\")\n",
    "dagmmhc = mmhc(rdf_lt)"
   ]
  },
  {
   "cell_type": "code",
   "execution_count": 129,
   "metadata": {},
   "outputs": [
    {
     "data": {
      "image/svg+xml": [
       "<?xml version=\"1.0\" encoding=\"UTF-8\" standalone=\"no\"?>\n",
       "<!DOCTYPE svg PUBLIC \"-//W3C//DTD SVG 1.1//EN\"\n",
       " \"http://www.w3.org/Graphics/SVG/1.1/DTD/svg11.dtd\">\n",
       "<!-- Generated by graphviz version 2.36.0 (20140111.2315)\n",
       " -->\n",
       "<!-- Title: %3 Pages: 1 -->\n",
       "<svg width=\"206pt\" height=\"188pt\"\n",
       " viewBox=\"0.00 0.00 206.00 188.00\" xmlns=\"http://www.w3.org/2000/svg\" xmlns:xlink=\"http://www.w3.org/1999/xlink\">\n",
       "<g id=\"graph0\" class=\"graph\" transform=\"scale(1 1) rotate(0) translate(4 184)\">\n",
       "<title>%3</title>\n",
       "<polygon fill=\"white\" stroke=\"none\" points=\"-4,4 -4,-184 202,-184 202,4 -4,4\"/>\n",
       "<!-- A -->\n",
       "<g id=\"node1\" class=\"node\"><title>A</title>\n",
       "<ellipse fill=\"none\" stroke=\"black\" cx=\"27\" cy=\"-162\" rx=\"27\" ry=\"18\"/>\n",
       "<text text-anchor=\"middle\" x=\"27\" y=\"-158.3\" font-family=\"Times,serif\" font-size=\"14.00\">A</text>\n",
       "</g>\n",
       "<!-- B -->\n",
       "<g id=\"node2\" class=\"node\"><title>B</title>\n",
       "<ellipse fill=\"none\" stroke=\"black\" cx=\"27\" cy=\"-90\" rx=\"27\" ry=\"18\"/>\n",
       "<text text-anchor=\"middle\" x=\"27\" y=\"-86.3\" font-family=\"Times,serif\" font-size=\"14.00\">B</text>\n",
       "</g>\n",
       "<!-- A&#45;&gt;B -->\n",
       "<g id=\"edge1\" class=\"edge\"><title>A&#45;&gt;B</title>\n",
       "<path fill=\"none\" stroke=\"black\" d=\"M27,-143.697C27,-135.983 27,-126.712 27,-118.112\"/>\n",
       "<polygon fill=\"black\" stroke=\"black\" points=\"30.5001,-118.104 27,-108.104 23.5001,-118.104 30.5001,-118.104\"/>\n",
       "</g>\n",
       "<!-- D -->\n",
       "<g id=\"node4\" class=\"node\"><title>D</title>\n",
       "<ellipse fill=\"none\" stroke=\"black\" cx=\"99\" cy=\"-90\" rx=\"27\" ry=\"18\"/>\n",
       "<text text-anchor=\"middle\" x=\"99\" y=\"-86.3\" font-family=\"Times,serif\" font-size=\"14.00\">D</text>\n",
       "</g>\n",
       "<!-- A&#45;&gt;D -->\n",
       "<g id=\"edge2\" class=\"edge\"><title>A&#45;&gt;D</title>\n",
       "<path fill=\"none\" stroke=\"black\" d=\"M41.5703,-146.834C51.7499,-136.938 65.5239,-123.546 77.0306,-112.359\"/>\n",
       "<polygon fill=\"black\" stroke=\"black\" points=\"79.4741,-114.865 84.2043,-105.385 74.5945,-109.846 79.4741,-114.865\"/>\n",
       "</g>\n",
       "<!-- E -->\n",
       "<g id=\"node5\" class=\"node\"><title>E</title>\n",
       "<ellipse fill=\"none\" stroke=\"black\" cx=\"99\" cy=\"-18\" rx=\"27\" ry=\"18\"/>\n",
       "<text text-anchor=\"middle\" x=\"99\" y=\"-14.3\" font-family=\"Times,serif\" font-size=\"14.00\">E</text>\n",
       "</g>\n",
       "<!-- B&#45;&gt;E -->\n",
       "<g id=\"edge3\" class=\"edge\"><title>B&#45;&gt;E</title>\n",
       "<path fill=\"none\" stroke=\"black\" d=\"M41.5703,-74.8345C51.7499,-64.9376 65.5239,-51.5462 77.0306,-40.3591\"/>\n",
       "<polygon fill=\"black\" stroke=\"black\" points=\"79.4741,-42.865 84.2043,-33.3847 74.5945,-37.8461 79.4741,-42.865\"/>\n",
       "</g>\n",
       "<!-- C -->\n",
       "<g id=\"node3\" class=\"node\"><title>C</title>\n",
       "<ellipse fill=\"none\" stroke=\"black\" cx=\"99\" cy=\"-162\" rx=\"27\" ry=\"18\"/>\n",
       "<text text-anchor=\"middle\" x=\"99\" y=\"-158.3\" font-family=\"Times,serif\" font-size=\"14.00\">C</text>\n",
       "</g>\n",
       "<!-- C&#45;&gt;D -->\n",
       "<g id=\"edge4\" class=\"edge\"><title>C&#45;&gt;D</title>\n",
       "<path fill=\"none\" stroke=\"black\" d=\"M99,-143.697C99,-135.983 99,-126.712 99,-118.112\"/>\n",
       "<polygon fill=\"black\" stroke=\"black\" points=\"102.5,-118.104 99,-108.104 95.5001,-118.104 102.5,-118.104\"/>\n",
       "</g>\n",
       "<!-- F -->\n",
       "<g id=\"node6\" class=\"node\"><title>F</title>\n",
       "<ellipse fill=\"none\" stroke=\"black\" cx=\"171\" cy=\"-90\" rx=\"27\" ry=\"18\"/>\n",
       "<text text-anchor=\"middle\" x=\"171\" y=\"-86.3\" font-family=\"Times,serif\" font-size=\"14.00\">F</text>\n",
       "</g>\n",
       "<!-- F&#45;&gt;E -->\n",
       "<g id=\"edge5\" class=\"edge\"><title>F&#45;&gt;E</title>\n",
       "<path fill=\"none\" stroke=\"black\" d=\"M156.43,-74.8345C146.25,-64.9376 132.476,-51.5462 120.969,-40.3591\"/>\n",
       "<polygon fill=\"black\" stroke=\"black\" points=\"123.405,-37.8461 113.796,-33.3847 118.526,-42.865 123.405,-37.8461\"/>\n",
       "</g>\n",
       "</g>\n",
       "</svg>\n"
      ],
      "text/plain": [
       "<graphviz.dot.Digraph at 0x7fdd58be5e10>"
      ]
     },
     "execution_count": 129,
     "metadata": {},
     "output_type": "execute_result"
    }
   ],
   "source": [
    "pybnl.bn.dot(*pybnl.bn.rnet2dag(dagmmhc),engine='dot')"
   ]
  },
  {
   "cell_type": "markdown",
   "metadata": {},
   "source": [
    "Model comparison: DAGs as Multivariate Trinomials\n",
    "[Fundamentals of Structure Learning](http://www.bnlearn.com/about/teaching/slides-bnshort.pdf) p. 214"
   ]
  },
  {
   "cell_type": "code",
   "execution_count": 130,
   "metadata": {},
   "outputs": [],
   "source": [
    "# %%R\n",
    "# bnlearn:::check.data(ldmarks, allow.levels = TRUE, allow.missing = TRUE, warn.if.no.missing = TRUE)#, \n",
    "# # ldmarks$LAT = as.numeric(ldmarks$LAT)"
   ]
  },
  {
   "cell_type": "code",
   "execution_count": 131,
   "metadata": {},
   "outputs": [
    {
     "data": {
      "text/plain": [
       "     MECH    VECT       ALG       ANL    STAT\n",
       "1 (46,77] (61,82] (59.6,80] (60.2,70] (44,81]\n",
       "2 (46,77] (61,82] (59.6,80] (60.2,70] (44,81]\n",
       "3 (46,77] (61,82] (59.6,80] (60.2,70] (44,81]\n",
       "4 (46,77] (61,82] (59.6,80] (60.2,70] (44,81]\n",
       "5 (46,77] (61,82] (59.6,80] (60.2,70] (44,81]\n",
       "6 (46,77] (40,61] (59.6,80] (60.2,70] (44,81]\n"
      ]
     },
     "metadata": {},
     "output_type": "display_data"
    }
   ],
   "source": [
    "%%R\n",
    "head(dmarks2)"
   ]
  },
  {
   "cell_type": "code",
   "execution_count": 132,
   "metadata": {},
   "outputs": [
    {
     "data": {
      "text/plain": [
       "     MECH    VECT       ALG       ANL    STAT  LAT\n",
       "1 (46,77] (61,82] (59.6,80] (60.2,70] (44,81] <NA>\n",
       "2 (46,77] (61,82] (59.6,80] (60.2,70] (44,81] <NA>\n",
       "3 (46,77] (61,82] (59.6,80] (60.2,70] (44,81] <NA>\n",
       "4 (46,77] (61,82] (59.6,80] (60.2,70] (44,81] <NA>\n",
       "5 (46,77] (61,82] (59.6,80] (60.2,70] (44,81] <NA>\n",
       "6 (46,77] (40,61] (59.6,80] (60.2,70] (44,81] <NA>\n"
      ]
     },
     "metadata": {},
     "output_type": "display_data"
    }
   ],
   "source": [
    "%%R\n",
    "ldmarks = data.frame(dmarks2, LAT = factor(rep(NA, nrow(dmarks2)), levels = c(\"A\", \"B\")))\n",
    "head(ldmarks)"
   ]
  },
  {
   "cell_type": "code",
   "execution_count": 133,
   "metadata": {},
   "outputs": [
    {
     "data": {
      "text/plain": [
       "     MECH    VECT       ALG       ANL    STAT LAT\n",
       "1 (46,77] (61,82] (59.6,80] (60.2,70] (44,81]   B\n",
       "2 (46,77] (61,82] (59.6,80] (60.2,70] (44,81]   A\n",
       "3 (46,77] (61,82] (59.6,80] (60.2,70] (44,81]   A\n",
       "4 (46,77] (61,82] (59.6,80] (60.2,70] (44,81]   B\n",
       "5 (46,77] (61,82] (59.6,80] (60.2,70] (44,81]   A\n",
       "6 (46,77] (40,61] (59.6,80] (60.2,70] (44,81]   B\n"
      ]
     },
     "metadata": {},
     "output_type": "display_data"
    }
   ],
   "source": [
    "%%R\n",
    "imputed = ldmarks\n",
    "imputed$LAT = sample(factor(c(\"A\", \"B\")), nrow(dmarks2), replace = TRUE)\n",
    "head(imputed)"
   ]
  },
  {
   "cell_type": "code",
   "execution_count": 134,
   "metadata": {},
   "outputs": [
    {
     "data": {
      "text/plain": [
       "     MECH    VECT       ALG       ANL    STAT  LAT\n",
       "1 (46,77] (61,82] (59.6,80] (60.2,70] (44,81] <NA>\n",
       "2 (46,77] (61,82] (59.6,80] (60.2,70] (44,81] <NA>\n",
       "3 (46,77] (61,82] (59.6,80] (60.2,70] (44,81] <NA>\n",
       "4 (46,77] (61,82] (59.6,80] (60.2,70] (44,81] <NA>\n",
       "5 (46,77] (61,82] (59.6,80] (60.2,70] (44,81] <NA>\n",
       "6 (46,77] (40,61] (59.6,80] (60.2,70] (44,81] <NA>\n"
      ]
     },
     "metadata": {},
     "output_type": "display_data"
    }
   ],
   "source": [
    "%%R\n",
    "head(ldmarks)"
   ]
  },
  {
   "cell_type": "code",
   "execution_count": 135,
   "metadata": {
    "scrolled": true
   },
   "outputs": [
    {
     "data": {
      "text/plain": [
       "[1] \"i: \" \"6\"  \n",
       "[1] -472.6769\n",
       "[1] \"[LAT][MECH|LAT][VECT|LAT][ALG|LAT][ANL|ALG:LAT][STAT|ALG:LAT]\"\n"
      ]
     },
     "metadata": {},
     "output_type": "display_data"
    }
   ],
   "source": [
    "%%R -o fitted\n",
    "fitted = bn.fit(empty.graph(names(ldmarks)), imputed)\n",
    "fitted$LAT = array(c(0.5, 0.5), dim = 2, dimnames = list(c(\"A\", \"B\")))\n",
    "# three iterations of structural EM.\n",
    "for (i in 1:15) {\n",
    "    # expectation step.\n",
    "    imputed = impute(fitted, ldmarks, method = \"bayes-lw\")\n",
    "    # maximisation step (forcing LAT to be connected to the other nodes).\n",
    "    dag = hc(imputed, whitelist = data.frame(from = \"LAT\", to = names(dmarks2)))\n",
    "    fitted.new = bn.fit(dag, imputed, method = \"bayes\")\n",
    "\n",
    "\n",
    "    if (isTRUE(all.equal(fitted, fitted.new))) {\n",
    "      print(c(\"i: \", i))\n",
    "      break\n",
    "    } else {\n",
    "      fitted = fitted.new\n",
    "    }\n",
    "}#FOR\n",
    "print(score(dag,data=imputed,type=\"bic\"))\n",
    "modelstring(fitted)"
   ]
  },
  {
   "cell_type": "code",
   "execution_count": 136,
   "metadata": {},
   "outputs": [
    {
     "data": {
      "text/plain": [
       "\n",
       " A  B \n",
       "62 26 \n"
      ]
     },
     "metadata": {},
     "output_type": "display_data"
    }
   ],
   "source": [
    "%%R\n",
    "table(imputed$LAT)"
   ]
  },
  {
   "cell_type": "code",
   "execution_count": 137,
   "metadata": {},
   "outputs": [
    {
     "data": {
      "text/plain": [
       "latent\n",
       " A  B \n",
       "51 37 \n"
      ]
     },
     "metadata": {},
     "output_type": "display_data"
    }
   ],
   "source": [
    "%%R\n",
    "latent = factor(c(rep(\"A\", 44), \"B\", rep(\"A\", 7), rep(\"B\", 36)))\n",
    "print(table(latent))\n",
    "# head(data.frame(dmarks2, LAT=latent))"
   ]
  },
  {
   "cell_type": "code",
   "execution_count": 138,
   "metadata": {},
   "outputs": [
    {
     "data": {
      "text/plain": [
       "[[1]]\n",
       " [1] A A A A A A A A A A A A A A A A A A A A A A A A A A A A A A A A A A A A A A\n",
       "[39] A A A A A A B A A A A A A A B B B B B B B B B B B B B B B B B B B B B B B B\n",
       "[77] B B B B B B B B B B B B\n",
       "Levels: A B\n",
       "\n",
       "[[2]]\n",
       " [1] B B B B B B B B A B B A A B A B A A A B A A B A A B A A A A A B A A A B B B\n",
       "[39] B A B B A A A B B A B A B A A A A A A A A A A A A A A A A A A A A A A A A A\n",
       "[77] A A A A A A A A A A A A\n",
       "Levels: A B\n",
       "\n"
      ]
     },
     "metadata": {},
     "output_type": "display_data"
    }
   ],
   "source": [
    "%%R\n",
    "list(latent, imputed$LAT)"
   ]
  },
  {
   "cell_type": "code",
   "execution_count": 139,
   "metadata": {},
   "outputs": [
    {
     "data": {
      "image/svg+xml": [
       "<?xml version=\"1.0\" encoding=\"UTF-8\" standalone=\"no\"?>\n",
       "<!DOCTYPE svg PUBLIC \"-//W3C//DTD SVG 1.1//EN\"\n",
       " \"http://www.w3.org/Graphics/SVG/1.1/DTD/svg11.dtd\">\n",
       "<!-- Generated by graphviz version 2.36.0 (20140111.2315)\n",
       " -->\n",
       "<!-- Title: %3 Pages: 1 -->\n",
       "<svg width=\"270pt\" height=\"181pt\"\n",
       " viewBox=\"0.00 0.00 270.00 181.00\" xmlns=\"http://www.w3.org/2000/svg\" xmlns:xlink=\"http://www.w3.org/1999/xlink\">\n",
       "<g id=\"graph0\" class=\"graph\" transform=\"scale(1 1) rotate(0) translate(4 177)\">\n",
       "<title>%3</title>\n",
       "<polygon fill=\"white\" stroke=\"none\" points=\"-4,4 -4,-177 266,-177 266,4 -4,4\"/>\n",
       "<!-- MECH -->\n",
       "<g id=\"node1\" class=\"node\"><title>MECH</title>\n",
       "<ellipse fill=\"none\" stroke=\"black\" cx=\"36.7928\" cy=\"-105.154\" rx=\"36.2938\" ry=\"18\"/>\n",
       "<text text-anchor=\"middle\" x=\"36.7928\" y=\"-101.454\" font-family=\"Times,serif\" font-size=\"14.00\">MECH</text>\n",
       "</g>\n",
       "<!-- VECT -->\n",
       "<g id=\"node2\" class=\"node\"><title>VECT</title>\n",
       "<ellipse fill=\"none\" stroke=\"black\" cx=\"228.445\" cy=\"-124.032\" rx=\"33.5952\" ry=\"18\"/>\n",
       "<text text-anchor=\"middle\" x=\"228.445\" y=\"-120.332\" font-family=\"Times,serif\" font-size=\"14.00\">VECT</text>\n",
       "</g>\n",
       "<!-- ALG -->\n",
       "<g id=\"node3\" class=\"node\"><title>ALG</title>\n",
       "<ellipse fill=\"none\" stroke=\"black\" cx=\"87.7281\" cy=\"-43.4875\" rx=\"28.6953\" ry=\"18\"/>\n",
       "<text text-anchor=\"middle\" x=\"87.7281\" y=\"-39.7875\" font-family=\"Times,serif\" font-size=\"14.00\">ALG</text>\n",
       "</g>\n",
       "<!-- ANL -->\n",
       "<g id=\"node4\" class=\"node\"><title>ANL</title>\n",
       "<ellipse fill=\"none\" stroke=\"black\" cx=\"109.317\" cy=\"-154.512\" rx=\"28.6953\" ry=\"18\"/>\n",
       "<text text-anchor=\"middle\" x=\"109.317\" y=\"-150.812\" font-family=\"Times,serif\" font-size=\"14.00\">ANL</text>\n",
       "</g>\n",
       "<!-- ALG&#45;&gt;ANL -->\n",
       "<g id=\"edge1\" class=\"edge\"><title>ALG&#45;&gt;ANL</title>\n",
       "<path fill=\"none\" stroke=\"black\" d=\"M91.2931,-61.8208C94.7198,-79.4432 99.9454,-106.317 103.889,-126.598\"/>\n",
       "<polygon fill=\"black\" stroke=\"black\" points=\"100.474,-127.371 105.818,-136.519 107.345,-126.035 100.474,-127.371\"/>\n",
       "</g>\n",
       "<!-- STAT -->\n",
       "<g id=\"node5\" class=\"node\"><title>STAT</title>\n",
       "<ellipse fill=\"none\" stroke=\"black\" cx=\"193.496\" cy=\"-17.9521\" rx=\"32.4942\" ry=\"18\"/>\n",
       "<text text-anchor=\"middle\" x=\"193.496\" y=\"-14.2521\" font-family=\"Times,serif\" font-size=\"14.00\">STAT</text>\n",
       "</g>\n",
       "<!-- ALG&#45;&gt;STAT -->\n",
       "<g id=\"edge2\" class=\"edge\"><title>ALG&#45;&gt;STAT</title>\n",
       "<path fill=\"none\" stroke=\"black\" d=\"M114.692,-36.9777C126.475,-34.1328 140.54,-30.7372 153.504,-27.6073\"/>\n",
       "<polygon fill=\"black\" stroke=\"black\" points=\"154.701,-30.919 163.601,-25.1698 153.058,-24.1145 154.701,-30.919\"/>\n",
       "</g>\n",
       "<!-- LAT -->\n",
       "<g id=\"node6\" class=\"node\"><title>LAT</title>\n",
       "<ellipse fill=\"none\" stroke=\"black\" cx=\"152.52\" cy=\"-90.9155\" rx=\"27.8951\" ry=\"18\"/>\n",
       "<text text-anchor=\"middle\" x=\"152.52\" y=\"-87.2155\" font-family=\"Times,serif\" font-size=\"14.00\">LAT</text>\n",
       "</g>\n",
       "<!-- LAT&#45;&gt;MECH -->\n",
       "<g id=\"edge3\" class=\"edge\"><title>LAT&#45;&gt;MECH</title>\n",
       "<path fill=\"none\" stroke=\"black\" d=\"M124.8,-94.3259C112.102,-95.8883 96.7154,-97.7813 82.3825,-99.5447\"/>\n",
       "<polygon fill=\"black\" stroke=\"black\" points=\"81.6832,-96.1042 72.1855,-100.799 82.538,-103.052 81.6832,-96.1042\"/>\n",
       "</g>\n",
       "<!-- LAT&#45;&gt;VECT -->\n",
       "<g id=\"edge4\" class=\"edge\"><title>LAT&#45;&gt;VECT</title>\n",
       "<path fill=\"none\" stroke=\"black\" d=\"M175.713,-101.031C181.077,-103.371 186.907,-105.914 192.669,-108.427\"/>\n",
       "<polygon fill=\"black\" stroke=\"black\" points=\"191.644,-111.799 202.21,-112.589 194.443,-105.383 191.644,-111.799\"/>\n",
       "</g>\n",
       "<!-- LAT&#45;&gt;ALG -->\n",
       "<g id=\"edge5\" class=\"edge\"><title>LAT&#45;&gt;ALG</title>\n",
       "<path fill=\"none\" stroke=\"black\" d=\"M133.78,-77.1973C127.921,-72.909 121.333,-68.0868 115.012,-63.4596\"/>\n",
       "<polygon fill=\"black\" stroke=\"black\" points=\"116.787,-60.4216 106.651,-57.3391 112.653,-66.07 116.787,-60.4216\"/>\n",
       "</g>\n",
       "<!-- LAT&#45;&gt;ANL -->\n",
       "<g id=\"edge6\" class=\"edge\"><title>LAT&#45;&gt;ANL</title>\n",
       "<path fill=\"none\" stroke=\"black\" d=\"M141.169,-107.625C136.739,-114.145 131.561,-121.768 126.682,-128.949\"/>\n",
       "<polygon fill=\"black\" stroke=\"black\" points=\"123.466,-127.455 120.742,-137.693 129.257,-131.388 123.466,-127.455\"/>\n",
       "</g>\n",
       "<!-- LAT&#45;&gt;STAT -->\n",
       "<g id=\"edge7\" class=\"edge\"><title>LAT&#45;&gt;STAT</title>\n",
       "<path fill=\"none\" stroke=\"black\" d=\"M162.231,-73.6242C167.145,-64.874 173.216,-54.0647 178.696,-44.3056\"/>\n",
       "<polygon fill=\"black\" stroke=\"black\" points=\"181.868,-45.8051 183.713,-35.3721 175.765,-42.3774 181.868,-45.8051\"/>\n",
       "</g>\n",
       "</g>\n",
       "</svg>\n"
      ],
      "text/plain": [
       "<graphviz.dot.Digraph at 0x7fdd58c85550>"
      ]
     },
     "execution_count": 139,
     "metadata": {},
     "output_type": "execute_result"
    }
   ],
   "source": [
    "pybnl.bn.dot(*pybnl.bn.rnet2dag(pybnl.bn.rfit2rnet(fitted)))#,engine='dot'"
   ]
  },
  {
   "cell_type": "code",
   "execution_count": 163,
   "metadata": {},
   "outputs": [
    {
     "data": {
      "text/plain": [
       "[1] \"i: \" \"5\"  \n",
       "[1] -442.0592\n",
       "[1] \"[LAT][MECH|LAT][VECT|LAT][ALG|LAT][ANL|LAT][STAT|LAT]\"\n"
      ]
     },
     "metadata": {},
     "output_type": "display_data"
    }
   ],
   "source": [
    "%%R -o fitted\n",
    "fitted = bn.fit(empty.graph(names(ldmarks)), imputed)\n",
    "fitted$LAT = array(c(0.5, 0.5), dim = 2, dimnames = list(c(\"A\", \"B\")))\n",
    "# three iterations of structural EM.\n",
    "for (i in 1:15) {\n",
    "    # expectation step.\n",
    "    imputed = impute(fitted, ldmarks, method = \"bayes-lw\")\n",
    "    # maximisation step (forcing LAT to be connected to the other nodes).\n",
    "    # dag = hc(imputed, whitelist = data.frame(from = \"LAT\", to = names(dmarks2)))\n",
    "    dag = mmhc(imputed, whitelist = data.frame(from = \"LAT\", to = names(dmarks2)))\n",
    "    fitted.new = bn.fit(dag, imputed, method = \"bayes\")\n",
    "\n",
    "\n",
    "    if (isTRUE(all.equal(fitted, fitted.new))) {\n",
    "      print(c(\"i: \", i))\n",
    "      break\n",
    "    } else {\n",
    "      fitted = fitted.new\n",
    "    }\n",
    "}#FOR\n",
    "print(score(dag,data=imputed,type=\"bic\"))\n",
    "modelstring(fitted)"
   ]
  },
  {
   "cell_type": "code",
   "execution_count": 164,
   "metadata": {},
   "outputs": [
    {
     "data": {
      "text/plain": [
       "\n",
       " A  B \n",
       "67 21 \n"
      ]
     },
     "metadata": {},
     "output_type": "display_data"
    }
   ],
   "source": [
    "%%R\n",
    "table(imputed$LAT)"
   ]
  },
  {
   "cell_type": "code",
   "execution_count": 165,
   "metadata": {},
   "outputs": [
    {
     "data": {
      "text/plain": [
       "latent\n",
       " A  B \n",
       "51 37 \n"
      ]
     },
     "metadata": {},
     "output_type": "display_data"
    }
   ],
   "source": [
    "%%R\n",
    "print(table(latent))"
   ]
  },
  {
   "cell_type": "code",
   "execution_count": 166,
   "metadata": {},
   "outputs": [
    {
     "data": {
      "text/plain": [
       "[[1]]\n",
       " [1] A A A A A A A A A A A A A A A A A A A A A A A A A A A A A A A A A A A A A A\n",
       "[39] A A A A A A B A A A A A A A B B B B B B B B B B B B B B B B B B B B B B B B\n",
       "[77] B B B B B B B B B B B B\n",
       "Levels: A B\n",
       "\n",
       "[[2]]\n",
       " [1] B B B B B B B B B B B B B A B A A B B B B B B B A A A A A A A A A A A A A A\n",
       "[39] A A A A A A A A A A A A A A A A A A A A A A A A A A A A A A A A A A A A A A\n",
       "[77] A A A A A A A A A A A A\n",
       "Levels: A B\n",
       "\n"
      ]
     },
     "metadata": {},
     "output_type": "display_data"
    }
   ],
   "source": [
    "%%R\n",
    "list(latent, imputed$LAT)"
   ]
  },
  {
   "cell_type": "code",
   "execution_count": 169,
   "metadata": {},
   "outputs": [
    {
     "data": {
      "image/svg+xml": [
       "<?xml version=\"1.0\" encoding=\"UTF-8\" standalone=\"no\"?>\n",
       "<!DOCTYPE svg PUBLIC \"-//W3C//DTD SVG 1.1//EN\"\n",
       " \"http://www.w3.org/Graphics/SVG/1.1/DTD/svg11.dtd\">\n",
       "<!-- Generated by graphviz version 2.36.0 (20140111.2315)\n",
       " -->\n",
       "<!-- Title: %3 Pages: 1 -->\n",
       "<svg width=\"234pt\" height=\"195pt\"\n",
       " viewBox=\"0.00 0.00 234.00 195.00\" xmlns=\"http://www.w3.org/2000/svg\" xmlns:xlink=\"http://www.w3.org/1999/xlink\">\n",
       "<g id=\"graph0\" class=\"graph\" transform=\"scale(1 1) rotate(0) translate(4 191)\">\n",
       "<title>%3</title>\n",
       "<polygon fill=\"white\" stroke=\"none\" points=\"-4,4 -4,-191 230,-191 230,4 -4,4\"/>\n",
       "<!-- MECH -->\n",
       "<g id=\"node1\" class=\"node\"><title>MECH</title>\n",
       "<ellipse fill=\"none\" stroke=\"black\" cx=\"36.6993\" cy=\"-93.7577\" rx=\"36.2938\" ry=\"18\"/>\n",
       "<text text-anchor=\"middle\" x=\"36.6993\" y=\"-90.0577\" font-family=\"Times,serif\" font-size=\"14.00\">MECH</text>\n",
       "</g>\n",
       "<!-- VECT -->\n",
       "<g id=\"node2\" class=\"node\"><title>VECT</title>\n",
       "<ellipse fill=\"none\" stroke=\"black\" cx=\"192.109\" cy=\"-121.966\" rx=\"33.5952\" ry=\"18\"/>\n",
       "<text text-anchor=\"middle\" x=\"192.109\" y=\"-118.266\" font-family=\"Times,serif\" font-size=\"14.00\">VECT</text>\n",
       "</g>\n",
       "<!-- ALG -->\n",
       "<g id=\"node3\" class=\"node\"><title>ALG</title>\n",
       "<ellipse fill=\"none\" stroke=\"black\" cx=\"75.9731\" cy=\"-17.5806\" rx=\"28.6953\" ry=\"18\"/>\n",
       "<text text-anchor=\"middle\" x=\"75.9731\" y=\"-13.8806\" font-family=\"Times,serif\" font-size=\"14.00\">ALG</text>\n",
       "</g>\n",
       "<!-- ANL -->\n",
       "<g id=\"node4\" class=\"node\"><title>ANL</title>\n",
       "<ellipse fill=\"none\" stroke=\"black\" cx=\"98.9463\" cy=\"-169.499\" rx=\"28.6953\" ry=\"18\"/>\n",
       "<text text-anchor=\"middle\" x=\"98.9463\" y=\"-165.799\" font-family=\"Times,serif\" font-size=\"14.00\">ANL</text>\n",
       "</g>\n",
       "<!-- STAT -->\n",
       "<g id=\"node5\" class=\"node\"><title>STAT</title>\n",
       "<ellipse fill=\"none\" stroke=\"black\" cx=\"176.954\" cy=\"-28.3615\" rx=\"32.4942\" ry=\"18\"/>\n",
       "<text text-anchor=\"middle\" x=\"176.954\" y=\"-24.6615\" font-family=\"Times,serif\" font-size=\"14.00\">STAT</text>\n",
       "</g>\n",
       "<!-- LAT -->\n",
       "<g id=\"node6\" class=\"node\"><title>LAT</title>\n",
       "<ellipse fill=\"none\" stroke=\"black\" cx=\"116.316\" cy=\"-76.7631\" rx=\"27.8951\" ry=\"18\"/>\n",
       "<text text-anchor=\"middle\" x=\"116.316\" y=\"-73.0631\" font-family=\"Times,serif\" font-size=\"14.00\">LAT</text>\n",
       "</g>\n",
       "<!-- LAT&#45;&gt;MECH -->\n",
       "<g id=\"edge2\" class=\"edge\"><title>LAT&#45;&gt;MECH</title>\n",
       "<path fill=\"none\" stroke=\"black\" d=\"M89.3614,-82.5167C83.2262,-83.8263 76.6346,-85.2333 70.2621,-86.5935\"/>\n",
       "</g>\n",
       "<!-- LAT&#45;&gt;VECT -->\n",
       "<g id=\"edge4\" class=\"edge\"><title>LAT&#45;&gt;VECT</title>\n",
       "<path fill=\"none\" stroke=\"black\" d=\"M137.027,-89.1149C147.108,-95.1272 159.247,-102.367 169.561,-108.518\"/>\n",
       "</g>\n",
       "<!-- LAT&#45;&gt;ALG -->\n",
       "<g id=\"edge5\" class=\"edge\"><title>LAT&#45;&gt;ALG</title>\n",
       "<path fill=\"none\" stroke=\"black\" d=\"M105.078,-60.2775C99.576,-52.2057 92.9624,-42.5036 87.4309,-34.389\"/>\n",
       "</g>\n",
       "<!-- LAT&#45;&gt;ANL -->\n",
       "<g id=\"edge1\" class=\"edge\"><title>LAT&#45;&gt;ANL</title>\n",
       "<path fill=\"none\" stroke=\"black\" d=\"M112.967,-94.6435C109.911,-110.96 105.416,-134.959 102.344,-151.357\"/>\n",
       "</g>\n",
       "<!-- LAT&#45;&gt;STAT -->\n",
       "<g id=\"edge3\" class=\"edge\"><title>LAT&#45;&gt;STAT</title>\n",
       "<path fill=\"none\" stroke=\"black\" d=\"M134.182,-62.5028C141.728,-56.4796 150.519,-49.462 158.163,-43.3611\"/>\n",
       "</g>\n",
       "</g>\n",
       "</svg>\n"
      ],
      "text/plain": [
       "<graphviz.dot.Digraph at 0x7fdd58bf1e48>"
      ]
     },
     "execution_count": 169,
     "metadata": {},
     "output_type": "execute_result"
    }
   ],
   "source": [
    "pybnl.bn.dot(*pybnl.bn.rnet2cpdag(pybnl.bn.rfit2rnet(fitted)))#,engine='dot'"
   ]
  },
  {
   "cell_type": "code",
   "execution_count": 145,
   "metadata": {},
   "outputs": [],
   "source": [
    "# %%R\n",
    "# # structural expectation-maximization.\n",
    "# structural.em.2 = function(x, maximize = \"hc\", maximize.args = list(), fit = \"mle\", fit.args = list(), impute, impute.args = list(), return.all = FALSE, start = NULL, max.iter = 5, debug = FALSE) {\n",
    "\n",
    "#   ntests = 0\n",
    "#   print(\"###\")\n",
    "\n",
    "#   # check the data are there.\n",
    "#   # data.info =  bnlearn:::check.data(x, allow.levels = TRUE, allow.missing = TRUE, warn.if.no.missing = TRUE, stop.if.all.missing = !is(start, \"bn.fit\"))\n",
    "#   data.info =  bnlearn:::check.data(x, allow.levels = TRUE, allow.missing = TRUE, warn.if.no.missing = TRUE)\n",
    "#   print(data.info)#$complete.nodes\n",
    "#   print(\"###\")\n",
    "\n",
    "#   # check the max.iter parameter.\n",
    "#   max.iter = bnlearn:::check.max.iter(max.iter)\n",
    "#   print(\"###\")\n",
    "#   # check debug and return.data.\n",
    "#   bnlearn:::check.logical(debug)\n",
    "#   bnlearn:::check.logical(return.all)\n",
    "#   print(\"###\")\n",
    "\n",
    "#   # check the arguments used for structure learning as in rsmax2().\n",
    "#   bnlearn:::check.learning.algorithm(algorithm = maximize, class = \"score\")\n",
    "\n",
    "#   print(\"###\")\n",
    "    \n",
    "#   critical.arguments = c(\"x\", \"heuristic\", \"start\", \"debug\")\n",
    "#   bnlearn:::check.unused.args(intersect(critical.arguments, names(maximize.args)), character(0))\n",
    "#   maximize.args[critical.arguments] = list(x = NULL, heuristic = maximize, start = NULL, debug = debug)\n",
    "\n",
    "#   print(\"###\")\n",
    "    \n",
    "#   # check the arguments used for parameter learning as in bn.cv().\n",
    "#   bnlearn:::check.fitting.method(method = fit, data = x)\n",
    "#   fit.args = bnlearn:::check.fitting.args(method = fit, network = NULL, data = x,  extra.args = fit.args)\n",
    "\n",
    "#   print(\"###\")\n",
    "    \n",
    "#   # check the arguments used for imputations.\n",
    "#   impute = bnlearn:::check.imputation.method(impute, x)\n",
    "#   impute.args = bnlearn:::check.imputation.extra.args(impute, impute.args)\n",
    "\n",
    "#   # if there is no preseeded network, use an empty one.\n",
    "#   print(\"###\")\n",
    "#   if (is.null(start)) {\n",
    "#     print(\"is.null(start)\")\n",
    "\n",
    "#     dag = empty.graph(nodes = names(x))\n",
    "#     fitted = bnlearn:::bn.fit.backend(dag, data = x, method = fit, extra.args = fit.args) # , data.info = data.info\n",
    "\n",
    "#   }#THEN\n",
    "#   else {\n",
    "#     print(\"is.null(start): else\")\n",
    "\n",
    "#     print(\"---\")\n",
    "#     # check start's class.\n",
    "#     bnlearn:::check.bn.or.fit(start)\n",
    "#     print(\"---\")\n",
    "#     # check the preseeded network against the data set.\n",
    "#     if (is(start, \"bn\")) {\n",
    "\n",
    "#       print(\"--- is(start, bn)\")\n",
    "#       bnlearn:::check.bn.vs.data(start, x)\n",
    "#       # check the preseeded network is valid for the model assumptions.\n",
    "#       bnlearn:::check.arcs.against.assumptions(start$arcs, x, maximize.args$score)\n",
    "\n",
    "#       dag = start\n",
    "#       fitted = bnlearn:::bn.fit.backend(start, data = x, method = fit, extra.args = fit.args) # , data.info = data.info\n",
    "\n",
    "#     }#THEN\n",
    "#     else if (is(start, \"bn.fit\")) {\n",
    "#       print(\"--- is(start, bn.fit)\")\n",
    "\n",
    "#       bnlearn:::check.fit.vs.data(start, x)\n",
    "#       # fitted networks are necessarily valid for the model assumptions.\n",
    "\n",
    "#       dag = bn.net(start)\n",
    "#       fitted = start\n",
    "\n",
    "#     }#THEN\n",
    "\n",
    "#   }#ELSE\n",
    "\n",
    "#   print(\"###.\")\n",
    "#   # initialize the algorithm.\n",
    "#   if (debug) {\n",
    "\n",
    "#     cat(\"* initializing the network to perform the first imputation.\\n\")\n",
    "#     cat(\"* network structure:\\n\")\n",
    "#     print(dag)\n",
    "#     cat(\"* fitted parameters:\\n\")\n",
    "#     print(fitted)\n",
    "\n",
    "#   }#THEN\n",
    "\n",
    "#   # from this point on the data are complete.\n",
    "#   print(c(\"names(x) \", names(x)))\n",
    "#   print(data.info)#$complete.nodes\n",
    "#   print(\"###..\")\n",
    "#   #data.info$complete.nodes[names(x)] = TRUE\n",
    "\n",
    "#   print(\"###...\")\n",
    "#   for (i in seq(max.iter)) {\n",
    "\n",
    "#     if (debug) {\n",
    "\n",
    "#       cat(\"----------------------------------------------------------------\\n\")\n",
    "#       cat(\"* iteration\", i, \", expectation step .\\n\")\n",
    "\n",
    "#     }#THEN\n",
    "\n",
    "#     # expectation step.\n",
    "#     complete = bnlearn:::impute.backend(fitted = fitted, data = x, method = impute, extra.args = impute.args, debug = debug)\n",
    "\n",
    "#     if (debug) {\n",
    "\n",
    "#       cat(\"----------------------------------------------------------------\\n\")\n",
    "#       cat(\"* iteration\", i, \", maximization step .\\n\")\n",
    "\n",
    "#     }#THEN\n",
    "\n",
    "#     # maximization step, structure learning (starting from the previous network).\n",
    "#     maximize.args$x = complete\n",
    "#     maximize.args$start = dag\n",
    "#     greedy.search.fn = get(\"greedy.search\", asNamespace(\"bnlearn\"))\n",
    "#     dag = do.call(greedy.search.fn, maximize.args, quote=TRUE)\n",
    "\n",
    "#     # maximization step, parameter learning.\n",
    "#     fitted.new = bnlearn:::bn.fit.backend(dag, data = complete, method = fit, extra.args = fit.args) # , data.info = data.info\n",
    "\n",
    "#     if (debug) {\n",
    "\n",
    "#       cat(\"----------------------------------------------------------------\\n\")\n",
    "#       cat(\"* fitted parameters:\\n\")\n",
    "#       print(fitted)\n",
    "\n",
    "#     }#THEN\n",
    "\n",
    "#     # update the number of model comparisons.\n",
    "#     ntests = ntests + dag$learning$ntests\n",
    "\n",
    "#     # a rudimentary stopping rule (the fitted network must be the same as in\n",
    "#     # the previous iteration).\n",
    "#     if (isTRUE(all.equal(fitted, fitted.new)))\n",
    "#       break\n",
    "#     else\n",
    "#       fitted = fitted.new\n",
    "\n",
    "#   }#FOR\n",
    "\n",
    "#   # set the metadata.\n",
    "#   dag$learning$algo = \"sem\"\n",
    "#   dag$learning$maximize = maximize\n",
    "#   dag$learning$impute = impute\n",
    "#   dag$learning$fit = fit\n",
    "#   dag$learning$ntests = ntests\n",
    "\n",
    "#   if (return.all)\n",
    "#     invisible(list(dag = dag, imputed = complete, fitted = fitted))\n",
    "#   else\n",
    "#     invisible(dag)\n",
    "\n",
    "# }#STRUCTURAL.EM"
   ]
  },
  {
   "cell_type": "code",
   "execution_count": 146,
   "metadata": {},
   "outputs": [],
   "source": [
    "# %%R\n",
    "# # ldmarks[1,\"LAT\"] = \"A\"\n",
    "# # ldmarks[2,\"LAT\"] = \"B\"\n",
    "# head(ldmarks)"
   ]
  },
  {
   "cell_type": "code",
   "execution_count": 147,
   "metadata": {},
   "outputs": [],
   "source": [
    "# %%R\n",
    "# imputed = ldmarks\n",
    "# imputed$LAT = sample(factor(c(\"A\", \"B\")), nrow(dmarks2), replace = TRUE)\n",
    "\n",
    "# dag = empty.graph(nodes = names(ldmarks))\n",
    "# fitted = bnlearn:::bn.fit.backend(dag, imputed)\n",
    "# fitted$LAT = array(c(0.5, 0.5), dim = 2, dimnames = list(c(\"A\", \"B\")))\n",
    "# complete = impute.backend(fitted = fitted, data = x, method = impute, extra.args = impute.args, debug = debug)"
   ]
  },
  {
   "cell_type": "markdown",
   "metadata": {},
   "source": [
    "* [bayesnetRtutorial](https://github.com/jacintoArias/bayesnetRtutorial/blob/master/index.Rmd) has a parametric em\n",
    "* [bnlearn-error-in-structural-em](https://stackoverflow.com/questions/47970302/bnlearn-error-in-structural-em)"
   ]
  },
  {
   "cell_type": "code",
   "execution_count": 148,
   "metadata": {},
   "outputs": [],
   "source": [
    "# %%R\n",
    "# bnlearn:::check.data(ldmarks, allow.levels = TRUE, allow.missing = TRUE, warn.if.no.missing = TRUE, stop.if.all.missing = TRUE)#, \n",
    "# # ldmarks$LAT = as.numeric(ldmarks$LAT)"
   ]
  },
  {
   "cell_type": "code",
   "execution_count": 149,
   "metadata": {},
   "outputs": [],
   "source": [
    "# %%R\n",
    "# trace(structural.em, edit=\"emacs\")\n",
    "#trace(bnlearn:::check.data)"
   ]
  },
  {
   "cell_type": "code",
   "execution_count": 150,
   "metadata": {},
   "outputs": [],
   "source": [
    "# %%R -o bn2\n",
    "# # structural.em(x, maximize = \"hc\", maximize.args = list(), fit = \"mle\", fit.args = list(), impute, impute.args = list(), return.all = FALSE, start = NULL, max.iter = 5, debug = FALSE)\n",
    "# # imputed2 = ldmarks\n",
    "# # imputed2$LAT = sample(factor(c(\"A\", \"B\")), nrow(dmarks2), replace = TRUE)\n",
    "# # r = structural.em.2(ldmarks, fit = \"bayes\", impute=\"bayes-lw\", start=fitted, return.all = TRUE)\n",
    "# r = structural.em.2(ldmarks, fit = \"bayes\", impute=\"bayes-lw\", return.all = TRUE)\n",
    "# bn2 = r$dag\n",
    "# print(modelstring(r$dag))"
   ]
  },
  {
   "cell_type": "code",
   "execution_count": 151,
   "metadata": {
    "scrolled": true
   },
   "outputs": [],
   "source": [
    "# %%R\n",
    "# table(r$imputed$LAT)"
   ]
  },
  {
   "cell_type": "code",
   "execution_count": 152,
   "metadata": {},
   "outputs": [],
   "source": [
    "# pybnl.bn.dot(*pybnl.bn.rnet2dag(bn2))#,engine='dot'"
   ]
  },
  {
   "cell_type": "code",
   "execution_count": 153,
   "metadata": {},
   "outputs": [],
   "source": [
    "# %%R\n",
    "# latent = factor(c(rep(\"A\", 44), \"B\", rep(\"A\", 7), rep(\"B\", 36)))\n",
    "# print(table(latent))\n",
    "# head(data.frame(dmarks2, LAT=latent))"
   ]
  },
  {
   "cell_type": "code",
   "execution_count": 154,
   "metadata": {},
   "outputs": [],
   "source": [
    "# %%R\n",
    "# list(latent, r$imputed$LAT, imputed$LAT)"
   ]
  }
 ],
 "metadata": {
  "kernelspec": {
   "display_name": "Python 3",
   "language": "python",
   "name": "python3"
  },
  "language_info": {
   "codemirror_mode": {
    "name": "ipython",
    "version": 3
   },
   "file_extension": ".py",
   "mimetype": "text/x-python",
   "name": "python",
   "nbconvert_exporter": "python",
   "pygments_lexer": "ipython3",
   "version": "3.6.4"
  }
 },
 "nbformat": 4,
 "nbformat_minor": 2
}
