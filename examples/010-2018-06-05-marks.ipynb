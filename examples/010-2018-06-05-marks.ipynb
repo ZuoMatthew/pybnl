{
 "cells": [
  {
   "cell_type": "code",
   "execution_count": null,
   "metadata": {},
   "outputs": [],
   "source": [
    "%load_ext watermark\n",
    "%watermark -a 'Christian Schuhegger' -u -d -v -p numpy,xarray,scipy,pandas,matplotlib,seaborn,qgrid,rpy2,libpgm,pgmpy,networkx,graphviz,pybnl,pytest"
   ]
  },
  {
   "cell_type": "code",
   "execution_count": null,
   "metadata": {},
   "outputs": [],
   "source": [
    "%matplotlib inline\n",
    "import numpy as np, pandas as pd, xarray as xr, matplotlib.pyplot as plt, seaborn as sns\n",
    "import networkx as nx, graphviz, networkx.algorithms.dag\n",
    "\n",
    "pd.set_option('display.max_columns', 500)\n",
    "pd.set_option('display.width', 1000)\n",
    "# pd.set_option('display.float_format', lambda x: '%.2f' % x)\n",
    "np.set_printoptions(edgeitems=10)\n",
    "np.set_printoptions(suppress=True)\n",
    "np.core.arrayprint._line_width = 180\n",
    "\n",
    "sns.set()"
   ]
  },
  {
   "cell_type": "code",
   "execution_count": null,
   "metadata": {},
   "outputs": [],
   "source": [
    "from IPython.display import display, HTML\n",
    "\n",
    "from IPython.display import display_html\n",
    "def display_side_by_side(*args):\n",
    "    html_str=''\n",
    "    for df in args:\n",
    "        if type(df) == np.ndarray:\n",
    "            df = pd.DataFrame(df)\n",
    "        html_str+=df.to_html()\n",
    "    html_str = html_str.replace('table','table style=\"display:inline\"')\n",
    "    # print(html_str)\n",
    "    display_html(html_str,raw=True)\n",
    "\n",
    "CSS = \"\"\"\n",
    ".output {\n",
    "    flex-direction: row;\n",
    "}\n",
    "\"\"\"\n",
    "\n",
    "display(HTML(\"<style>.container { width:70% !important; }</style>\"))"
   ]
  },
  {
   "cell_type": "code",
   "execution_count": null,
   "metadata": {},
   "outputs": [],
   "source": [
    "%load_ext rpy2.ipython"
   ]
  },
  {
   "cell_type": "code",
   "execution_count": null,
   "metadata": {},
   "outputs": [],
   "source": [
    "%load_ext autoreload\n",
    "%autoreload 1\n",
    "%aimport pybnl.bn"
   ]
  },
  {
   "cell_type": "code",
   "execution_count": null,
   "metadata": {},
   "outputs": [],
   "source": [
    "import locale\n",
    "locale.setlocale(locale.LC_ALL, 'C')\n",
    "\n",
    "import rpy2, rpy2.rinterface, rpy2.robjects, rpy2.robjects.packages, rpy2.robjects.lib, rpy2.robjects.lib.grid, \\\n",
    "    rpy2.robjects.lib.ggplot2, rpy2.robjects.pandas2ri, rpy2.interactive.process_revents, \\\n",
    "    rpy2.interactive, rpy2.robjects.lib.grdevices\n",
    "# rpy2.interactive.process_revents.start()\n",
    "rpy2.robjects.pandas2ri.activate()"
   ]
  },
  {
   "cell_type": "code",
   "execution_count": null,
   "metadata": {},
   "outputs": [],
   "source": [
    "%%R -o marks\n",
    "library(bnlearn)\n",
    "data(marks)"
   ]
  },
  {
   "cell_type": "code",
   "execution_count": null,
   "metadata": {},
   "outputs": [],
   "source": [
    "marks.head()"
   ]
  },
  {
   "cell_type": "markdown",
   "metadata": {},
   "source": [
    "* [networkx](https://github.com/networkx/networkx)\n",
    "* [tutorial](https://networkx.github.io/documentation/stable/tutorial.html)\n",
    "* [graphviz](https://github.com/xflr6/graphviz)\n",
    "* [graphviz.readthedocs](https://graphviz.readthedocs.io/en/stable/)\n",
    "* [examples/notebook.ipynb](https://github.com/xflr6/graphviz/blob/master/examples/notebook.ipynb)"
   ]
  },
  {
   "cell_type": "code",
   "execution_count": null,
   "metadata": {},
   "outputs": [],
   "source": [
    "dg = nx.DiGraph()\n",
    "# G.add_node(1)\n",
    "dg.add_nodes_from(list(marks.columns))\n",
    "dg.add_edges_from([\n",
    "    ['STAT', 'ANL'],\n",
    "    ['STAT', 'ALG'],\n",
    "    ['ANL', 'ALG'],\n",
    "    ['ALG', 'MECH'],\n",
    "    ['ALG', 'VECT'],\n",
    "    ['VECT', 'MECH'],\n",
    "])"
   ]
  },
  {
   "cell_type": "code",
   "execution_count": null,
   "metadata": {},
   "outputs": [],
   "source": [
    "list(nx.connected_components(dg.to_undirected()))"
   ]
  },
  {
   "cell_type": "code",
   "execution_count": null,
   "metadata": {},
   "outputs": [],
   "source": [
    "nx.draw(dg, with_labels=True)"
   ]
  },
  {
   "cell_type": "code",
   "execution_count": null,
   "metadata": {},
   "outputs": [],
   "source": [
    "dg_dot = graphviz.Digraph(comment='disease-network')\n",
    "for node in dg.nodes():\n",
    "    dg_dot.node(node)\n",
    "\n",
    "for edge in dg.edges():\n",
    "    dg_dot.edge(edge[0],edge[1])\n",
    "\n",
    "dg_dot"
   ]
  },
  {
   "cell_type": "code",
   "execution_count": null,
   "metadata": {},
   "outputs": [],
   "source": [
    "list(networkx.algorithms.dag.topological_sort(dg))"
   ]
  },
  {
   "cell_type": "code",
   "execution_count": null,
   "metadata": {},
   "outputs": [],
   "source": [
    "list(dg.nodes()),list(dg.edges())"
   ]
  },
  {
   "cell_type": "code",
   "execution_count": null,
   "metadata": {},
   "outputs": [],
   "source": [
    "nds = rpy2.robjects.StrVector(list(dg.nodes()))"
   ]
  },
  {
   "cell_type": "code",
   "execution_count": null,
   "metadata": {},
   "outputs": [],
   "source": [
    "connectivity_matrix = xr.DataArray(np.zeros((len(marks.columns), len(marks.columns))), \n",
    "             dims = ['from','to'], \n",
    "             coords= {'from': list(marks.columns), 'to': list(marks.columns)})\n",
    "for edge in dg.edges():\n",
    "    connectivity_matrix.loc[{'from': edge[0], 'to': edge[1]}] = 1\n",
    "np_connectivity_matrix = np.array(connectivity_matrix.values)\n",
    "np_connectivity_matrix"
   ]
  },
  {
   "cell_type": "code",
   "execution_count": null,
   "metadata": {},
   "outputs": [],
   "source": [
    "%%R -i np_connectivity_matrix -i nds\n",
    "dag = empty.graph(nds)\n",
    "amat(dag) = np_connectivity_matrix\n",
    "dag"
   ]
  },
  {
   "cell_type": "code",
   "execution_count": null,
   "metadata": {},
   "outputs": [],
   "source": [
    "%%R\n",
    "moral(dag)"
   ]
  },
  {
   "cell_type": "code",
   "execution_count": null,
   "metadata": {},
   "outputs": [],
   "source": [
    "%%R\n",
    "node.ordering(dag)"
   ]
  },
  {
   "cell_type": "code",
   "execution_count": null,
   "metadata": {},
   "outputs": [],
   "source": [
    "%%R\n",
    "nbr(dag, \"ANL\")"
   ]
  },
  {
   "cell_type": "code",
   "execution_count": null,
   "metadata": {},
   "outputs": [],
   "source": [
    "%%R\n",
    "mb(dag, \"ANL\")"
   ]
  },
  {
   "cell_type": "code",
   "execution_count": null,
   "metadata": {},
   "outputs": [],
   "source": [
    "%%R\n",
    "score(dag,data=marks,type=\"loglik-g\")"
   ]
  },
  {
   "cell_type": "code",
   "execution_count": null,
   "metadata": {},
   "outputs": [],
   "source": [
    "%%R\n",
    "vstructs(dag)"
   ]
  },
  {
   "cell_type": "code",
   "execution_count": null,
   "metadata": {},
   "outputs": [],
   "source": [
    "%%R\n",
    "vstructs(dag, moral=TRUE)"
   ]
  },
  {
   "cell_type": "code",
   "execution_count": null,
   "metadata": {},
   "outputs": [],
   "source": [
    "%%R\n",
    "cpdag(dag)"
   ]
  },
  {
   "cell_type": "markdown",
   "metadata": {},
   "source": [
    "[Principled Computational Methods for the Validation and Discovery of Genetic Regulatory Networks](http://citeseerx.ist.psu.edu/viewdoc/summary?doi=10.1.1.4.6170) by Alexander John Hartemink, 2001"
   ]
  },
  {
   "cell_type": "code",
   "execution_count": null,
   "metadata": {},
   "outputs": [],
   "source": [
    "%%R -o dmarks1 -o dmarks2\n",
    "dmarks1 = discretize(marks, breaks=3, method=\"interval\")\n",
    "dmarks2 = discretize(marks, breaks=3, method=\"hartemink\", ibreaks=5, idisc=\"quantile\")"
   ]
  },
  {
   "cell_type": "code",
   "execution_count": null,
   "metadata": {},
   "outputs": [],
   "source": [
    "%%R\n",
    "levels(dmarks1$MECH)"
   ]
  },
  {
   "cell_type": "code",
   "execution_count": null,
   "metadata": {},
   "outputs": [],
   "source": [
    "%%R\n",
    "levels(dmarks2$MECH)"
   ]
  },
  {
   "cell_type": "code",
   "execution_count": null,
   "metadata": {},
   "outputs": [],
   "source": [
    "display_side_by_side(dmarks1.head(), dmarks2.head())"
   ]
  },
  {
   "cell_type": "code",
   "execution_count": null,
   "metadata": {},
   "outputs": [],
   "source": [
    "fig=plt.figure(figsize=(15, 8), dpi= 80, facecolor='w', edgecolor='k')\n",
    "ax  = plt.subplot(1,1,1)\n",
    "dmarks1['MECH'].groupby(dmarks1['MECH']).agg(['count']).plot.bar(ax=ax);"
   ]
  },
  {
   "cell_type": "code",
   "execution_count": null,
   "metadata": {},
   "outputs": [],
   "source": [
    "import dsbasics.bin"
   ]
  },
  {
   "cell_type": "code",
   "execution_count": null,
   "metadata": {},
   "outputs": [],
   "source": [
    "x = marks['MECH'].values\n",
    "X = x.reshape(-1,1)\n",
    "\n",
    "bbt1 = dsbasics.bin.BayesianBlocksBinTransformer(p0=0.05)\n",
    "bbt1.fit(X)\n",
    "\n",
    "bbt2 = dsbasics.bin.DecisionTreeBinTransformer(max_leaf_nodes=3)\n",
    "bbt2.fit(X)\n",
    "\n",
    "\n",
    "fig=plt.figure(figsize=(15, 8), dpi= 80, facecolor='w', edgecolor='k')\n",
    "ax  = plt.subplot(1,1,1)\n",
    "\n",
    "ax.hist(x,bins=40, histtype='stepfilled', alpha=0.2, density=True)\n",
    "ax.hist(x, bins=bbt1.bins_[0], histtype='step', color='black', density=True)\n",
    "ax.hist(x, bins=bbt2.bins_[0], histtype='step', color='green', density=True)\n",
    "ax.set_ylabel('P(MECH)')\n",
    "# ax.set_xlim(0.0,400.0)\n",
    "ax.set_xlabel('MECH')"
   ]
  },
  {
   "cell_type": "code",
   "execution_count": null,
   "metadata": {},
   "outputs": [],
   "source": [
    "x = dmarks1['MECH']\n",
    "c = pd.Categorical(x)\n",
    "c.categories"
   ]
  },
  {
   "cell_type": "code",
   "execution_count": null,
   "metadata": {},
   "outputs": [],
   "source": [
    "%%R\n",
    "write.csv(marks, file = \"marks.csv\")\n",
    "head(marks)"
   ]
  },
  {
   "cell_type": "code",
   "execution_count": null,
   "metadata": {},
   "outputs": [],
   "source": [
    "pd_marks = pd.read_csv('marks.csv', index_col=0).astype(np.float64)\n",
    "pd_marks.head()"
   ]
  },
  {
   "cell_type": "code",
   "execution_count": null,
   "metadata": {},
   "outputs": [],
   "source": [
    "# %%R -i pd_marks\n",
    "# dmarks2_ = discretize(pd_marks, breaks=3, method=\"hartemink\", ibreaks=5, idisc=\"quantile\")\n",
    "# head(dmarks2_)"
   ]
  },
  {
   "cell_type": "code",
   "execution_count": null,
   "metadata": {},
   "outputs": [],
   "source": [
    "df = pybnl.bn.discretize(pd_marks)\n",
    "df.head()"
   ]
  },
  {
   "cell_type": "code",
   "execution_count": null,
   "metadata": {},
   "outputs": [],
   "source": [
    "df.dtypes"
   ]
  },
  {
   "cell_type": "code",
   "execution_count": null,
   "metadata": {},
   "outputs": [],
   "source": [
    "df['MECH'].cat.categories"
   ]
  },
  {
   "cell_type": "code",
   "execution_count": null,
   "metadata": {},
   "outputs": [],
   "source": [
    "df['MECH'].groupby(df['MECH']).agg(['count']).plot.bar()"
   ]
  },
  {
   "cell_type": "code",
   "execution_count": null,
   "metadata": {},
   "outputs": [],
   "source": [
    "df['MECH'].head()"
   ]
  },
  {
   "cell_type": "code",
   "execution_count": null,
   "metadata": {},
   "outputs": [],
   "source": [
    "bn = pybnl.bn.NetAndDataDiscreteBayesNetwork(dg, df)"
   ]
  },
  {
   "cell_type": "code",
   "execution_count": null,
   "metadata": {},
   "outputs": [],
   "source": [
    "bn.model_string"
   ]
  },
  {
   "cell_type": "code",
   "execution_count": null,
   "metadata": {},
   "outputs": [],
   "source": [
    "print(bn.rnet)"
   ]
  },
  {
   "cell_type": "code",
   "execution_count": null,
   "metadata": {},
   "outputs": [],
   "source": [
    "print(bn.rfit)"
   ]
  },
  {
   "cell_type": "code",
   "execution_count": null,
   "metadata": {},
   "outputs": [],
   "source": [
    "print(bn.grain)"
   ]
  },
  {
   "cell_type": "code",
   "execution_count": null,
   "metadata": {},
   "outputs": [],
   "source": [
    "df['STAT'].cat.categories[0]"
   ]
  },
  {
   "cell_type": "code",
   "execution_count": null,
   "metadata": {},
   "outputs": [],
   "source": [
    "evidence = dict(ALG=df['ALG'].cat.categories[0])\n",
    "nodes_to_query = ['STAT']\n",
    "bn.exact_query(evidence, nodes_to_query, only_python_result=True)"
   ]
  },
  {
   "cell_type": "code",
   "execution_count": null,
   "metadata": {},
   "outputs": [],
   "source": [
    "bn.write_net('marks.net')"
   ]
  },
  {
   "cell_type": "code",
   "execution_count": null,
   "metadata": {},
   "outputs": [],
   "source": [
    "# TODO\n",
    "# Convert network from R to python xarray and pandas and allow for save and load\n",
    "# Implement structure learning\n",
    "# Ask question about discretization score available in bnlearn discretize?\n",
    "# Plot discretization levels\n",
    "# Implement error checking\n",
    "#  Ensure that queries only use valid variables and values for these variables\n",
    "# Implement unit tests\n",
    "# Implement approximate queries\n",
    "# Implement model averaging, cross validation, ...\n",
    "# Implement ames house price example\n",
    "#  Arc strengths\n",
    "# Implement own problem with LLT dependencies\n",
    "# Plot graphs as equivalence structures (cpdag) and use cextend for consistent extension\n",
    "# Implement sampling from a network"
   ]
  },
  {
   "cell_type": "code",
   "execution_count": null,
   "metadata": {},
   "outputs": [],
   "source": [
    "rfit = bn.rfit"
   ]
  },
  {
   "cell_type": "code",
   "execution_count": null,
   "metadata": {},
   "outputs": [],
   "source": [
    "%%R -i rfit\n",
    "# nodes(rfit)\n",
    "# colnames, rownames, dimnames\n",
    "# dimnames(rfit$STAT$prob)[1]\n",
    "# dimnames(rfit$ANL$prob)[1]\n",
    "dimnames(rfit$ANL$prob)"
   ]
  },
  {
   "cell_type": "code",
   "execution_count": null,
   "metadata": {},
   "outputs": [],
   "source": [
    "%%R -o anl_prob\n",
    "anl_prob = rfit$ANL$prob"
   ]
  },
  {
   "cell_type": "code",
   "execution_count": null,
   "metadata": {},
   "outputs": [],
   "source": [
    "rfit.rx('ANL')"
   ]
  },
  {
   "cell_type": "code",
   "execution_count": null,
   "metadata": {},
   "outputs": [],
   "source": [
    "rpy2.robjects.pandas2ri.ri2py(anl_prob)"
   ]
  },
  {
   "cell_type": "code",
   "execution_count": null,
   "metadata": {},
   "outputs": [],
   "source": [
    "anl_prob"
   ]
  },
  {
   "cell_type": "code",
   "execution_count": null,
   "metadata": {},
   "outputs": [],
   "source": [
    "anl_prob.names.rx('ANL').names[0]"
   ]
  },
  {
   "cell_type": "code",
   "execution_count": null,
   "metadata": {
    "scrolled": true
   },
   "outputs": [],
   "source": [
    "anl_prob.names"
   ]
  },
  {
   "cell_type": "code",
   "execution_count": null,
   "metadata": {},
   "outputs": [],
   "source": [
    "anl_prob.names"
   ]
  },
  {
   "cell_type": "code",
   "execution_count": null,
   "metadata": {},
   "outputs": [],
   "source": [
    "rfit.rx('ANL')[0].rx('prob')[0].names.rx('ANL')[0]"
   ]
  },
  {
   "cell_type": "code",
   "execution_count": null,
   "metadata": {},
   "outputs": [],
   "source": [
    "rpy2.robjects.pandas2ri.ri2py(rfit.rx('ANL')[0].rx('prob')[0])"
   ]
  },
  {
   "cell_type": "code",
   "execution_count": null,
   "metadata": {},
   "outputs": [],
   "source": [
    "rfit.rx('ANL')[0].rx('prob')[0].names.rx('ANL')[0]"
   ]
  },
  {
   "cell_type": "code",
   "execution_count": null,
   "metadata": {},
   "outputs": [],
   "source": [
    "rfit.rx('ANL')[0].rx('prob')[0].names"
   ]
  },
  {
   "cell_type": "code",
   "execution_count": null,
   "metadata": {},
   "outputs": [],
   "source": [
    "rfit.rx('STAT')[0].rx('prob')[0].names[0][0]"
   ]
  },
  {
   "cell_type": "code",
   "execution_count": null,
   "metadata": {},
   "outputs": [],
   "source": [
    "ds,lpd = pybnl.bn.convert_to_xarray_dataset(bn.rfit)\n",
    "ds"
   ]
  },
  {
   "cell_type": "code",
   "execution_count": null,
   "metadata": {},
   "outputs": [],
   "source": [
    "lpd['cptALG']"
   ]
  },
  {
   "cell_type": "code",
   "execution_count": null,
   "metadata": {},
   "outputs": [],
   "source": [
    "ds['cptSTAT']"
   ]
  },
  {
   "cell_type": "code",
   "execution_count": null,
   "metadata": {},
   "outputs": [],
   "source": [
    "ds['cptANL']"
   ]
  },
  {
   "cell_type": "code",
   "execution_count": null,
   "metadata": {},
   "outputs": [],
   "source": [
    "ds['cptANL'].loc[{'STAT': '[9,29.4]'}]"
   ]
  },
  {
   "cell_type": "code",
   "execution_count": null,
   "metadata": {},
   "outputs": [],
   "source": [
    "ds['cptALG']"
   ]
  },
  {
   "cell_type": "code",
   "execution_count": null,
   "metadata": {},
   "outputs": [],
   "source": [
    "ds['cptALG'].loc[{'ANL': '(9,47]', 'STAT': '[9,29.4]'}]"
   ]
  },
  {
   "cell_type": "code",
   "execution_count": null,
   "metadata": {},
   "outputs": [],
   "source": [
    "ds['cptALG'].loc[{'ANL': '(47,60.2]', 'STAT': '(29.4,44]'}]"
   ]
  },
  {
   "cell_type": "code",
   "execution_count": null,
   "metadata": {},
   "outputs": [],
   "source": [
    "ds['cptALG'].values[:,1,1]"
   ]
  },
  {
   "cell_type": "code",
   "execution_count": null,
   "metadata": {},
   "outputs": [],
   "source": [
    "ds['cptALG'].values"
   ]
  },
  {
   "cell_type": "code",
   "execution_count": null,
   "metadata": {},
   "outputs": [],
   "source": [
    "ds['cptALG'].loc[{'ANL': '(60.2,70]', 'STAT': '[9,29.4]'}]"
   ]
  },
  {
   "cell_type": "code",
   "execution_count": null,
   "metadata": {},
   "outputs": [],
   "source": [
    "ds['cptALG'].transpose('ANL', 'STAT', 'ALG').stack(idx=['ANL', 'STAT', 'ALG']).to_pandas()#.reset_index()"
   ]
  },
  {
   "cell_type": "code",
   "execution_count": null,
   "metadata": {},
   "outputs": [],
   "source": [
    "ds.to_netcdf('marks.nc')"
   ]
  },
  {
   "cell_type": "markdown",
   "metadata": {},
   "source": [
    "* [NetCDF](https://www.unidata.ucar.edu/software/netcdf/software.html) viewers\n",
    "* use `ncdump` from the `netcdf-bin` package"
   ]
  },
  {
   "cell_type": "code",
   "execution_count": null,
   "metadata": {},
   "outputs": [],
   "source": [
    "tmp = xr.open_dataset('marks.nc', autoclose=True)\n",
    "tmp"
   ]
  },
  {
   "cell_type": "code",
   "execution_count": null,
   "metadata": {},
   "outputs": [],
   "source": [
    "tmp.equals(ds)"
   ]
  },
  {
   "cell_type": "code",
   "execution_count": null,
   "metadata": {},
   "outputs": [],
   "source": [
    "def tmpfn():\n",
    "    for ar in tmp.data_vars:\n",
    "        return ar\n",
    "tmpfn()"
   ]
  },
  {
   "cell_type": "code",
   "execution_count": null,
   "metadata": {},
   "outputs": [],
   "source": [
    "bn.write_netcdf('marks.nc')"
   ]
  },
  {
   "cell_type": "code",
   "execution_count": null,
   "metadata": {},
   "outputs": [],
   "source": [
    "bn1 = pybnl.bn.bnnet_from_netcdf_file('marks.nc')"
   ]
  },
  {
   "cell_type": "code",
   "execution_count": null,
   "metadata": {},
   "outputs": [],
   "source": [
    "bn1.to_xrds().equals(bn.to_xrds())"
   ]
  },
  {
   "cell_type": "code",
   "execution_count": null,
   "metadata": {},
   "outputs": [],
   "source": [
    "bn.to_xrds()"
   ]
  },
  {
   "cell_type": "code",
   "execution_count": null,
   "metadata": {},
   "outputs": [],
   "source": [
    "tmp = xr.open_dataset('marks.nc',autoclose=True)\n",
    "tmp.equals(bn.to_xrds())"
   ]
  },
  {
   "cell_type": "code",
   "execution_count": null,
   "metadata": {},
   "outputs": [],
   "source": [
    "tmp"
   ]
  },
  {
   "cell_type": "code",
   "execution_count": null,
   "metadata": {},
   "outputs": [],
   "source": [
    "bn1.to_xrds().equals(tmp)"
   ]
  },
  {
   "cell_type": "code",
   "execution_count": null,
   "metadata": {},
   "outputs": [],
   "source": [
    "bn1.to_dtcpm_dict()['cptALG'].sort_values(['ANL', 'STAT', 'ALG'])"
   ]
  },
  {
   "cell_type": "code",
   "execution_count": null,
   "metadata": {},
   "outputs": [],
   "source": [
    "p1 = bn1.to_dtcpm_dict()['cptALG'].sort_values(['ANL', 'STAT', 'ALG'])['p']\n",
    "p1.head()"
   ]
  },
  {
   "cell_type": "code",
   "execution_count": null,
   "metadata": {},
   "outputs": [],
   "source": [
    "bn.to_dtcpm_dict()['cptALG'].sort_values(['ANL', 'STAT', 'ALG'])"
   ]
  },
  {
   "cell_type": "code",
   "execution_count": null,
   "metadata": {},
   "outputs": [],
   "source": [
    "p = bn.to_dtcpm_dict()['cptALG'].sort_values(['ANL', 'STAT', 'ALG'])['p']\n",
    "p.head()"
   ]
  },
  {
   "cell_type": "code",
   "execution_count": null,
   "metadata": {},
   "outputs": [],
   "source": [
    "p.values == p1.values"
   ]
  },
  {
   "cell_type": "code",
   "execution_count": null,
   "metadata": {},
   "outputs": [],
   "source": [
    "bn.to_xrds()['cptALG']"
   ]
  },
  {
   "cell_type": "code",
   "execution_count": null,
   "metadata": {},
   "outputs": [],
   "source": [
    "np.all(bn1.to_xrds()['cptALG'] == bn.to_xrds()['cptALG'])"
   ]
  },
  {
   "cell_type": "code",
   "execution_count": null,
   "metadata": {},
   "outputs": [],
   "source": [
    "tmp = bn.rfit"
   ]
  },
  {
   "cell_type": "code",
   "execution_count": null,
   "metadata": {},
   "outputs": [],
   "source": [
    "%%R -i tmp\n",
    "arcs(tmp)"
   ]
  },
  {
   "cell_type": "code",
   "execution_count": null,
   "metadata": {},
   "outputs": [],
   "source": [
    "%%R\n",
    "arcs(cpdag(tmp))"
   ]
  },
  {
   "cell_type": "code",
   "execution_count": null,
   "metadata": {},
   "outputs": [],
   "source": [
    "%%R\n",
    "amat(tmp)"
   ]
  },
  {
   "cell_type": "code",
   "execution_count": null,
   "metadata": {},
   "outputs": [],
   "source": [
    "%%R\n",
    "amat(cpdag(tmp))"
   ]
  },
  {
   "cell_type": "code",
   "execution_count": null,
   "metadata": {},
   "outputs": [],
   "source": [
    "dg = nx.DiGraph()\n",
    "# G.add_node(1)\n",
    "dg.add_nodes_from(list(marks.columns))\n",
    "dg.add_edges_from([\n",
    "    ['STAT', 'ANL'],\n",
    "    ['STAT', 'ALG'],\n",
    "    ['ANL', 'ALG'],\n",
    "    ['ALG', 'MECH'],\n",
    "    ['ALG', 'VECT'],\n",
    "    ['VECT', 'MECH'],\n",
    "])\n",
    "dg"
   ]
  },
  {
   "cell_type": "code",
   "execution_count": null,
   "metadata": {},
   "outputs": [],
   "source": [
    "dg_dot = graphviz.Digraph(comment='disease-network')\n",
    "for node in dg.nodes():\n",
    "    dg_dot.node(node)\n",
    "\n",
    "for edge in dg.edges():\n",
    "    dg_dot.edge(edge[0],edge[1])\n",
    "\n",
    "print(dg_dot.source)"
   ]
  },
  {
   "cell_type": "code",
   "execution_count": null,
   "metadata": {},
   "outputs": [],
   "source": [
    "dg_dot = graphviz.Digraph(comment='disease-network')\n",
    "for node in dg.nodes():\n",
    "    dg_dot.node(node)\n",
    "\n",
    "for edge in dg.edges():\n",
    "    dg_dot.edge(edge[0],edge[1], dir='none')\n",
    "\n",
    "dg_dot"
   ]
  },
  {
   "cell_type": "code",
   "execution_count": null,
   "metadata": {},
   "outputs": [],
   "source": [
    "# rm,_,_ = pybnl.bn.cpdag(bn)\n",
    "# print(rm.dimnames[1])\n",
    "# rm.rx(1,2)\n",
    "pybnl.bn.cpdag(bn)\n",
    "# for i in range(12):\n",
    "#     print(rm.rx(i+1,1), rm.rx(i+1,2))"
   ]
  },
  {
   "cell_type": "code",
   "execution_count": null,
   "metadata": {},
   "outputs": [],
   "source": [
    "pybnl.bn.dag(bn)"
   ]
  },
  {
   "cell_type": "code",
   "execution_count": null,
   "metadata": {},
   "outputs": [],
   "source": [
    "pybnl.bn.score(bn, bn.df)"
   ]
  },
  {
   "cell_type": "code",
   "execution_count": null,
   "metadata": {
    "scrolled": true
   },
   "outputs": [],
   "source": [
    "pybnl.bn.vstructs(bn)"
   ]
  },
  {
   "cell_type": "code",
   "execution_count": null,
   "metadata": {},
   "outputs": [],
   "source": [
    "tmp1 = bn.rfit\n",
    "tmp2 = bn.rnet"
   ]
  },
  {
   "cell_type": "code",
   "execution_count": null,
   "metadata": {},
   "outputs": [],
   "source": [
    "%%R -i tmp1 -i tmp2\n",
    "#print(tmp2)\n",
    "names(tmp1)"
   ]
  },
  {
   "cell_type": "code",
   "execution_count": null,
   "metadata": {},
   "outputs": [],
   "source": [
    "print(pybnl.bn.rfit2rnet(bn.rfit))"
   ]
  },
  {
   "cell_type": "code",
   "execution_count": null,
   "metadata": {},
   "outputs": [],
   "source": [
    "pybnl.bn.dot(*pybnl.bn.dag(bn))"
   ]
  },
  {
   "cell_type": "code",
   "execution_count": null,
   "metadata": {},
   "outputs": [],
   "source": [
    "pybnl.bn.dot(*pybnl.bn.cpdag(bn))"
   ]
  },
  {
   "cell_type": "code",
   "execution_count": null,
   "metadata": {},
   "outputs": [],
   "source": [
    "print(pybnl.bn.drop_arc(bn.rnet, frm='STAT', to='ANL'))"
   ]
  },
  {
   "cell_type": "code",
   "execution_count": null,
   "metadata": {},
   "outputs": [],
   "source": [
    "pybnl.bn.rnet2cpdag(pybnl.bn.drop_arc(bn.rnet, frm='STAT', to='ANL'))"
   ]
  },
  {
   "cell_type": "code",
   "execution_count": null,
   "metadata": {},
   "outputs": [],
   "source": [
    "pybnl.bn.dot(*pybnl.bn.rnet2cpdag(pybnl.bn.drop_arc(bn.rnet, frm='STAT', to='ANL')),engine='dot')"
   ]
  },
  {
   "cell_type": "code",
   "execution_count": null,
   "metadata": {},
   "outputs": [],
   "source": [
    "tmp1 = bn.rfit\n",
    "tmp2 = bn.rnet"
   ]
  },
  {
   "cell_type": "code",
   "execution_count": null,
   "metadata": {},
   "outputs": [],
   "source": [
    "%%R -i tmp1 -i tmp2\n",
    "tmp2_da = drop.arc(tmp2, from=\"STAT\", to=\"ANL\")\n",
    "# print(tmp2)\n",
    "cpdag(tmp2_da)"
   ]
  }
 ],
 "metadata": {
  "kernelspec": {
   "display_name": "Python 3",
   "language": "python",
   "name": "python3"
  },
  "language_info": {
   "codemirror_mode": {
    "name": "ipython",
    "version": 3
   },
   "file_extension": ".py",
   "mimetype": "text/x-python",
   "name": "python",
   "nbconvert_exporter": "python",
   "pygments_lexer": "ipython3",
   "version": "3.6.4"
  }
 },
 "nbformat": 4,
 "nbformat_minor": 2
}
