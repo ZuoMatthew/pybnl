{
 "cells": [
  {
   "cell_type": "code",
   "execution_count": null,
   "metadata": {},
   "outputs": [],
   "source": [
    "%load_ext watermark\n",
    "%watermark -a 'Christian Schuhegger' -u -d -v -p numpy,xarray,scipy,pandas,sklearn,matplotlib,seaborn,qgrid,rpy2,libpgm,pgmpy,networkx,graphviz,pybnl,pytest"
   ]
  },
  {
   "cell_type": "code",
   "execution_count": null,
   "metadata": {},
   "outputs": [],
   "source": [
    "%matplotlib inline\n",
    "import numpy as np, pandas as pd, xarray as xr, matplotlib.pyplot as plt, seaborn as sns\n",
    "import sklearn, sklearn.pipeline, sklearn.model_selection, sklearn.naive_bayes\n",
    "import networkx as nx, graphviz, networkx.algorithms.dag\n",
    "import random\n",
    "import itertools, collections\n",
    "\n",
    "pd.set_option('display.max_columns', 500)\n",
    "pd.set_option('display.width', 1000)\n",
    "# pd.set_option('display.float_format', lambda x: '%.2f' % x)\n",
    "np.set_printoptions(edgeitems=10)\n",
    "np.set_printoptions(suppress=True)\n",
    "np.core.arrayprint._line_width = 180\n",
    "\n",
    "sns.set()"
   ]
  },
  {
   "cell_type": "code",
   "execution_count": null,
   "metadata": {},
   "outputs": [],
   "source": [
    "from IPython.display import display, HTML\n",
    "\n",
    "from IPython.display import display_html\n",
    "def display_side_by_side(*args):\n",
    "    html_str=''\n",
    "    for df in args:\n",
    "        if type(df) == np.ndarray:\n",
    "            df = pd.DataFrame(df)\n",
    "        html_str+=df.to_html()\n",
    "    html_str = html_str.replace('table','table style=\"display:inline\"')\n",
    "    # print(html_str)\n",
    "    display_html(html_str,raw=True)\n",
    "\n",
    "CSS = \"\"\"\n",
    ".output {\n",
    "    flex-direction: row;\n",
    "}\n",
    "\"\"\"\n",
    "\n",
    "def display_graphs_side_by_side(*args):\n",
    "    html_str='<table><tr>'\n",
    "    for g in args:\n",
    "        html_str += '<td>'\n",
    "        html_str += g._repr_svg_()\n",
    "        html_str += '</td>'\n",
    "    html_str += '</tr></table>'\n",
    "    display_html(html_str,raw=True)\n",
    "    \n",
    "\n",
    "display(HTML(\"<style>.container { width:70% !important; }</style>\"))"
   ]
  },
  {
   "cell_type": "code",
   "execution_count": null,
   "metadata": {},
   "outputs": [],
   "source": [
    "%load_ext rpy2.ipython"
   ]
  },
  {
   "cell_type": "code",
   "execution_count": null,
   "metadata": {},
   "outputs": [],
   "source": [
    "%load_ext autoreload\n",
    "%autoreload 1\n",
    "%aimport pybnl.bn"
   ]
  },
  {
   "cell_type": "code",
   "execution_count": null,
   "metadata": {},
   "outputs": [],
   "source": [
    "%aimport dsbasics.bin"
   ]
  },
  {
   "cell_type": "code",
   "execution_count": null,
   "metadata": {},
   "outputs": [],
   "source": [
    "import locale\n",
    "locale.setlocale(locale.LC_ALL, 'C')\n",
    "\n",
    "import rpy2, rpy2.rinterface, rpy2.robjects, rpy2.robjects.packages, rpy2.robjects.lib, rpy2.robjects.lib.grid, \\\n",
    "    rpy2.robjects.lib.ggplot2, rpy2.robjects.pandas2ri, rpy2.interactive.process_revents, \\\n",
    "    rpy2.interactive, rpy2.robjects.lib.grdevices\n",
    "# rpy2.interactive.process_revents.start()\n",
    "rpy2.robjects.pandas2ri.activate()"
   ]
  },
  {
   "cell_type": "code",
   "execution_count": null,
   "metadata": {},
   "outputs": [],
   "source": [
    "rpackageversionfn = rpy2.robjects.r('packageVersion')\n",
    "print(rpackageversionfn(\"bnlearn\")[0])\n",
    "print(rpackageversionfn(\"gRain\")[0])"
   ]
  },
  {
   "cell_type": "markdown",
   "metadata": {},
   "source": [
    "# House Prices in Ames, Iowa"
   ]
  },
  {
   "cell_type": "markdown",
   "metadata": {},
   "source": [
    "* [Ames, Iowa: Alternative to the Boston Housing Data as an End of Semester Regression Project](http://ww2.amstat.org/publications/jse/v19n3/decock.pdf)\n",
    "  * [AmesResidential.pdf](https://ww2.amstat.org/publications/jse/v19n3/decock/AmesResidential.pdf)\n",
    "  * [DataDocumentation.txt](https://ww2.amstat.org/publications/jse/v19n3/decock/DataDocumentation.txt)\n",
    "  * [AmesHousing.txt](https://ww2.amstat.org/publications/jse/v19n3/decock/AmesHousing.txt)\n",
    "  * [AmesHousing.xls](http://www.amstat.org/publications/jse/v19n3/decock/AmesHousing.xls)\n",
    "  * Also on [kaggle](https://www.kaggle.com/c/house-prices-advanced-regression-techniques)"
   ]
  },
  {
   "cell_type": "markdown",
   "metadata": {},
   "source": [
    "The below example reproduces the example from chapter 5 (page 79) in [Bayesian Networks and BayesiaLab: A Practical Introduction for Researchers](https://www.amazon.com/Bayesian-Networks-BayesiaLab-Introduction-Researchers/dp/0996533303)."
   ]
  },
  {
   "cell_type": "code",
   "execution_count": null,
   "metadata": {},
   "outputs": [],
   "source": [
    "df = pd.read_csv('./AmesHousing.txt.gz', sep='\\t', index_col=0)\n",
    "df['MS SubClass'] = df['MS SubClass'].apply(lambda x: '{0:0>3}'.format(x))\n",
    "df.iloc[:5,:15]"
   ]
  },
  {
   "cell_type": "code",
   "execution_count": null,
   "metadata": {},
   "outputs": [],
   "source": [
    "df.columns"
   ]
  },
  {
   "cell_type": "code",
   "execution_count": null,
   "metadata": {},
   "outputs": [],
   "source": [
    "discrete_non_null, discrete_with_null, continuous_non_null, continuous_with_null, levels_map = pybnl.bn.discrete_and_continuous_variables_with_and_without_nulls(df, cutoff=30)\n",
    "# discrete_non_null, discrete_with_null, continuous_non_null, continuous_with_null, levels_map"
   ]
  },
  {
   "cell_type": "code",
   "execution_count": null,
   "metadata": {},
   "outputs": [],
   "source": [
    "ddf = df.copy()\n",
    "#cat_columns = ['Alley', 'Bedroom AbvGr', 'Bldg Type', 'Bsmt Cond', ]\n",
    "cat_columns = [\n",
    "    'MS SubClass', 'MS Zoning', 'Street', 'Alley', 'Land Contour', 'Lot Config', 'Neighborhood', 'Condition 1', 'Condition 2', 'Bldg Type', 'House Style',\n",
    "    'Roof Style', 'Roof Matl', 'Exterior 1st', 'Exterior 2nd', 'Mas Vnr Type', 'Foundation', 'Heating', 'Central Air', 'Garage Type', 'Misc Feature', 'Sale Type', 'Sale Condition'\n",
    "] + [\n",
    "    'Overall Qual', 'Overall Cond'\n",
    "]\n",
    "cat_columns_ordinal = [\n",
    "    ('Lot Shape',      ['Reg','IR1','IR2','IR3']),\n",
    "    ('Utilities',      ['AllPub','NoSewr','NoSeWa','ELO']),\n",
    "    ('Land Slope',     ['Gtl', 'Mod', 'Sev']),\n",
    "    ('Exter Qual',     ['Ex', 'Gd', 'TA', 'Fa', 'Po']),\n",
    "    ('Exter Cond',     ['Ex', 'Gd', 'TA', 'Fa', 'Po']),\n",
    "    ('Bsmt Qual',      ['Ex', 'Gd', 'TA', 'Fa', 'Po', 'NA']),\n",
    "    ('Bsmt Cond',      ['Ex', 'Gd', 'TA', 'Fa', 'Po', 'NA']),\n",
    "    ('Bsmt Exposure',  ['Gd', 'Av', 'Mn', 'No', 'NA']),\n",
    "    ('BsmtFin Type 1', ['GLQ', 'ALQ', 'BLQ', 'Rec', 'LwQ', 'Unf', 'NA']),\n",
    "    ('BsmtFin Type 2', ['GLQ', 'ALQ', 'BLQ', 'Rec', 'LwQ', 'Unf', 'NA']),\n",
    "    ('Heating QC',     ['Ex', 'Gd', 'TA', 'Fa', 'Po']),\n",
    "    ('Electrical',     ['SBrkr', 'FuseA', 'FuseF', 'FuseP', 'Mix']),\n",
    "    ('Kitchen Qual',   ['Ex', 'Gd', 'TA', 'Fa', 'Po']),\n",
    "    ('Functional',     ['Typ', 'Min1', 'Min2', 'Mod', 'Maj1', 'Maj2', 'Sev', 'Sal']),\n",
    "    ('Fireplace Qu',   ['Ex', 'Gd', 'TA', 'Fa', 'Po', 'NA']),\n",
    "    ('Garage Finish',  ['Fin', 'RFn', 'Unf', 'NA']),\n",
    "    ('Garage Qual',    ['Ex', 'Gd', 'TA', 'Fa', 'Po', 'NA']),\n",
    "    ('Garage Cond',    ['Ex', 'Gd', 'TA', 'Fa', 'Po', 'NA']),\n",
    "    ('Paved Drive',    ['Y', 'P', 'N']),\n",
    "    ('Pool QC',        ['Ex', 'Gd', 'TA', 'Fa', 'NA']),\n",
    "    ('Fence',          ['GdPrv', 'MnPrv', 'GdWo', 'MnWw', 'NA']),\n",
    "]\n",
    "\n",
    "continuous_columns = [\n",
    "    'Lot Frontage', 'Lot Area', 'Mas Vnr Area', 'BsmtFin SF 1', 'BsmtFin SF 2', 'Bsmt Unf SF', 'Total Bsmt SF', '1st Flr SF', '2nd Flr SF', 'Low Qual Fin SF', 'Gr Liv Area', 'Garage Area', 'Wood Deck SF', 'Open Porch SF', 'Enclosed Porch', '3Ssn Porch',\n",
    "    'Screen Porch', 'Pool Area', 'Misc Val', 'SalePrice'\n",
    "]\n",
    "discrete_columns = ['Year Built', 'Year Remod/Add', 'Bsmt Full Bath', 'Bsmt Half Bath', 'Full Bath', 'Half Bath', 'TotRms AbvGrd', 'Fireplaces', 'Garage Yr Blt', 'Garage Cars', 'Mo Sold', 'Yr Sold', 'Bedroom AbvGr', 'Kitchen AbvGr']# do not exist: 'Bedroom',  'Kitchen'\n",
    "\n",
    "for col in cat_columns:\n",
    "    levels = levels_map[col]\n",
    "    # print('col: {}'.format(col))\n",
    "    # if all([isinstance(level, (int, float)) for level in levels]):\n",
    "    if all([np.issubdtype(type(level), np.number) for level in levels]):\n",
    "        # print('int, float column: {}'.format(col))\n",
    "        levels = sorted(levels)\n",
    "        ddf[col] = df[col].astype(pd.api.types.CategoricalDtype(levels, ordered=True))\n",
    "    else:\n",
    "        ddf[col] = df[col].astype(pd.api.types.CategoricalDtype(levels, ordered=False))\n",
    "\n",
    "for col, levels in cat_columns_ordinal:\n",
    "    ddf[col] = df[col].astype(pd.api.types.CategoricalDtype(levels[::-1], ordered=True))\n",
    "\n",
    "for col in continuous_columns:\n",
    "    ddf[col] = df[col].astype(float)\n",
    "\n",
    "for col in discrete_columns:\n",
    "    if pd.isnull(df[col]).any():\n",
    "        ddf[col] = df[col].astype(float)\n",
    "    else:\n",
    "        ddf[col] = df[col].astype(int)\n",
    "    \n",
    "# col   = 'Alley'\n",
    "# ddf[col]\n",
    "# ddf[~pd.isnull(ddf[col])][col]\n",
    "# value = np.nan\n",
    "# ddf.loc[df[col]==value,col]"
   ]
  },
  {
   "cell_type": "markdown",
   "metadata": {},
   "source": [
    "[Working with Pandas: Fixing messy column names](https://medium.com/@chaimgluck1/working-with-pandas-fixing-messy-column-names-42a54a6659cd)"
   ]
  },
  {
   "cell_type": "code",
   "execution_count": null,
   "metadata": {},
   "outputs": [],
   "source": [
    "ddf.columns = ddf.columns.str.strip().str.replace(' ', '_').str.replace('(', '').str.replace(')', '')"
   ]
  },
  {
   "cell_type": "code",
   "execution_count": null,
   "metadata": {},
   "outputs": [],
   "source": [
    "type(ddf.columns)"
   ]
  },
  {
   "cell_type": "code",
   "execution_count": null,
   "metadata": {
    "scrolled": true
   },
   "outputs": [],
   "source": [
    "ddf.head()"
   ]
  },
  {
   "cell_type": "code",
   "execution_count": null,
   "metadata": {},
   "outputs": [],
   "source": [
    "# ddf.to_hdf('AmesHousing.h5', 'AmesHousing',format='table', append=False)"
   ]
  },
  {
   "cell_type": "code",
   "execution_count": null,
   "metadata": {},
   "outputs": [],
   "source": [
    "# pd.read_hdf('AmesHousing.h5', 'AmesHousing').head()"
   ]
  },
  {
   "cell_type": "markdown",
   "metadata": {},
   "source": [
    "## Treating Filtered Values ('FV')"
   ]
  },
  {
   "cell_type": "markdown",
   "metadata": {},
   "source": [
    "See page 84 in \"Bayesian Networks and BayesiaLab\""
   ]
  },
  {
   "cell_type": "markdown",
   "metadata": {},
   "source": [
    "### Bsmt fields"
   ]
  },
  {
   "cell_type": "code",
   "execution_count": null,
   "metadata": {},
   "outputs": [],
   "source": [
    "bsmt_fields_ = ['Bsmt Qual', 'Bsmt Cond', 'Bsmt Exposure', 'BsmtFin Type 1', 'BsmtFin Type 2', 'Bsmt Full Bath', 'Bsmt Half Bath', \n",
    "               'BsmtFin SF 1', 'BsmtFin SF 2', 'Bsmt Unf SF', 'Total Bsmt SF']\n",
    "bsmt_fields = pd.Index(bsmt_fields_).str.strip().str.replace(' ', '_').str.replace('(', '').str.replace(')', '')\n",
    "ddf[bsmt_fields].query('Bsmt_Qual == \"NA\"')\n",
    "# ddf[ddf['Bsmt_Qual'] == 'NA'][bsmt_fields]\n",
    "# df[bsmt_fields_][df['Bsmt Qual'] == 'NA']"
   ]
  },
  {
   "cell_type": "markdown",
   "metadata": {},
   "source": [
    "It seems that there are no filtered values for 'Bsmt' fields, e.g. each home contains a basement."
   ]
  },
  {
   "cell_type": "markdown",
   "metadata": {},
   "source": [
    "[Querying for NaN and other names in Pandas](https://stackoverflow.com/questions/26535563/querying-for-nan-and-other-names-in-pandas)"
   ]
  },
  {
   "cell_type": "code",
   "execution_count": null,
   "metadata": {},
   "outputs": [],
   "source": [
    "ddf[bsmt_fields][pd.isnull(ddf.Bsmt_Qual)].head()"
   ]
  },
  {
   "cell_type": "code",
   "execution_count": null,
   "metadata": {},
   "outputs": [],
   "source": [
    "df[bsmt_fields_][pd.isnull(df['Bsmt Qual'])].head()"
   ]
  },
  {
   "cell_type": "markdown",
   "metadata": {},
   "source": [
    "But there are quite a lot of 'NaN' entries. Not sure why the data description contains an \"NA\" value as \"No Basement\", but no actual data-set uses it. Most likely these values are supposed to be \"NA\""
   ]
  },
  {
   "cell_type": "code",
   "execution_count": null,
   "metadata": {},
   "outputs": [],
   "source": [
    "bsmt_na_fields = ['Bsmt_Qual', 'Bsmt_Cond', 'Bsmt_Exposure', 'BsmtFin_Type_1', 'BsmtFin_Type_2']\n",
    "ddf.loc[pd.isnull(ddf.Bsmt_Qual), bsmt_na_fields] = \"NA\"\n",
    "ddf[bsmt_fields].query('Bsmt_Qual == \"NA\"').head()"
   ]
  },
  {
   "cell_type": "markdown",
   "metadata": {},
   "source": [
    "### Electrical field"
   ]
  },
  {
   "cell_type": "code",
   "execution_count": null,
   "metadata": {},
   "outputs": [],
   "source": [
    "ddf.Electrical.value_counts(dropna=False)"
   ]
  },
  {
   "cell_type": "code",
   "execution_count": null,
   "metadata": {},
   "outputs": [],
   "source": [
    "ddf[pd.isnull(ddf.Electrical)]"
   ]
  },
  {
   "cell_type": "markdown",
   "metadata": {},
   "source": [
    "The one NaN value seems to be a missing value"
   ]
  },
  {
   "cell_type": "markdown",
   "metadata": {},
   "source": [
    "### Fireplaces"
   ]
  },
  {
   "cell_type": "code",
   "execution_count": null,
   "metadata": {},
   "outputs": [],
   "source": [
    "fireplaces_fields_ = ['Fireplaces', 'Fireplace Qu']\n",
    "fireplaces_fields = pd.Index(fireplaces_fields_).str.strip().str.replace(' ', '_').str.replace('(', '').str.replace(')', '')\n",
    "ddf[fireplaces_fields].query('Fireplaces == 0').head()"
   ]
  },
  {
   "cell_type": "code",
   "execution_count": null,
   "metadata": {},
   "outputs": [],
   "source": [
    "ddf.loc[ddf.Fireplaces == 0,['Fireplace_Qu']] = 'NA'\n",
    "ddf[fireplaces_fields].query('Fireplaces == 0').head()"
   ]
  },
  {
   "cell_type": "markdown",
   "metadata": {},
   "source": [
    "### Garage fields"
   ]
  },
  {
   "cell_type": "code",
   "execution_count": null,
   "metadata": {},
   "outputs": [],
   "source": [
    "garage_fields_ = ['Garage Type', 'Garage Finish', 'Garage Cars', 'Garage Qual', 'Garage Cond', 'Garage Yr Blt', 'Garage Area']\n",
    "garage_fields = pd.Index(garage_fields_).str.strip().str.replace(' ', '_').str.replace('(', '').str.replace(')', '')\n",
    "ddf[garage_fields][pd.isnull(ddf.Garage_Type)].head()"
   ]
  },
  {
   "cell_type": "code",
   "execution_count": null,
   "metadata": {},
   "outputs": [],
   "source": [
    "ddf['Garage_Type'] = ddf['Garage_Type'].astype(str)\\\n",
    "    .astype(pd.api.types.CategoricalDtype(set(list(ddf.Garage_Type.dtype.categories) + ['NA'])))\n",
    "ddf.Garage_Type.dtype.categories"
   ]
  },
  {
   "cell_type": "code",
   "execution_count": null,
   "metadata": {},
   "outputs": [],
   "source": [
    "ddf.loc[pd.isnull(ddf.Garage_Type),['Garage_Type', 'Garage_Finish', 'Garage_Qual', 'Garage_Cond']] = 'NA'\n",
    "ddf.loc[ddf.Garage_Type == 'NA',['Garage_Yr_Blt']] = -1.0\n",
    "#ddf[garage_fields][pd.isnull(ddf.Garage_Yr_Blt)]\n",
    "#ddf['Garage_Yr_Blt'] = ddf['Garage_Yr_Blt'].astype(int)\n",
    "ddf[garage_fields][ddf.Garage_Type == 'NA'].head()"
   ]
  },
  {
   "cell_type": "markdown",
   "metadata": {},
   "source": [
    "### Mas Vnr fields"
   ]
  },
  {
   "cell_type": "code",
   "execution_count": null,
   "metadata": {},
   "outputs": [],
   "source": [
    "mas_vnr_fields_ = ['Mas Vnr Type', 'Mas Vnr Area']\n",
    "mas_vnr_fields = pd.Index(mas_vnr_fields_).str.strip().str.replace(' ', '_').str.replace('(', '').str.replace(')', '')\n",
    "ddf[mas_vnr_fields][pd.isnull(ddf.Mas_Vnr_Type)].head()"
   ]
  },
  {
   "cell_type": "code",
   "execution_count": null,
   "metadata": {},
   "outputs": [],
   "source": [
    "ddf.Mas_Vnr_Type.dtype"
   ]
  },
  {
   "cell_type": "code",
   "execution_count": null,
   "metadata": {},
   "outputs": [],
   "source": [
    "ddf.loc[pd.isnull(ddf.Mas_Vnr_Type), ['Mas_Vnr_Type']] = 'None'\n",
    "ddf.loc[ddf.Mas_Vnr_Type == 'None', ['Mas_Vnr_Area']] = 0.0"
   ]
  },
  {
   "cell_type": "code",
   "execution_count": null,
   "metadata": {
    "scrolled": true
   },
   "outputs": [],
   "source": [
    "ddf[mas_vnr_fields][ddf.Mas_Vnr_Type == 'None'].head()"
   ]
  },
  {
   "cell_type": "markdown",
   "metadata": {},
   "source": [
    "### Pool fields"
   ]
  },
  {
   "cell_type": "code",
   "execution_count": null,
   "metadata": {},
   "outputs": [],
   "source": [
    "pool_fields_ = ['Pool QC', 'Pool Area']\n",
    "pool_fields = pd.Index(pool_fields_).str.strip().str.replace(' ', '_').str.replace('(', '').str.replace(')', '')\n",
    "ddf[pool_fields][pd.isnull(ddf.Pool_QC)].head()"
   ]
  },
  {
   "cell_type": "code",
   "execution_count": null,
   "metadata": {},
   "outputs": [],
   "source": [
    "ddf.loc[pd.isnull(ddf.Pool_QC), ['Pool_QC']] = 'NA'\n",
    "ddf[pool_fields][ddf.Pool_QC == 'NA'].head()"
   ]
  },
  {
   "cell_type": "markdown",
   "metadata": {},
   "source": [
    "### Fence field"
   ]
  },
  {
   "cell_type": "code",
   "execution_count": null,
   "metadata": {},
   "outputs": [],
   "source": [
    "fence_fields_ = ['Fence']\n",
    "fence_fields = pd.Index(fence_fields_).str.strip().str.replace(' ', '_').str.replace('(', '').str.replace(')', '')\n",
    "ddf.loc[pd.isnull(ddf.Fence), ['Fence']] = 'NA'\n",
    "ddf[fence_fields][ddf.Fence == 'NA'].head()"
   ]
  },
  {
   "cell_type": "markdown",
   "metadata": {},
   "source": [
    "### Misc Feature field"
   ]
  },
  {
   "cell_type": "code",
   "execution_count": null,
   "metadata": {},
   "outputs": [],
   "source": [
    "misc_feature_fields_ = ['Misc Feature']\n",
    "misc_feature_fields = pd.Index(misc_feature_fields_).str.strip().str.replace(' ', '_').str.replace('(', '').str.replace(')', '')\n",
    "ddf['Misc_Feature'] = ddf['Misc_Feature'].astype(str)\\\n",
    "    .astype(pd.api.types.CategoricalDtype(set(list(ddf.Misc_Feature.dtype.categories) + ['NA'])))\n",
    "ddf.loc[pd.isnull(ddf.Misc_Feature), ['Misc_Feature']] = 'NA'\n",
    "ddf[misc_feature_fields][ddf.Misc_Feature == 'NA'].head()"
   ]
  },
  {
   "cell_type": "markdown",
   "metadata": {},
   "source": [
    "### Check remaining nan fields"
   ]
  },
  {
   "cell_type": "code",
   "execution_count": null,
   "metadata": {},
   "outputs": [],
   "source": [
    "_, discrete_with_null_, _, continuous_with_null_, _ = pybnl.bn.discrete_and_continuous_variables_with_and_without_nulls(ddf, cutoff=30)\n",
    "discrete_with_null_, continuous_with_null_"
   ]
  },
  {
   "cell_type": "code",
   "execution_count": null,
   "metadata": {},
   "outputs": [],
   "source": [
    "ddf[bsmt_fields][pd.isnull(ddf.Bsmt_Exposure)]"
   ]
  },
  {
   "cell_type": "markdown",
   "metadata": {},
   "source": [
    "Just set the few NaN values to 'No'"
   ]
  },
  {
   "cell_type": "code",
   "execution_count": null,
   "metadata": {},
   "outputs": [],
   "source": [
    "ddf.loc[pd.isnull(ddf.Bsmt_Exposure),['Bsmt_Exposure']] = 'No'"
   ]
  },
  {
   "cell_type": "code",
   "execution_count": null,
   "metadata": {},
   "outputs": [],
   "source": [
    "ddf[bsmt_fields][pd.isnull(ddf.BsmtFin_Type_2)]"
   ]
  },
  {
   "cell_type": "markdown",
   "metadata": {},
   "source": [
    "Just set the few NaN values to 'Unf'"
   ]
  },
  {
   "cell_type": "code",
   "execution_count": null,
   "metadata": {},
   "outputs": [],
   "source": [
    "ddf.loc[pd.isnull(ddf.BsmtFin_Type_2),['BsmtFin_Type_2']] = 'Unf'"
   ]
  },
  {
   "cell_type": "code",
   "execution_count": null,
   "metadata": {
    "scrolled": true
   },
   "outputs": [],
   "source": [
    "ddf[bsmt_fields][pd.isnull(ddf.Bsmt_Full_Bath)]"
   ]
  },
  {
   "cell_type": "code",
   "execution_count": null,
   "metadata": {},
   "outputs": [],
   "source": [
    "ddf[bsmt_fields][pd.isnull(ddf.Bsmt_Half_Bath)]"
   ]
  },
  {
   "cell_type": "markdown",
   "metadata": {},
   "source": [
    "Just set all the NaN values to 0.0"
   ]
  },
  {
   "cell_type": "code",
   "execution_count": null,
   "metadata": {},
   "outputs": [],
   "source": [
    "ddf.loc[pd.isnull(ddf.Bsmt_Full_Bath),['Bsmt_Full_Bath','Bsmt_Half_Bath','BsmtFin_SF_1','BsmtFin_SF_2','Bsmt_Unf_SF','Total_Bsmt_SF']] = [0.0,0.0,0.0,0.0,0.0,0.0]"
   ]
  },
  {
   "cell_type": "code",
   "execution_count": null,
   "metadata": {},
   "outputs": [],
   "source": [
    "ddf[['Electrical']][pd.isnull(ddf.Electrical)]"
   ]
  },
  {
   "cell_type": "markdown",
   "metadata": {},
   "source": [
    "Just set this single NaN value to 'Mix'"
   ]
  },
  {
   "cell_type": "code",
   "execution_count": null,
   "metadata": {},
   "outputs": [],
   "source": [
    "ddf.loc[pd.isnull(ddf.Electrical),['Electrical']] = 'Mix'"
   ]
  },
  {
   "cell_type": "markdown",
   "metadata": {},
   "source": [
    "The remaining NaN garage fields seem to be really missing values so don't touch them."
   ]
  },
  {
   "cell_type": "code",
   "execution_count": null,
   "metadata": {},
   "outputs": [],
   "source": [
    "ddf[garage_fields][pd.isnull(ddf.Garage_Finish)]"
   ]
  },
  {
   "cell_type": "code",
   "execution_count": null,
   "metadata": {},
   "outputs": [],
   "source": [
    "ddf[garage_fields][pd.isnull(ddf.Garage_Cars)]"
   ]
  },
  {
   "cell_type": "code",
   "execution_count": null,
   "metadata": {},
   "outputs": [],
   "source": [
    "ddf[garage_fields][pd.isnull(ddf.Garage_Qual)]"
   ]
  },
  {
   "cell_type": "code",
   "execution_count": null,
   "metadata": {},
   "outputs": [],
   "source": [
    "ddf[garage_fields][pd.isnull(ddf.Garage_Cond)]"
   ]
  },
  {
   "cell_type": "markdown",
   "metadata": {},
   "source": [
    "The Lot_Frontage NaN fields seem to be really missing values so don't touch them."
   ]
  },
  {
   "cell_type": "code",
   "execution_count": null,
   "metadata": {
    "scrolled": true
   },
   "outputs": [],
   "source": [
    "ddf[pd.isnull(ddf.Lot_Frontage)].head()"
   ]
  },
  {
   "cell_type": "code",
   "execution_count": null,
   "metadata": {
    "scrolled": true
   },
   "outputs": [],
   "source": [
    "_, discrete_with_null_, _, continuous_with_null_, _ = pybnl.bn.discrete_and_continuous_variables_with_and_without_nulls(ddf, cutoff=30)\n",
    "discrete_with_null_, continuous_with_null_"
   ]
  },
  {
   "cell_type": "markdown",
   "metadata": {},
   "source": [
    "## Binning / Discretization"
   ]
  },
  {
   "cell_type": "code",
   "execution_count": null,
   "metadata": {},
   "outputs": [],
   "source": [
    "ddf1 = ddf.copy()"
   ]
  },
  {
   "cell_type": "markdown",
   "metadata": {},
   "source": [
    "### The target variable is SalePrice"
   ]
  },
  {
   "cell_type": "code",
   "execution_count": null,
   "metadata": {},
   "outputs": [],
   "source": [
    "ddf.SalePrice.describe()"
   ]
  },
  {
   "cell_type": "code",
   "execution_count": null,
   "metadata": {},
   "outputs": [],
   "source": [
    "ddf1.SalePrice = pd.cut(ddf.SalePrice, [0.0,75000.0, 150000.0, 225000.0, 300000.0,np.PINF], right=False)\n",
    "ddf1['SalePrice'].value_counts()"
   ]
  },
  {
   "cell_type": "markdown",
   "metadata": {},
   "source": [
    "### Continuous, discrete and ordinal variables"
   ]
  },
  {
   "cell_type": "code",
   "execution_count": null,
   "metadata": {},
   "outputs": [],
   "source": [
    "continuous_columns_without_sale_price = list(set(continuous_columns) - set(['SalePrice']))"
   ]
  },
  {
   "cell_type": "code",
   "execution_count": null,
   "metadata": {},
   "outputs": [],
   "source": [
    "target_variable_decision_tree_binning_variables_ = [c for c,r in cat_columns_ordinal] + continuous_columns_without_sale_price + discrete_columns + ['Overall Qual', 'Overall Cond']\n",
    "target_variable_decision_tree_binning_variables = pd.Index(target_variable_decision_tree_binning_variables_).str.strip().str.replace(' ', '_').str.replace('(', '').str.replace(')', '')\n",
    "target_variable_decision_tree_binning_variables"
   ]
  },
  {
   "cell_type": "code",
   "execution_count": null,
   "metadata": {},
   "outputs": [],
   "source": [
    "tvbt = dsbasics.bin.TargetVariableDecisionTreeBinTransformer0(max_leaf_nodes=3)\n",
    "ddf1.loc[:,target_variable_decision_tree_binning_variables] = \\\n",
    "    tvbt.fit_transform(ddf[target_variable_decision_tree_binning_variables], ddf1.SalePrice)\n",
    "ddf1.head()"
   ]
  },
  {
   "cell_type": "code",
   "execution_count": null,
   "metadata": {},
   "outputs": [],
   "source": [
    "len(df.columns),len(ddf1.columns)"
   ]
  },
  {
   "cell_type": "code",
   "execution_count": null,
   "metadata": {},
   "outputs": [],
   "source": [
    "ddf['Overall_Qual'].value_counts().sort_index().plot(kind='bar');"
   ]
  },
  {
   "cell_type": "code",
   "execution_count": null,
   "metadata": {},
   "outputs": [],
   "source": [
    "ddf1['Overall_Qual'].value_counts().sort_index().plot(kind='bar');"
   ]
  },
  {
   "cell_type": "markdown",
   "metadata": {},
   "source": [
    "### Convert interval indices to strings"
   ]
  },
  {
   "cell_type": "code",
   "execution_count": null,
   "metadata": {},
   "outputs": [],
   "source": [
    "ddf1 = pybnl.bn.convert_interval_index_categories_to_string_categories(ddf1,inplace=False)"
   ]
  },
  {
   "cell_type": "code",
   "execution_count": null,
   "metadata": {},
   "outputs": [],
   "source": [
    "ddf1.Bsmt_Full_Bath.dtype"
   ]
  },
  {
   "cell_type": "markdown",
   "metadata": {},
   "source": [
    "### Rename columns to fit with R conventions"
   ]
  },
  {
   "cell_type": "code",
   "execution_count": null,
   "metadata": {},
   "outputs": [],
   "source": [
    "ddf1 = ddf1.rename(columns={\n",
    "    \"1st_Flr_SF\":\"X1st_Flr_SF\",\n",
    "    \"2nd_Flr_SF\":\"X2nd_Flr_SF\",\n",
    "    \"3Ssn_Porch\":\"X3Ssn_Porch\",\n",
    "    \"Year_Remod/Add\":\"Year_Remod_Add\"\n",
    "})"
   ]
  },
  {
   "cell_type": "markdown",
   "metadata": {},
   "source": [
    "### Drop unused columns"
   ]
  },
  {
   "cell_type": "code",
   "execution_count": null,
   "metadata": {},
   "outputs": [],
   "source": [
    "if any(ddf1.columns.isin(['PID'])):\n",
    "    ddf1.drop('PID', axis=1, inplace=True)\n",
    "# ddf1.columns"
   ]
  },
  {
   "cell_type": "markdown",
   "metadata": {},
   "source": [
    "#### Drop the 'Alley' column, which contains most null values and will not contribute to the quality of the fit"
   ]
  },
  {
   "cell_type": "code",
   "execution_count": null,
   "metadata": {
    "scrolled": true
   },
   "outputs": [],
   "source": [
    "if any(ddf1.columns.isin(['Alley'])):\n",
    "    ddf1.drop('Alley', axis=1, inplace=True)\n",
    "# ddf1.columns"
   ]
  },
  {
   "cell_type": "markdown",
   "metadata": {},
   "source": [
    "The remaining columns with null values are:"
   ]
  },
  {
   "cell_type": "code",
   "execution_count": null,
   "metadata": {},
   "outputs": [],
   "source": [
    "_, discrete_with_null_, _, continuous_with_null_, _ = pybnl.bn.discrete_and_continuous_variables_with_and_without_nulls(ddf1, cutoff=30)\n",
    "discrete_with_null_, continuous_with_null_"
   ]
  },
  {
   "cell_type": "markdown",
   "metadata": {},
   "source": [
    "The statistics of the NaN values are as follows. Only the column `Lot_Frontage` still has relevant null values, e.g. we could simply filter out the 2 `Garage` rows that contain null values:"
   ]
  },
  {
   "cell_type": "code",
   "execution_count": null,
   "metadata": {},
   "outputs": [],
   "source": [
    "display_side_by_side(\n",
    "    pd.DataFrame(ddf1.Lot_Frontage.value_counts(dropna=False)),\n",
    "    pd.DataFrame(ddf1.Garage_Yr_Blt.value_counts(dropna=False)),\n",
    "    pd.DataFrame(ddf1.Garage_Finish.value_counts(dropna=False)),\n",
    "    pd.DataFrame(ddf1.Garage_Cars.value_counts(dropna=False)),\n",
    "    pd.DataFrame(ddf1.Garage_Area.value_counts(dropna=False)),\n",
    "    pd.DataFrame(ddf1.Garage_Qual.value_counts(dropna=False)),\n",
    "    pd.DataFrame(ddf1.Garage_Cond.value_counts(dropna=False))\n",
    ")"
   ]
  },
  {
   "cell_type": "code",
   "execution_count": null,
   "metadata": {},
   "outputs": [],
   "source": [
    "null_value_idx = pd.isnull(ddf1.Lot_Frontage) | pd.isnull(ddf1.Garage_Yr_Blt) | pd.isnull(ddf1.Garage_Finish) | \\\n",
    "    pd.isnull(ddf1.Garage_Cars) | pd.isnull(ddf1.Garage_Area) | pd.isnull(ddf1.Garage_Qual) | pd.isnull(ddf1.Garage_Cond)\n",
    "null_value_idx.value_counts()"
   ]
  },
  {
   "cell_type": "code",
   "execution_count": null,
   "metadata": {},
   "outputs": [],
   "source": [
    "ddf_without_null_values = ddf1[~null_value_idx]"
   ]
  },
  {
   "cell_type": "code",
   "execution_count": null,
   "metadata": {},
   "outputs": [],
   "source": [
    "ddf_with_null_values = ddf1"
   ]
  },
  {
   "cell_type": "markdown",
   "metadata": {},
   "source": [
    "## Naive Bayes Classifier"
   ]
  },
  {
   "cell_type": "markdown",
   "metadata": {},
   "source": [
    "### bnlearn by hand"
   ]
  },
  {
   "cell_type": "markdown",
   "metadata": {},
   "source": [
    "#### Define net"
   ]
  },
  {
   "cell_type": "code",
   "execution_count": null,
   "metadata": {},
   "outputs": [],
   "source": [
    "dg = nx.DiGraph()\n",
    "\n",
    "dg.add_nodes_from(ddf1.columns.values)\n",
    "\n",
    "in_vars = ddf1.columns.values[:-1]\n",
    "out_var = ddf1.columns.values[-1:]\n",
    "dg.add_edges_from(list(itertools.product(out_var, in_vars)))"
   ]
  },
  {
   "cell_type": "code",
   "execution_count": null,
   "metadata": {},
   "outputs": [],
   "source": [
    "ns = pybnl.bn.digraph2netstruct(dg)\n",
    "# ns.dot()\n",
    "display(HTML(ns.dot()._repr_svg_()))"
   ]
  },
  {
   "cell_type": "code",
   "execution_count": null,
   "metadata": {},
   "outputs": [],
   "source": [
    "nbn1 = pybnl.bn.NetAndDataDiscreteBayesNetwork(ldf=ddf_without_null_values, dg=dg, predict_var='SalePrice')\n",
    "nbn1.fit();"
   ]
  },
  {
   "cell_type": "code",
   "execution_count": null,
   "metadata": {},
   "outputs": [],
   "source": [
    "N=20 # restricted to speed up runtime of notebook\n",
    "y_pred = nbn1.predict(ddf_without_null_values.iloc[:N,:-1])"
   ]
  },
  {
   "cell_type": "code",
   "execution_count": null,
   "metadata": {},
   "outputs": [],
   "source": [
    "y_true = ddf_without_null_values.iloc[:N,-1:]"
   ]
  },
  {
   "cell_type": "code",
   "execution_count": null,
   "metadata": {},
   "outputs": [],
   "source": [
    "sklearn.metrics.accuracy_score(y_true, y_pred)"
   ]
  },
  {
   "cell_type": "code",
   "execution_count": null,
   "metadata": {},
   "outputs": [],
   "source": [
    "tmp_cm = sklearn.metrics.confusion_matrix(y_true, y_pred)\n",
    "tmp_cm"
   ]
  },
  {
   "cell_type": "code",
   "execution_count": null,
   "metadata": {},
   "outputs": [],
   "source": [
    "np.diag(tmp_cm).sum()/tmp_cm.sum()"
   ]
  },
  {
   "cell_type": "code",
   "execution_count": null,
   "metadata": {},
   "outputs": [],
   "source": [
    "nbn1.arc_strength_info().head()"
   ]
  },
  {
   "cell_type": "code",
   "execution_count": null,
   "metadata": {},
   "outputs": [],
   "source": [
    "nbn1.arc_strength_info().tail()"
   ]
  },
  {
   "cell_type": "code",
   "execution_count": null,
   "metadata": {},
   "outputs": [],
   "source": [
    "display(HTML(nbn1.dot()._repr_svg_()))"
   ]
  },
  {
   "cell_type": "markdown",
   "metadata": {},
   "source": [
    "### bnlearn via naive.bayes"
   ]
  },
  {
   "cell_type": "code",
   "execution_count": null,
   "metadata": {},
   "outputs": [],
   "source": [
    "mbn = pybnl.bn.MultinomialNB()\n",
    "mbn.fit(ddf_without_null_values[in_vars], ddf_without_null_values[out_var[0]])"
   ]
  },
  {
   "cell_type": "code",
   "execution_count": null,
   "metadata": {},
   "outputs": [],
   "source": [
    "nbn1.arc_strength_info().head()"
   ]
  },
  {
   "cell_type": "code",
   "execution_count": null,
   "metadata": {},
   "outputs": [],
   "source": [
    "tmp_df = pd.DataFrame([\n",
    "    mbn.predict(ddf_without_null_values[in_vars]),\n",
    "    ddf_without_null_values[out_var[0]].reset_index(drop=True),    \n",
    "])\n",
    "tmp_df.head()"
   ]
  },
  {
   "cell_type": "code",
   "execution_count": null,
   "metadata": {},
   "outputs": [],
   "source": [
    "sklearn.metrics.accuracy_score(tmp_df.iloc[:,1], tmp_df.iloc[:,0])"
   ]
  },
  {
   "cell_type": "code",
   "execution_count": null,
   "metadata": {},
   "outputs": [],
   "source": [
    "tmp_cm = sklearn.metrics.confusion_matrix(tmp_df.iloc[:,1], tmp_df.iloc[:,0])\n",
    "tmp_cm"
   ]
  },
  {
   "cell_type": "code",
   "execution_count": null,
   "metadata": {},
   "outputs": [],
   "source": [
    "# display(HTML(mbn.dot()._repr_svg_()))"
   ]
  },
  {
   "cell_type": "code",
   "execution_count": null,
   "metadata": {},
   "outputs": [],
   "source": [
    "mbn.predict_proba(ddf_without_null_values[in_vars]).head()"
   ]
  },
  {
   "cell_type": "code",
   "execution_count": null,
   "metadata": {},
   "outputs": [],
   "source": [
    "tmp_df = pd.DataFrame([\n",
    "    mbn.predict(ddf_without_null_values[in_vars]),\n",
    "    mbn.predict_proba(ddf_without_null_values[in_vars]).max(axis=1).reset_index(drop=True),\n",
    "    ddf_without_null_values[out_var[0]].reset_index(drop=True),\n",
    "    mbn.predict_proba(\n",
    "        ddf_without_null_values[in_vars]\n",
    "    ).values[\n",
    "        np.array(range(len(ddf_without_null_values))).reshape(-1,1),\n",
    "        ddf_without_null_values[out_var[0]].values.codes.reshape(-1,1)\n",
    "    ].reshape(-1)\n",
    "])\n",
    "tmp_df.head()"
   ]
  },
  {
   "cell_type": "markdown",
   "metadata": {},
   "source": [
    "### sklearn MultinomialNB"
   ]
  },
  {
   "cell_type": "code",
   "execution_count": null,
   "metadata": {},
   "outputs": [],
   "source": [
    "clf = sklearn.naive_bayes.MultinomialNB()\n",
    "X_ = ddf_without_null_values[in_vars]\n",
    "X  = X_.apply(lambda x: x.cat.codes, axis=0)\n",
    "y_ = ddf_without_null_values[out_var[0]]\n",
    "y  = y_.cat.codes\n",
    "clf.fit(X, y)\n",
    "# "
   ]
  },
  {
   "cell_type": "code",
   "execution_count": null,
   "metadata": {},
   "outputs": [],
   "source": [
    "tmp_df = pd.DataFrame([\n",
    "    pybnl.bn.from_codes_to_category(\n",
    "        clf.predict(X),y_.dtype),\n",
    "    clf.predict_proba(X).max(axis=1),\n",
    "    y_.reset_index(drop=True),    \n",
    "    clf.predict_proba(X)[np.array(range(len(y))).reshape(-1,1),y.values.reshape(-1,1)].reshape(-1)\n",
    "])\n",
    "tmp_df.head()"
   ]
  },
  {
   "cell_type": "code",
   "execution_count": null,
   "metadata": {},
   "outputs": [],
   "source": [
    "y_.dtype.categories"
   ]
  },
  {
   "cell_type": "code",
   "execution_count": null,
   "metadata": {},
   "outputs": [],
   "source": [
    "sklearn.metrics.accuracy_score(y, clf.predict(X))"
   ]
  },
  {
   "cell_type": "code",
   "execution_count": null,
   "metadata": {},
   "outputs": [],
   "source": [
    "sklearn.metrics.precision_score(y, clf.predict(X), average='micro')"
   ]
  },
  {
   "cell_type": "code",
   "execution_count": null,
   "metadata": {},
   "outputs": [],
   "source": [
    "sklearn.metrics.recall_score(y, clf.predict(X), average='micro')"
   ]
  },
  {
   "cell_type": "code",
   "execution_count": null,
   "metadata": {},
   "outputs": [],
   "source": [
    "sklearn.metrics.f1_score(y, clf.predict(X), average='micro')"
   ]
  },
  {
   "cell_type": "code",
   "execution_count": null,
   "metadata": {},
   "outputs": [],
   "source": [
    "# sklearn.metrics.roc_auc_score(y, tmp_df.iloc[:,3], average='micro')"
   ]
  },
  {
   "cell_type": "code",
   "execution_count": null,
   "metadata": {},
   "outputs": [],
   "source": [
    "# vertically: true label\n",
    "# horizontally: predicted label\n",
    "tmp_cm = sklearn.metrics.confusion_matrix(y, clf.predict(X))\n",
    "tmp_cm"
   ]
  },
  {
   "cell_type": "code",
   "execution_count": null,
   "metadata": {},
   "outputs": [],
   "source": [
    "np.diag(tmp_cm).sum()/tmp_cm.sum()"
   ]
  },
  {
   "cell_type": "markdown",
   "metadata": {},
   "source": [
    "* [Tutorial on MultinomialNB](http://universityofbigdata.net/competition/tutorial/5681717746597888?lang=en)\n",
    "* [Vectorization, Multinomial Naive Bayes Classifier and Evaluation](https://www.ritchieng.com/machine-learning-multinomial-naive-bayes-vectorization/)\n",
    "* [Computing cross-validated metrics](http://scikit-learn.org/stable/modules/cross_validation.html)"
   ]
  },
  {
   "cell_type": "code",
   "execution_count": null,
   "metadata": {},
   "outputs": [],
   "source": [
    "clf_cv = sklearn.naive_bayes.MultinomialNB(alpha=1.0)\n",
    "# scores = sklearn.model_selection.cross_val_score(clf_cv, X, y, cv=10, scoring='accuracy')\n",
    "# cv = sklearn.model_selection.KFold(n_splits=10, shuffle=False, random_state=0)\n",
    "cv = sklearn.model_selection.StratifiedKFold(n_splits=10, shuffle=False, random_state=0)\n",
    "# cv = sklearn.model_selection.ShuffleSplit(n_splits=10, test_size=0.3, random_state=0)\n",
    "scores = sklearn.model_selection.cross_val_score(clf_cv, X, y, cv=cv, scoring='accuracy')\n",
    "np.mean(scores), np.std(scores)"
   ]
  },
  {
   "cell_type": "code",
   "execution_count": null,
   "metadata": {},
   "outputs": [],
   "source": [
    "y_.dtype.categories"
   ]
  },
  {
   "cell_type": "code",
   "execution_count": null,
   "metadata": {},
   "outputs": [],
   "source": [
    "bbt1 = dsbasics.bin.BayesianBlocksBinTransformer(p0=0.01)\n",
    "bbt1.fit(ddf['SalePrice'].values.reshape(-1,1))\n",
    "bbt2 = dsbasics.bin.BayesianBlocksBinTransformer(neg_ln_gamma=30)\n",
    "bbt2.fit(ddf['SalePrice'].values.reshape(-1,1))\n",
    "fig=plt.figure(figsize=(8, 4), dpi= 80, facecolor='w', edgecolor='k')\n",
    "ax = plt.subplot()\n",
    "ax.hist(ddf['SalePrice'], bins=200, histtype='stepfilled', alpha=0.4, density=True);\n",
    "ax.hist(ddf['SalePrice'], bins=bbt2.bins_[0], histtype='step', color='black', density=True);"
   ]
  },
  {
   "cell_type": "code",
   "execution_count": null,
   "metadata": {},
   "outputs": [],
   "source": [
    "ddf_without_null_values_saleprice = ddf.loc[ddf_without_null_values.index]['SalePrice']\n",
    "\n",
    "tmp_saleprice_category_to_mean_mapping = \\\n",
    "    ddf_without_null_values_saleprice.groupby(ddf_without_null_values['SalePrice']).mean()\n",
    "tmp_saleprice_category_to_mean_mapping_dict = \\\n",
    "    dict(zip(tmp_saleprice_category_to_mean_mapping.index, tmp_saleprice_category_to_mean_mapping.values))\n",
    "tmp_saleprice_category_to_mean_mapping"
   ]
  },
  {
   "cell_type": "code",
   "execution_count": null,
   "metadata": {},
   "outputs": [],
   "source": [
    "tmp_y_pred = ddf_without_null_values['SalePrice'].map(tmp_saleprice_category_to_mean_mapping)\n",
    "tmp_y_real = ddf_without_null_values_saleprice\n",
    "tmp_pred_vs_real_df = pd.concat([tmp_y_pred, tmp_y_real], axis=1)\n",
    "tmp_pred_vs_real_df.columns = ['pred', 'real']\n",
    "tmp_pred_vs_real_df.head()"
   ]
  },
  {
   "cell_type": "code",
   "execution_count": null,
   "metadata": {},
   "outputs": [],
   "source": [
    "np.sqrt(sklearn.metrics.mean_squared_error(tmp_pred_vs_real_df.real, tmp_pred_vs_real_df.pred))"
   ]
  },
  {
   "cell_type": "code",
   "execution_count": null,
   "metadata": {},
   "outputs": [],
   "source": [
    "sklearn.metrics.median_absolute_error(tmp_pred_vs_real_df.real, tmp_pred_vs_real_df.pred)"
   ]
  },
  {
   "cell_type": "code",
   "execution_count": null,
   "metadata": {},
   "outputs": [],
   "source": [
    "sklearn.metrics.mean_absolute_error(tmp_pred_vs_real_df.real, tmp_pred_vs_real_df.pred)"
   ]
  },
  {
   "cell_type": "code",
   "execution_count": null,
   "metadata": {},
   "outputs": [],
   "source": [
    "sklearn.metrics.explained_variance_score(tmp_pred_vs_real_df.real, tmp_pred_vs_real_df.pred)"
   ]
  },
  {
   "cell_type": "markdown",
   "metadata": {},
   "source": [
    "## End to end sklearn pipeline"
   ]
  },
  {
   "cell_type": "code",
   "execution_count": null,
   "metadata": {},
   "outputs": [],
   "source": [
    "df.iloc[:5,:15]"
   ]
  },
  {
   "cell_type": "code",
   "execution_count": null,
   "metadata": {},
   "outputs": [],
   "source": [
    "cat_columns = [\n",
    "    'MS SubClass', 'MS Zoning', 'Street', 'Land Contour', 'Lot Config', 'Neighborhood', 'Condition 1', 'Condition 2', 'Bldg Type', 'House Style', #'Alley', \n",
    "    'Roof Style', 'Roof Matl', 'Exterior 1st', 'Exterior 2nd', 'Mas Vnr Type', 'Foundation', 'Heating', 'Central Air', 'Garage Type', 'Misc Feature', 'Sale Type', 'Sale Condition'\n",
    "] + [\n",
    "    'Overall Qual', 'Overall Cond'\n",
    "]\n",
    "cat_columns_ordinal = [\n",
    "    ('Lot Shape',      ['Reg','IR1','IR2','IR3']),\n",
    "    ('Utilities',      ['AllPub','NoSewr','NoSeWa','ELO']),\n",
    "    ('Land Slope',     ['Gtl', 'Mod', 'Sev']),\n",
    "    ('Exter Qual',     ['Ex', 'Gd', 'TA', 'Fa', 'Po']),\n",
    "    ('Exter Cond',     ['Ex', 'Gd', 'TA', 'Fa', 'Po']),\n",
    "    ('Bsmt Qual',      ['Ex', 'Gd', 'TA', 'Fa', 'Po', 'NA']),\n",
    "    ('Bsmt Cond',      ['Ex', 'Gd', 'TA', 'Fa', 'Po', 'NA']),\n",
    "    ('Bsmt Exposure',  ['Gd', 'Av', 'Mn', 'No', 'NA']),\n",
    "    ('BsmtFin Type 1', ['GLQ', 'ALQ', 'BLQ', 'Rec', 'LwQ', 'Unf', 'NA']),\n",
    "    ('BsmtFin Type 2', ['GLQ', 'ALQ', 'BLQ', 'Rec', 'LwQ', 'Unf', 'NA']),\n",
    "    ('Heating QC',     ['Ex', 'Gd', 'TA', 'Fa', 'Po']),\n",
    "    ('Electrical',     ['SBrkr', 'FuseA', 'FuseF', 'FuseP', 'Mix']),\n",
    "    ('Kitchen Qual',   ['Ex', 'Gd', 'TA', 'Fa', 'Po']),\n",
    "    ('Functional',     ['Typ', 'Min1', 'Min2', 'Mod', 'Maj1', 'Maj2', 'Sev', 'Sal']),\n",
    "    ('Fireplace Qu',   ['Ex', 'Gd', 'TA', 'Fa', 'Po', 'NA']),\n",
    "    ('Garage Finish',  ['Fin', 'RFn', 'Unf', 'NA']),\n",
    "    ('Garage Qual',    ['Ex', 'Gd', 'TA', 'Fa', 'Po', 'NA']),\n",
    "    ('Garage Cond',    ['Ex', 'Gd', 'TA', 'Fa', 'Po', 'NA']),\n",
    "    ('Paved Drive',    ['Y', 'P', 'N']),\n",
    "    ('Pool QC',        ['Ex', 'Gd', 'TA', 'Fa', 'NA']),\n",
    "    ('Fence',          ['GdPrv', 'MnPrv', 'GdWo', 'MnWw', 'NA']),\n",
    "]\n",
    "\n",
    "continuous_columns = [\n",
    "    'Lot Frontage', 'Lot Area', 'Mas Vnr Area', 'BsmtFin SF 1', 'BsmtFin SF 2', 'Bsmt Unf SF', 'Total Bsmt SF', '1st Flr SF', '2nd Flr SF', 'Low Qual Fin SF', 'Gr Liv Area', 'Garage Area', 'Wood Deck SF', 'Open Porch SF', 'Enclosed Porch', '3Ssn Porch',\n",
    "    'Screen Porch', 'Pool Area', 'Misc Val', 'SalePrice'\n",
    "]\n",
    "discrete_columns = ['Year Built', 'Year Remod/Add', 'Bsmt Full Bath', 'Bsmt Half Bath', 'Full Bath', 'Half Bath', 'TotRms AbvGrd', 'Fireplaces', 'Garage Yr Blt', 'Garage Cars', 'Mo Sold', 'Yr Sold', 'Bedroom AbvGr', 'Kitchen AbvGr']# do not exist: 'Bedroom',  'Kitchen'\n"
   ]
  },
  {
   "cell_type": "code",
   "execution_count": null,
   "metadata": {},
   "outputs": [],
   "source": [
    "cat_columns_NA = [\n",
    "    ('Misc Feature', ['Shed', 'Gar2', 'Othr', 'TenC', 'Elev', 'NA']),\n",
    "    ('Garage Type', ['Attchd', 'Detchd', 'BuiltIn', 'Basment', '2Types', 'CarPort', 'NA']),\n",
    "]"
   ]
  },
  {
   "cell_type": "code",
   "execution_count": null,
   "metadata": {},
   "outputs": [],
   "source": [
    "df['Garage Type'].value_counts(dropna=False)"
   ]
  },
  {
   "cell_type": "code",
   "execution_count": null,
   "metadata": {},
   "outputs": [],
   "source": [
    "tmp_cat_columns_ordinal = [e for e,_ in cat_columns_ordinal]\n",
    "# tmp_cat_columns_ordinal"
   ]
  },
  {
   "cell_type": "code",
   "execution_count": null,
   "metadata": {},
   "outputs": [],
   "source": [
    "tmp_cat_columns_NA = [(e, 'NA') for e,_ in cat_columns_NA]\n",
    "tmp_cat_columns_NA += [('Bsmt Qual', 'NA'), ('Bsmt Cond', 'NA'), ('Bsmt Exposure', 'NA'), ('BsmtFin Type 1', 'NA'), ('BsmtFin Type 2', 'NA')] # \n",
    "tmp_cat_columns_NA += [('Fireplace Qu', 'NA')]\n",
    "tmp_cat_columns_NA += [('Garage Finish', 'NA'), ('Garage Qual', 'NA'), ('Garage Cond', 'NA'), ('Garage Yr Blt', -1.0)]\n",
    "tmp_cat_columns_NA += [('Mas Vnr Type', 'None'), ['Mas Vnr Area', 0.0]]\n",
    "tmp_cat_columns_NA += [('Pool QC', 'NA')]\n",
    "tmp_cat_columns_NA += [('Fence', 'NA')]\n",
    "tmp_cat_columns_NA += [('Misc Feature', 'NA')]\n",
    "tmp_cat_columns_NA += [('Bsmt Exposure', 'No'), ('BsmtFin Type 2', 'Unf'), ('Bsmt Full Bath', 0.0), ('Bsmt Half Bath', 0.0), ('BsmtFin SF 1', 0.0), ('BsmtFin SF 2', 0.0), ('Bsmt Unf SF', 0.0), ('Total Bsmt SF', 0.0)]\n",
    "tmp_cat_columns_NA += [('Electrical', 'Mix')]\n",
    "tmp_cat_columns_NA"
   ]
  },
  {
   "cell_type": "code",
   "execution_count": null,
   "metadata": {},
   "outputs": [],
   "source": [
    "tmp_cat_columns_ordinal_1 = [(e, l[::-1]) for e,l in cat_columns_ordinal + cat_columns_NA]\n",
    "tmp_levels_map = dict(tmp_cat_columns_ordinal_1)\n",
    "# tmp_levels_map"
   ]
  },
  {
   "cell_type": "code",
   "execution_count": null,
   "metadata": {},
   "outputs": [],
   "source": [
    "metadata = {}\n",
    "it = dsbasics.bin.MetaDataInitTransformer(metadata)\n",
    "\n",
    "dc = dsbasics.bin.DropColumnTransformer(['PID', 'Alley'])\n",
    "\n",
    "ct = dsbasics.bin.CategoricalTransformer(\n",
    "    categorical_columns = cat_columns,\n",
    "    ordered_categorical_columns = tmp_cat_columns_ordinal, \n",
    "    discrete_columns = discrete_columns, \n",
    "    continuous_columns = continuous_columns, \n",
    "    levels_map = tmp_levels_map,\n",
    "    metadata=metadata\n",
    ")\n",
    "\n",
    "tvbt = dsbasics.bin.TargetVariableDecisionTreeBinTransformer(\n",
    "    max_leaf_nodes=3, \n",
    "    binning_variables=target_variable_decision_tree_binning_variables_,\n",
    "    metadata=metadata\n",
    ")\n",
    "\n",
    "pc = dsbasics.bin.PandasCutBinTransformer({'SalePrice': [75000.0, 150000.0, 225000.0, 300000.0]}, metadata=metadata)\n",
    "\n",
    "nt = dsbasics.bin.NullToNATransformer(null_to_NA_columns = tmp_cat_columns_NA, metadata=metadata)\n",
    "\n",
    "lt = dsbasics.bin.CategoryLevelsAsStringsTransformer(metadata=metadata)\n",
    "\n",
    "fn = dsbasics.bin.FilterNullTransformer(metadata=metadata)\n",
    "\n",
    "mbn = pybnl.bn.MultinomialNB()\n",
    "\n",
    "pl = sklearn.pipeline.Pipeline(\n",
    "    memory=None,\n",
    "    steps=[\n",
    "        ('init', it),\n",
    "        ('drop_columns', dc),\n",
    "        ('ct', ct),\n",
    "        ('null_to_NA', nt),\n",
    "        ('target_variable_binning', pc),\n",
    "        ('decision_tree_discretization', tvbt),\n",
    "        ('levels_as_strings', lt),\n",
    "        ('filter_null_rows', fn),\n",
    "])\n",
    "\n",
    "tmp = pl.fit_transform(df.iloc[:,:-1], df.SalePrice)\n",
    "tmp.head()"
   ]
  },
  {
   "cell_type": "code",
   "execution_count": null,
   "metadata": {},
   "outputs": [],
   "source": [
    "ddf_without_null_values.shape"
   ]
  },
  {
   "cell_type": "code",
   "execution_count": null,
   "metadata": {
    "scrolled": true
   },
   "outputs": [],
   "source": [
    "tmp.shape"
   ]
  },
  {
   "cell_type": "code",
   "execution_count": null,
   "metadata": {},
   "outputs": [],
   "source": [
    "for i in range(2438):\n",
    "    idx = ddf_without_null_values.index[i]\n",
    "    row1 = ddf_without_null_values.iloc[:,:-1].loc[idx].reset_index(drop=True)\n",
    "    row2 = tmp.loc[idx].reset_index(drop=True)\n",
    "    if not row1.equals(row2):\n",
    "        print(idx)\n",
    "        break\n",
    "\n",
    "eql=(row1==row2)\n",
    "tmp_cmp = pd.DataFrame(collections.OrderedDict(nm=tmp.columns,row1=row1, row2=row2, eql=eql))\n",
    "tmp_cmp[~tmp_cmp.eql]"
   ]
  },
  {
   "cell_type": "code",
   "execution_count": null,
   "metadata": {},
   "outputs": [],
   "source": [
    "tmp_df = pl.named_steps['target_variable_binning'].df\n",
    "tmp_cmp = pd.DataFrame(collections.OrderedDict(df=df['Mas Vnr Area'],tmp=tmp_df.Mas_Vnr_Area))\n",
    "tmp_cmp['eql'] = tmp_cmp.df == tmp_cmp.tmp\n",
    "tmp_cmp[~tmp_cmp.eql].head()"
   ]
  },
  {
   "cell_type": "code",
   "execution_count": null,
   "metadata": {},
   "outputs": [],
   "source": [
    "tmp_df[['Mas_Vnr_Area', 'SalePrice']].head()"
   ]
  },
  {
   "cell_type": "code",
   "execution_count": null,
   "metadata": {},
   "outputs": [],
   "source": [
    "tvbt_t1 = dsbasics.bin.TargetVariableDecisionTreeBinTransformer(\n",
    "    max_leaf_nodes=3, \n",
    "    binning_variables=['Mas_Vnr_Area'],\n",
    ")\n",
    "tvbt_t1.fit_transform(tmp_df, tmp_df.iloc[:,-1]).Mas_Vnr_Area.head()"
   ]
  },
  {
   "cell_type": "code",
   "execution_count": null,
   "metadata": {},
   "outputs": [],
   "source": [
    "tmp.Mas_Vnr_Area.head()"
   ]
  },
  {
   "cell_type": "code",
   "execution_count": null,
   "metadata": {},
   "outputs": [],
   "source": [
    "ddf_without_null_values.Mas_Vnr_Area.head()"
   ]
  },
  {
   "cell_type": "code",
   "execution_count": null,
   "metadata": {},
   "outputs": [],
   "source": [
    "df['Mas Vnr Area'].value_counts(dropna=False).reset_index().sort_values(['index']).head()"
   ]
  },
  {
   "cell_type": "code",
   "execution_count": null,
   "metadata": {},
   "outputs": [],
   "source": [
    "ddf['Mas_Vnr_Area'].value_counts(dropna=False).reset_index().sort_values(['index']).head()"
   ]
  },
  {
   "cell_type": "code",
   "execution_count": null,
   "metadata": {},
   "outputs": [],
   "source": [
    "tmp_df['Mas_Vnr_Area'].value_counts(dropna=False).reset_index().sort_values(['index']).head()"
   ]
  },
  {
   "cell_type": "code",
   "execution_count": null,
   "metadata": {},
   "outputs": [],
   "source": [
    "# tvbt_t2 = dsbasics.bin.TargetVariableDecisionTreeBinTransformer0(max_leaf_nodes=3)\n",
    "# ddf1.loc[:,target_variable_decision_tree_binning_variables] = \\\n",
    "#     tvbt_t2.fit_transform(ddf[target_variable_decision_tree_binning_variables], ddf1.SalePrice)\n",
    "# ddf1.head()"
   ]
  },
  {
   "cell_type": "code",
   "execution_count": null,
   "metadata": {
    "scrolled": true
   },
   "outputs": [],
   "source": [
    "pl.named_steps['levels_as_strings'].df.Bsmt_Qual.dtype"
   ]
  },
  {
   "cell_type": "code",
   "execution_count": null,
   "metadata": {},
   "outputs": [],
   "source": [
    "null_value_idx = pd.isnull(ddf1.Lot_Frontage) | pd.isnull(ddf1.Garage_Yr_Blt) | pd.isnull(ddf1.Garage_Finish) | \\\n",
    "    pd.isnull(ddf1.Garage_Cars) | pd.isnull(ddf1.Garage_Area) | pd.isnull(ddf1.Garage_Qual) | pd.isnull(ddf1.Garage_Cond)\n",
    "null_value_idx.value_counts()"
   ]
  },
  {
   "cell_type": "code",
   "execution_count": null,
   "metadata": {},
   "outputs": [],
   "source": [
    "pl.named_steps['filter_null_rows'].null_fields"
   ]
  },
  {
   "cell_type": "code",
   "execution_count": null,
   "metadata": {},
   "outputs": [],
   "source": [
    "pl.named_steps['levels_as_strings'].df.SalePrice.dtype"
   ]
  },
  {
   "cell_type": "code",
   "execution_count": null,
   "metadata": {},
   "outputs": [],
   "source": [
    "tmp.Garage_Type.dtype"
   ]
  },
  {
   "cell_type": "code",
   "execution_count": null,
   "metadata": {},
   "outputs": [],
   "source": [
    "tmp.Garage_Type.value_counts(dropna=False)"
   ]
  },
  {
   "cell_type": "code",
   "execution_count": null,
   "metadata": {},
   "outputs": [],
   "source": [
    "tmp.Overall_Qual.dtype"
   ]
  },
  {
   "cell_type": "code",
   "execution_count": null,
   "metadata": {},
   "outputs": [],
   "source": [
    "tmp.Lot_Area.dtype"
   ]
  }
 ],
 "metadata": {
  "kernelspec": {
   "display_name": "Python 3",
   "language": "python",
   "name": "python3"
  },
  "language_info": {
   "codemirror_mode": {
    "name": "ipython",
    "version": 3
   },
   "file_extension": ".py",
   "mimetype": "text/x-python",
   "name": "python",
   "nbconvert_exporter": "python",
   "pygments_lexer": "ipython3",
   "version": "3.6.4"
  }
 },
 "nbformat": 4,
 "nbformat_minor": 2
}
